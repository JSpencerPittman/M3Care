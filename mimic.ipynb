{
 "cells": [
  {
   "cell_type": "markdown",
   "metadata": {},
   "source": [
    "# MIMIC-III M3Care Baseline"
   ]
  },
  {
   "cell_type": "markdown",
   "metadata": {},
   "source": [
    "### Initialize Datasets"
   ]
  },
  {
   "cell_type": "code",
   "execution_count": 1,
   "metadata": {},
   "outputs": [],
   "source": [
    "from pathlib import Path\n",
    "import torch\n",
    "\n",
    "from mimic.datasets.mimic import MimicDataset\n",
    "\n",
    "PROCESSED_DIR = Path('./mimic/data/processed')\n",
    "\n",
    "train_dataset_paths = {\n",
    "    'demographic': PROCESSED_DIR / 'train/demographic.csv',\n",
    "    'vitals': PROCESSED_DIR / 'train/vitals.csv',\n",
    "    'interventions': PROCESSED_DIR / 'train/interventions.csv',\n",
    "    'static_notes': PROCESSED_DIR / 'train/static_notes_bert.h5',\n",
    "    'ts_notes': PROCESSED_DIR / 'train/ts_notes_bert.h5',\n",
    "    'labels': PROCESSED_DIR / 'train/labels.csv'\n",
    "}\n",
    "\n",
    "test_dataset_paths = {\n",
    "    'demographic': PROCESSED_DIR / 'test/demographic.csv',\n",
    "    'vitals': PROCESSED_DIR / 'test/vitals.csv',\n",
    "    'interventions': PROCESSED_DIR / 'test/interventions.csv',\n",
    "    'static_notes': PROCESSED_DIR / 'test/static_notes_bert.h5',\n",
    "    'ts_notes': PROCESSED_DIR / 'test/ts_notes_bert.h5',\n",
    "    'labels': PROCESSED_DIR / 'test/labels.csv'\n",
    "}\n",
    "\n",
    "train_auxillary_paths = {\n",
    "    'pat_ids': PROCESSED_DIR / 'train_idxs.npy',\n",
    "}\n",
    "\n",
    "test_auxillary_paths = {\n",
    "    'pat_ids': PROCESSED_DIR / 'test_idxs.npy',\n",
    "}\n",
    "\n",
    "device = 'cuda' if torch.cuda.is_available() else 'cpu'\n",
    "\n",
    "train_ds = MimicDataset(train_dataset_paths, train_auxillary_paths, device)\n",
    "test_ds = MimicDataset(test_dataset_paths, test_auxillary_paths, device)"
   ]
  },
  {
   "cell_type": "markdown",
   "metadata": {},
   "source": [
    "### Initialize Unimodal Models"
   ]
  },
  {
   "cell_type": "code",
   "execution_count": 2,
   "metadata": {},
   "outputs": [],
   "source": [
    "from m3care.m3care import Modal, M3Care\n",
    "\n",
    "EMB_DIM = 512\n",
    "OUT_DIM = 2\n",
    "DROPOUT = 0.3\n",
    "\n",
    "DEM_INPUT = 18\n",
    "\n",
    "VIT_INPUT = 104\n",
    "VIT_TIME_DIM = 150\n",
    "\n",
    "ITV_INPUT = 14\n",
    "ITV_TIME_DIM = 150\n",
    "\n",
    "NOTES_TOK_DIM = 16\n",
    "NOTES_VOCAB_SIZE = 5000\n",
    "NOTES_NUM_HEADS = 8\n",
    "\n",
    "NST_INPUT = 768\n",
    "NST_WORD_LIM = 10000\n",
    "\n",
    "NTS_INPUT = 782\n",
    "NTS_TIME_DIM = 128\n",
    "NTS_WORD_LIM = 5000"
   ]
  },
  {
   "cell_type": "code",
   "execution_count": 3,
   "metadata": {},
   "outputs": [],
   "source": [
    "from mimic.models.vector import MLP\n",
    "from mimic.models.sequential import SequentialEmbedder\n",
    "\n",
    "dem_model = MLP(in_dim=DEM_INPUT,\n",
    "                hidden_dim=[128,192,256],\n",
    "                out_dim=EMB_DIM, \n",
    "                bias=True,\n",
    "                relu=True,\n",
    "                norm=True)\n",
    "\n",
    "vit_model = SequentialEmbedder(feat_dim=VIT_INPUT,\n",
    "                             embed_dim=EMB_DIM,\n",
    "                             max_len=VIT_TIME_DIM,\n",
    "                             dropout=DROPOUT)\n",
    "\n",
    "itv_model = SequentialEmbedder(feat_dim=ITV_INPUT,\n",
    "                             embed_dim=EMB_DIM,\n",
    "                             max_len=ITV_TIME_DIM,\n",
    "                             dropout=DROPOUT)\n",
    "\n",
    "nst_model = MLP(in_dim=NST_INPUT,\n",
    "                hidden_dim=[1024, 768, 512],\n",
    "                out_dim=EMB_DIM,\n",
    "                bias=True,\n",
    "                relu=True,\n",
    "                norm=True)\n",
    "\n",
    "nts_model = SequentialEmbedder(feat_dim=NTS_INPUT,\n",
    "                               embed_dim=EMB_DIM,\n",
    "                               max_len=NTS_TIME_DIM,\n",
    "                               dropout=DROPOUT,\n",
    "                               mlp_hidden=[1024, 768, 512])"
   ]
  },
  {
   "cell_type": "markdown",
   "metadata": {},
   "source": [
    "## Training Setup"
   ]
  },
  {
   "cell_type": "code",
   "execution_count": 4,
   "metadata": {},
   "outputs": [],
   "source": [
    "import torch\n",
    "\n",
    "KFOLDS = 5\n",
    "BATCH_SIZE = 32\n",
    "LEARNING_RATE = 1e-5\n",
    "EPOCHS = 5\n",
    "UPDATE_FREQ = 10"
   ]
  },
  {
   "cell_type": "markdown",
   "metadata": {},
   "source": [
    "Initalize data loaders"
   ]
  },
  {
   "cell_type": "code",
   "execution_count": 5,
   "metadata": {},
   "outputs": [],
   "source": [
    "from util.kfold import KFoldDatasetLoader\n",
    "\n",
    "train_loader = KFoldDatasetLoader(train_ds, KFOLDS, BATCH_SIZE)\n",
    "test_loader = KFoldDatasetLoader(test_ds, KFOLDS, BATCH_SIZE)"
   ]
  },
  {
   "cell_type": "markdown",
   "metadata": {},
   "source": [
    "Initialize model"
   ]
  },
  {
   "cell_type": "code",
   "execution_count": 6,
   "metadata": {},
   "outputs": [],
   "source": [
    "modals = [\n",
    "    Modal('demographic', dem_model, False, None),   \n",
    "    Modal('vitals', vit_model, True, VIT_TIME_DIM),\n",
    "    Modal('interventions', itv_model, True, ITV_TIME_DIM),\n",
    "    Modal('static_notes', nst_model, True, None),\n",
    "    Modal('ts_notes', nts_model, True, NTS_TIME_DIM)\n",
    "]\n",
    "\n",
    "model = M3Care(modals, EMB_DIM, OUT_DIM, device).to(device)"
   ]
  },
  {
   "cell_type": "markdown",
   "metadata": {},
   "source": [
    "Loss function"
   ]
  },
  {
   "cell_type": "code",
   "execution_count": 7,
   "metadata": {},
   "outputs": [],
   "source": [
    "loss_fn = torch.nn.BCEWithLogitsLoss()"
   ]
  },
  {
   "cell_type": "markdown",
   "metadata": {},
   "source": [
    "Optimizer"
   ]
  },
  {
   "cell_type": "code",
   "execution_count": 8,
   "metadata": {},
   "outputs": [],
   "source": [
    "optimizer = torch.optim.Adam(model.parameters(), lr=LEARNING_RATE)"
   ]
  },
  {
   "cell_type": "markdown",
   "metadata": {},
   "source": [
    "## Training Loop"
   ]
  },
  {
   "cell_type": "code",
   "execution_count": 9,
   "metadata": {},
   "outputs": [
    {
     "data": {
      "text/plain": [
       "<torch.utils.hooks.RemovableHandle at 0x176d1f4ad40>"
      ]
     },
     "execution_count": 9,
     "metadata": {},
     "output_type": "execute_result"
    }
   ],
   "source": [
    "grads_in, grads_out = [], []\n",
    "def save_grad_hook(module, grad_input, grad_output):\n",
    "    grads_in.append(grad_input)\n",
    "    grads_out.append(grad_output)\n",
    "model.mm_tran.register_full_backward_hook(save_grad_hook)"
   ]
  },
  {
   "cell_type": "code",
   "execution_count": 10,
   "metadata": {},
   "outputs": [],
   "source": [
    "from torch.utils import tensorboard as tb\n",
    "from math import ceil\n",
    "\n",
    "def batches_per_epoch(loader: KFoldDatasetLoader):\n",
    "    batch_per_fold = [ceil(sz/loader.batch_size) for sz in loader.fold_sizes]\n",
    "    train_batches = sum([b * (loader.kfolds-1) for b in batch_per_fold])\n",
    "    val_batches = sum(batch_per_fold)\n",
    "    return train_batches, val_batches\n",
    "\n",
    "\n",
    "def train_one_epoch(epoch_idx: int, writer: tb.SummaryWriter):\n",
    "    running_loss = 0\n",
    "    last_train_loss = 0\n",
    "    last_val_loss = 0\n",
    "\n",
    "    cnt_train_batches, cnt_val_batches = batches_per_epoch(train_loader)\n",
    "\n",
    "    # Loop through each set of kfolds\n",
    "    while not train_loader.end:\n",
    "        train_loader.train()\n",
    "\n",
    "        batch_cnt = 0\n",
    "        # Loop through each training batch\n",
    "        while not train_loader.train_round_end:\n",
    "            (batch, mask), batch_size = train_loader.next_batch()\n",
    "            labels = batch['labels']\n",
    "\n",
    "            optimizer.zero_grad()\n",
    "\n",
    "            pred, l_stab = model(batch, mask, batch_size)\n",
    "            loss = loss_fn(pred, labels)\n",
    "            loss.backward()\n",
    "\n",
    "            optimizer.step()\n",
    "\n",
    "            running_loss += loss.item()\n",
    "            \n",
    "            if batch_cnt % UPDATE_FREQ == UPDATE_FREQ-1:\n",
    "                last_train_loss = running_loss / UPDATE_FREQ\n",
    "                print(f'\\tbatch {batch_cnt} loss: {last_train_loss}')\n",
    "                tb_x = epoch_idx * cnt_train_batches + batch_cnt + 1\n",
    "                writer.add_scalar('Loss/train', last_train_loss, tb_x)\n",
    "                writer.flush()\n",
    "                running_loss = 0\n",
    "\n",
    "            batch_cnt += 1\n",
    "\n",
    "        train_loader.val()\n",
    "        model.eval()\n",
    "\n",
    "        batch_cnt = 0\n",
    "        running_loss = 0\n",
    "        # Loop through each validation batch\n",
    "        while not train_loader.val_round_end:\n",
    "            (batch, mask), batch_size = train_loader.next_batch()\n",
    "            labels = batch['labels']\n",
    "\n",
    "            with torch.no_grad():\n",
    "                pred, l_stab = model(batch, mask, batch_size)\n",
    "                loss = loss_fn(pred, labels)\n",
    "\n",
    "            running_loss += loss.item()\n",
    "            batch_cnt += 1\n",
    "\n",
    "        last_val_loss = running_loss / batch_cnt\n",
    "        print(f'LOSS train {last_train_loss} val {last_val_loss}')\n",
    "        writer.add_scalars('Training vs. Validation Loss', {'Training': last_train_loss, 'Validation': last_val_loss}, epoch_idx+1)\n",
    "        writer.flush()\n",
    "\n",
    "    train_loader.reset()\n",
    "\n",
    "    return last_train_loss, last_val_loss"
   ]
  },
  {
   "cell_type": "code",
   "execution_count": 11,
   "metadata": {},
   "outputs": [
    {
     "name": "stdout",
     "output_type": "stream",
     "text": [
      "EPOCH 0:\n"
     ]
    },
    {
     "name": "stderr",
     "output_type": "stream",
     "text": [
      "c:\\Users\\Jason\\Work\\M3Care\\env\\lib\\site-packages\\torch\\nn\\functional.py:5560: UserWarning: 1Torch was not compiled with flash attention. (Triggered internally at C:\\actions-runner\\_work\\pytorch\\pytorch\\builder\\windows\\pytorch\\aten\\src\\ATen\\native\\transformers\\cuda\\sdp_utils.cpp:555.)\n",
      "  attn_output = scaled_dot_product_attention(q, k, v, attn_mask, dropout_p, is_causal)\n"
     ]
    },
    {
     "name": "stdout",
     "output_type": "stream",
     "text": [
      "\tbatch 9 loss: 0.6365278080105782\n",
      "\tbatch 19 loss: 0.456787084043026\n",
      "\tbatch 29 loss: 0.353036367893219\n",
      "\tbatch 39 loss: 0.28532465547323227\n",
      "\tbatch 49 loss: 0.3225106790661812\n",
      "\tbatch 59 loss: 0.28985789865255357\n",
      "\tbatch 69 loss: 0.28094961419701575\n",
      "\tbatch 79 loss: 0.4729249894618988\n",
      "\tbatch 89 loss: 0.3185030981898308\n",
      "\tbatch 99 loss: 0.2772203370928764\n",
      "\tbatch 109 loss: 0.28164172321558\n",
      "\tbatch 119 loss: 0.25359625816345216\n",
      "\tbatch 129 loss: 0.2911166101694107\n",
      "\tbatch 139 loss: 0.23719280809164048\n",
      "\tbatch 149 loss: 0.23426753059029579\n",
      "\tbatch 159 loss: 0.2514107085764408\n",
      "\tbatch 169 loss: 0.28503173142671584\n",
      "\tbatch 179 loss: 0.2600777752697468\n",
      "\tbatch 189 loss: 0.30453898310661315\n"
     ]
    },
    {
     "name": "stderr",
     "output_type": "stream",
     "text": [
      "c:\\Users\\Jason\\Work\\M3Care\\env\\lib\\site-packages\\torch\\autograd\\graph.py:768: UserWarning: Error detected in ScaledDotProductEfficientAttentionBackward0. Traceback of forward call that caused the error:\n",
      "  File \"C:\\Users\\Jason\\AppData\\Local\\Programs\\Python\\Python310\\lib\\runpy.py\", line 196, in _run_module_as_main\n",
      "    return _run_code(code, main_globals, None,\n",
      "  File \"C:\\Users\\Jason\\AppData\\Local\\Programs\\Python\\Python310\\lib\\runpy.py\", line 86, in _run_code\n",
      "    exec(code, run_globals)\n",
      "  File \"c:\\Users\\Jason\\Work\\M3Care\\env\\lib\\site-packages\\ipykernel_launcher.py\", line 17, in <module>\n",
      "    app.launch_new_instance()\n",
      "  File \"c:\\Users\\Jason\\Work\\M3Care\\env\\lib\\site-packages\\traitlets\\config\\application.py\", line 1075, in launch_instance\n",
      "    app.start()\n",
      "  File \"c:\\Users\\Jason\\Work\\M3Care\\env\\lib\\site-packages\\ipykernel\\kernelapp.py\", line 739, in start\n",
      "    self.io_loop.start()\n",
      "  File \"c:\\Users\\Jason\\Work\\M3Care\\env\\lib\\site-packages\\tornado\\platform\\asyncio.py\", line 205, in start\n",
      "    self.asyncio_loop.run_forever()\n",
      "  File \"C:\\Users\\Jason\\AppData\\Local\\Programs\\Python\\Python310\\lib\\asyncio\\base_events.py\", line 600, in run_forever\n",
      "    self._run_once()\n",
      "  File \"C:\\Users\\Jason\\AppData\\Local\\Programs\\Python\\Python310\\lib\\asyncio\\base_events.py\", line 1896, in _run_once\n",
      "    handle._run()\n",
      "  File \"C:\\Users\\Jason\\AppData\\Local\\Programs\\Python\\Python310\\lib\\asyncio\\events.py\", line 80, in _run\n",
      "    self._context.run(self._callback, *self._args)\n",
      "  File \"c:\\Users\\Jason\\Work\\M3Care\\env\\lib\\site-packages\\ipykernel\\kernelbase.py\", line 542, in dispatch_queue\n",
      "    await self.process_one()\n",
      "  File \"c:\\Users\\Jason\\Work\\M3Care\\env\\lib\\site-packages\\ipykernel\\kernelbase.py\", line 531, in process_one\n",
      "    await dispatch(*args)\n",
      "  File \"c:\\Users\\Jason\\Work\\M3Care\\env\\lib\\site-packages\\ipykernel\\kernelbase.py\", line 437, in dispatch_shell\n",
      "    await result\n",
      "  File \"c:\\Users\\Jason\\Work\\M3Care\\env\\lib\\site-packages\\ipykernel\\ipkernel.py\", line 359, in execute_request\n",
      "    await super().execute_request(stream, ident, parent)\n",
      "  File \"c:\\Users\\Jason\\Work\\M3Care\\env\\lib\\site-packages\\ipykernel\\kernelbase.py\", line 775, in execute_request\n",
      "    reply_content = await reply_content\n",
      "  File \"c:\\Users\\Jason\\Work\\M3Care\\env\\lib\\site-packages\\ipykernel\\ipkernel.py\", line 446, in do_execute\n",
      "    res = shell.run_cell(\n",
      "  File \"c:\\Users\\Jason\\Work\\M3Care\\env\\lib\\site-packages\\ipykernel\\zmqshell.py\", line 549, in run_cell\n",
      "    return super().run_cell(*args, **kwargs)\n",
      "  File \"c:\\Users\\Jason\\Work\\M3Care\\env\\lib\\site-packages\\IPython\\core\\interactiveshell.py\", line 3051, in run_cell\n",
      "    result = self._run_cell(\n",
      "  File \"c:\\Users\\Jason\\Work\\M3Care\\env\\lib\\site-packages\\IPython\\core\\interactiveshell.py\", line 3106, in _run_cell\n",
      "    result = runner(coro)\n",
      "  File \"c:\\Users\\Jason\\Work\\M3Care\\env\\lib\\site-packages\\IPython\\core\\async_helpers.py\", line 129, in _pseudo_sync_runner\n",
      "    coro.send(None)\n",
      "  File \"c:\\Users\\Jason\\Work\\M3Care\\env\\lib\\site-packages\\IPython\\core\\interactiveshell.py\", line 3311, in run_cell_async\n",
      "    has_raised = await self.run_ast_nodes(code_ast.body, cell_name,\n",
      "  File \"c:\\Users\\Jason\\Work\\M3Care\\env\\lib\\site-packages\\IPython\\core\\interactiveshell.py\", line 3493, in run_ast_nodes\n",
      "    if await self.run_code(code, result, async_=asy):\n",
      "  File \"c:\\Users\\Jason\\Work\\M3Care\\env\\lib\\site-packages\\IPython\\core\\interactiveshell.py\", line 3553, in run_code\n",
      "    exec(code_obj, self.user_global_ns, self.user_ns)\n",
      "  File \"C:\\Users\\Jason\\AppData\\Local\\Temp\\ipykernel_20548\\1528249112.py\", line 12, in <module>\n",
      "    train_loss, val_loss = train_one_epoch(epoch, writer)\n",
      "  File \"C:\\Users\\Jason\\AppData\\Local\\Temp\\ipykernel_20548\\2465958472.py\", line 30, in train_one_epoch\n",
      "    pred, l_stab = model(batch, mask, batch_size)\n",
      "  File \"c:\\Users\\Jason\\Work\\M3Care\\env\\lib\\site-packages\\torch\\nn\\modules\\module.py\", line 1553, in _wrapped_call_impl\n",
      "    return self._call_impl(*args, **kwargs)\n",
      "  File \"c:\\Users\\Jason\\Work\\M3Care\\env\\lib\\site-packages\\torch\\nn\\modules\\module.py\", line 1562, in _call_impl\n",
      "    return forward_call(*args, **kwargs)\n",
      "  File \"c:\\Users\\Jason\\Work\\M3Care\\m3care\\m3care.py\", line 107, in forward\n",
      "    self._unimodal_feat_extract(modal,\n",
      "  File \"c:\\Users\\Jason\\Work\\M3Care\\m3care\\m3care.py\", line 203, in _unimodal_feat_extract\n",
      "    emb_orig, emb_mask_orig = modal.model(x, mask)\n",
      "  File \"c:\\Users\\Jason\\Work\\M3Care\\env\\lib\\site-packages\\torch\\nn\\modules\\module.py\", line 1553, in _wrapped_call_impl\n",
      "    return self._call_impl(*args, **kwargs)\n",
      "  File \"c:\\Users\\Jason\\Work\\M3Care\\env\\lib\\site-packages\\torch\\nn\\modules\\module.py\", line 1562, in _call_impl\n",
      "    return forward_call(*args, **kwargs)\n",
      "  File \"c:\\Users\\Jason\\Work\\M3Care\\mimic\\models\\sequential.py\", line 111, in forward\n",
      "    emb = self.tran_enc(seqs, src_key_padding_mask=pad_mask)\n",
      "  File \"c:\\Users\\Jason\\Work\\M3Care\\env\\lib\\site-packages\\torch\\nn\\modules\\module.py\", line 1553, in _wrapped_call_impl\n",
      "    return self._call_impl(*args, **kwargs)\n",
      "  File \"c:\\Users\\Jason\\Work\\M3Care\\env\\lib\\site-packages\\torch\\nn\\modules\\module.py\", line 1562, in _call_impl\n",
      "    return forward_call(*args, **kwargs)\n",
      "  File \"c:\\Users\\Jason\\Work\\M3Care\\env\\lib\\site-packages\\torch\\nn\\modules\\transformer.py\", line 416, in forward\n",
      "    output = mod(output, src_mask=mask, is_causal=is_causal, src_key_padding_mask=src_key_padding_mask_for_layers)\n",
      "  File \"c:\\Users\\Jason\\Work\\M3Care\\env\\lib\\site-packages\\torch\\nn\\modules\\module.py\", line 1553, in _wrapped_call_impl\n",
      "    return self._call_impl(*args, **kwargs)\n",
      "  File \"c:\\Users\\Jason\\Work\\M3Care\\env\\lib\\site-packages\\torch\\nn\\modules\\module.py\", line 1562, in _call_impl\n",
      "    return forward_call(*args, **kwargs)\n",
      "  File \"c:\\Users\\Jason\\Work\\M3Care\\env\\lib\\site-packages\\torch\\nn\\modules\\transformer.py\", line 749, in forward\n",
      "    x = self.norm1(x + self._sa_block(x, src_mask, src_key_padding_mask, is_causal=is_causal))\n",
      "  File \"c:\\Users\\Jason\\Work\\M3Care\\env\\lib\\site-packages\\torch\\nn\\modules\\transformer.py\", line 757, in _sa_block\n",
      "    x = self.self_attn(x, x, x,\n",
      "  File \"c:\\Users\\Jason\\Work\\M3Care\\env\\lib\\site-packages\\torch\\nn\\modules\\module.py\", line 1553, in _wrapped_call_impl\n",
      "    return self._call_impl(*args, **kwargs)\n",
      "  File \"c:\\Users\\Jason\\Work\\M3Care\\env\\lib\\site-packages\\torch\\nn\\modules\\module.py\", line 1562, in _call_impl\n",
      "    return forward_call(*args, **kwargs)\n",
      "  File \"c:\\Users\\Jason\\Work\\M3Care\\env\\lib\\site-packages\\torch\\nn\\modules\\activation.py\", line 1275, in forward\n",
      "    attn_output, attn_output_weights = F.multi_head_attention_forward(\n",
      "  File \"c:\\Users\\Jason\\Work\\M3Care\\env\\lib\\site-packages\\torch\\nn\\functional.py\", line 5560, in multi_head_attention_forward\n",
      "    attn_output = scaled_dot_product_attention(q, k, v, attn_mask, dropout_p, is_causal)\n",
      " (Triggered internally at C:\\actions-runner\\_work\\pytorch\\pytorch\\builder\\windows\\pytorch\\torch\\csrc\\autograd\\python_anomaly_mode.cpp:116.)\n",
      "  return Variable._execution_engine.run_backward(  # Calls into the C++ engine to run the backward pass\n"
     ]
    },
    {
     "ename": "RuntimeError",
     "evalue": "Function 'ScaledDotProductEfficientAttentionBackward0' returned nan values in its 0th output.",
     "output_type": "error",
     "traceback": [
      "\u001b[1;31m---------------------------------------------------------------------------\u001b[0m",
      "\u001b[1;31mRuntimeError\u001b[0m                              Traceback (most recent call last)",
      "Cell \u001b[1;32mIn[11], line 12\u001b[0m\n\u001b[0;32m      9\u001b[0m \u001b[38;5;28mprint\u001b[39m(\u001b[38;5;124mf\u001b[39m\u001b[38;5;124m\"\u001b[39m\u001b[38;5;124mEPOCH \u001b[39m\u001b[38;5;132;01m{\u001b[39;00mepoch\u001b[38;5;132;01m}\u001b[39;00m\u001b[38;5;124m:\u001b[39m\u001b[38;5;124m\"\u001b[39m)\n\u001b[0;32m     11\u001b[0m model\u001b[38;5;241m.\u001b[39mtrain(\u001b[38;5;28;01mTrue\u001b[39;00m)\n\u001b[1;32m---> 12\u001b[0m train_loss, val_loss \u001b[38;5;241m=\u001b[39m \u001b[43mtrain_one_epoch\u001b[49m\u001b[43m(\u001b[49m\u001b[43mepoch\u001b[49m\u001b[43m,\u001b[49m\u001b[43m \u001b[49m\u001b[43mwriter\u001b[49m\u001b[43m)\u001b[49m\n\u001b[0;32m     14\u001b[0m \u001b[38;5;28;01mif\u001b[39;00m val_loss \u001b[38;5;241m<\u001b[39m best_loss:\n\u001b[0;32m     15\u001b[0m     best_loss \u001b[38;5;241m=\u001b[39m val_loss\n",
      "Cell \u001b[1;32mIn[10], line 32\u001b[0m, in \u001b[0;36mtrain_one_epoch\u001b[1;34m(epoch_idx, writer)\u001b[0m\n\u001b[0;32m     30\u001b[0m pred, l_stab \u001b[38;5;241m=\u001b[39m model(batch, mask, batch_size)\n\u001b[0;32m     31\u001b[0m loss \u001b[38;5;241m=\u001b[39m loss_fn(pred, labels)\n\u001b[1;32m---> 32\u001b[0m \u001b[43mloss\u001b[49m\u001b[38;5;241;43m.\u001b[39;49m\u001b[43mbackward\u001b[49m\u001b[43m(\u001b[49m\u001b[43m)\u001b[49m\n\u001b[0;32m     34\u001b[0m optimizer\u001b[38;5;241m.\u001b[39mstep()\n\u001b[0;32m     36\u001b[0m running_loss \u001b[38;5;241m+\u001b[39m\u001b[38;5;241m=\u001b[39m loss\u001b[38;5;241m.\u001b[39mitem()\n",
      "File \u001b[1;32mc:\\Users\\Jason\\Work\\M3Care\\env\\lib\\site-packages\\torch\\_tensor.py:521\u001b[0m, in \u001b[0;36mTensor.backward\u001b[1;34m(self, gradient, retain_graph, create_graph, inputs)\u001b[0m\n\u001b[0;32m    511\u001b[0m \u001b[38;5;28;01mif\u001b[39;00m has_torch_function_unary(\u001b[38;5;28mself\u001b[39m):\n\u001b[0;32m    512\u001b[0m     \u001b[38;5;28;01mreturn\u001b[39;00m handle_torch_function(\n\u001b[0;32m    513\u001b[0m         Tensor\u001b[38;5;241m.\u001b[39mbackward,\n\u001b[0;32m    514\u001b[0m         (\u001b[38;5;28mself\u001b[39m,),\n\u001b[1;32m   (...)\u001b[0m\n\u001b[0;32m    519\u001b[0m         inputs\u001b[38;5;241m=\u001b[39minputs,\n\u001b[0;32m    520\u001b[0m     )\n\u001b[1;32m--> 521\u001b[0m \u001b[43mtorch\u001b[49m\u001b[38;5;241;43m.\u001b[39;49m\u001b[43mautograd\u001b[49m\u001b[38;5;241;43m.\u001b[39;49m\u001b[43mbackward\u001b[49m\u001b[43m(\u001b[49m\n\u001b[0;32m    522\u001b[0m \u001b[43m    \u001b[49m\u001b[38;5;28;43mself\u001b[39;49m\u001b[43m,\u001b[49m\u001b[43m \u001b[49m\u001b[43mgradient\u001b[49m\u001b[43m,\u001b[49m\u001b[43m \u001b[49m\u001b[43mretain_graph\u001b[49m\u001b[43m,\u001b[49m\u001b[43m \u001b[49m\u001b[43mcreate_graph\u001b[49m\u001b[43m,\u001b[49m\u001b[43m \u001b[49m\u001b[43minputs\u001b[49m\u001b[38;5;241;43m=\u001b[39;49m\u001b[43minputs\u001b[49m\n\u001b[0;32m    523\u001b[0m \u001b[43m\u001b[49m\u001b[43m)\u001b[49m\n",
      "File \u001b[1;32mc:\\Users\\Jason\\Work\\M3Care\\env\\lib\\site-packages\\torch\\autograd\\__init__.py:289\u001b[0m, in \u001b[0;36mbackward\u001b[1;34m(tensors, grad_tensors, retain_graph, create_graph, grad_variables, inputs)\u001b[0m\n\u001b[0;32m    284\u001b[0m     retain_graph \u001b[38;5;241m=\u001b[39m create_graph\n\u001b[0;32m    286\u001b[0m \u001b[38;5;66;03m# The reason we repeat the same comment below is that\u001b[39;00m\n\u001b[0;32m    287\u001b[0m \u001b[38;5;66;03m# some Python versions print out the first line of a multi-line function\u001b[39;00m\n\u001b[0;32m    288\u001b[0m \u001b[38;5;66;03m# calls in the traceback and some print out the last line\u001b[39;00m\n\u001b[1;32m--> 289\u001b[0m \u001b[43m_engine_run_backward\u001b[49m\u001b[43m(\u001b[49m\n\u001b[0;32m    290\u001b[0m \u001b[43m    \u001b[49m\u001b[43mtensors\u001b[49m\u001b[43m,\u001b[49m\n\u001b[0;32m    291\u001b[0m \u001b[43m    \u001b[49m\u001b[43mgrad_tensors_\u001b[49m\u001b[43m,\u001b[49m\n\u001b[0;32m    292\u001b[0m \u001b[43m    \u001b[49m\u001b[43mretain_graph\u001b[49m\u001b[43m,\u001b[49m\n\u001b[0;32m    293\u001b[0m \u001b[43m    \u001b[49m\u001b[43mcreate_graph\u001b[49m\u001b[43m,\u001b[49m\n\u001b[0;32m    294\u001b[0m \u001b[43m    \u001b[49m\u001b[43minputs\u001b[49m\u001b[43m,\u001b[49m\n\u001b[0;32m    295\u001b[0m \u001b[43m    \u001b[49m\u001b[43mallow_unreachable\u001b[49m\u001b[38;5;241;43m=\u001b[39;49m\u001b[38;5;28;43;01mTrue\u001b[39;49;00m\u001b[43m,\u001b[49m\n\u001b[0;32m    296\u001b[0m \u001b[43m    \u001b[49m\u001b[43maccumulate_grad\u001b[49m\u001b[38;5;241;43m=\u001b[39;49m\u001b[38;5;28;43;01mTrue\u001b[39;49;00m\u001b[43m,\u001b[49m\n\u001b[0;32m    297\u001b[0m \u001b[43m\u001b[49m\u001b[43m)\u001b[49m\n",
      "File \u001b[1;32mc:\\Users\\Jason\\Work\\M3Care\\env\\lib\\site-packages\\torch\\autograd\\graph.py:768\u001b[0m, in \u001b[0;36m_engine_run_backward\u001b[1;34m(t_outputs, *args, **kwargs)\u001b[0m\n\u001b[0;32m    766\u001b[0m     unregister_hooks \u001b[38;5;241m=\u001b[39m _register_logging_hooks_on_whole_graph(t_outputs)\n\u001b[0;32m    767\u001b[0m \u001b[38;5;28;01mtry\u001b[39;00m:\n\u001b[1;32m--> 768\u001b[0m     \u001b[38;5;28;01mreturn\u001b[39;00m Variable\u001b[38;5;241m.\u001b[39m_execution_engine\u001b[38;5;241m.\u001b[39mrun_backward(  \u001b[38;5;66;03m# Calls into the C++ engine to run the backward pass\u001b[39;00m\n\u001b[0;32m    769\u001b[0m         t_outputs, \u001b[38;5;241m*\u001b[39margs, \u001b[38;5;241m*\u001b[39m\u001b[38;5;241m*\u001b[39mkwargs\n\u001b[0;32m    770\u001b[0m     )  \u001b[38;5;66;03m# Calls into the C++ engine to run the backward pass\u001b[39;00m\n\u001b[0;32m    771\u001b[0m \u001b[38;5;28;01mfinally\u001b[39;00m:\n\u001b[0;32m    772\u001b[0m     \u001b[38;5;28;01mif\u001b[39;00m attach_logging_hooks:\n",
      "\u001b[1;31mRuntimeError\u001b[0m: Function 'ScaledDotProductEfficientAttentionBackward0' returned nan values in its 0th output."
     ]
    }
   ],
   "source": [
    "from datetime import datetime\n",
    "from torch.utils import tensorboard as tb\n",
    "timestamp = datetime.now().strftime('%Y%m%d_%H%M%S')\n",
    "writer = tb.SummaryWriter(f'runs/mimic_trainer_{timestamp}')\n",
    "\n",
    "best_loss = 1e10\n",
    "torch.autograd.set_detect_anomaly(True)\n",
    "for epoch in range(EPOCHS):\n",
    "    print(f\"EPOCH {epoch}:\")\n",
    "\n",
    "    model.train(True)\n",
    "    train_loss, val_loss = train_one_epoch(epoch, writer)\n",
    "\n",
    "    if val_loss < best_loss:\n",
    "        best_loss = val_loss\n",
    "        model_path = f'modal_{timestamp}_{epoch}'\n",
    "        torch.save(model.state_dict(), model_path)"
   ]
  },
  {
   "cell_type": "code",
   "execution_count": null,
   "metadata": {},
   "outputs": [
    {
     "data": {
      "image/png": "[encoded data removed]",
      "text/plain": [
       "<Figure size 640x480 with 1 Axes>"
      ]
     },
     "metadata": {},
     "output_type": "display_data"
    }
   ],
   "source": [
    "from matplotlib import pyplot as plt\n",
    "\n",
    "def plot_grads(grads, idx=0):\n",
    "    means = torch.tensor([grad[idx].mean().item() for grad in grads])\n",
    "    stds = torch.tensor([grad[idx].std().item() for grad in grads])\n",
    "    x = torch.arange(len(means))\n",
    "    plt.plot(x, means)\n",
    "    plt.fill_between(x, means+stds, means-stds, alpha=0.2)\n",
    "\n",
    "plot_grads(grads_in)\n"
   ]
  },
  {
   "cell_type": "code",
   "execution_count": null,
   "metadata": {},
   "outputs": [
    {
     "data": {
      "image/png": "[encoded data removed]",
      "text/plain": [
       "<Figure size 640x480 with 1 Axes>"
      ]
     },
     "metadata": {},
     "output_type": "display_data"
    }
   ],
   "source": [
    "plot_grads(grads_out)"
   ]
  },
  {
   "cell_type": "code",
   "execution_count": null,
   "metadata": {},
   "outputs": [],
   "source": []
  }
 ],
 "metadata": {
  "kernelspec": {
   "display_name": "env",
   "language": "python",
   "name": "python3"
  },
  "language_info": {
   "codemirror_mode": {
    "name": "ipython",
    "version": 3
   },
   "file_extension": ".py",
   "mimetype": "text/x-python",
   "name": "python",
   "nbconvert_exporter": "python",
   "pygments_lexer": "ipython3",
   "version": "3.10.7"
  }
 },
 "nbformat": 4,
 "nbformat_minor": 2
}
