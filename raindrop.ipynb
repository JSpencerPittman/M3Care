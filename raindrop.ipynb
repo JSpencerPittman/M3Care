{
 "cells": [
  {
   "cell_type": "code",
   "execution_count": 1,
   "metadata": {},
   "outputs": [],
   "source": [
    "import torch\n",
    "import numpy as np\n",
    "from matplotlib import pyplot as plt"
   ]
  },
  {
   "cell_type": "code",
   "execution_count": 2,
   "metadata": {},
   "outputs": [],
   "source": [
    "x = torch.ones(4,9,3,10)\n",
    "y = torch.ones(3,10,12)"
   ]
  },
  {
   "cell_type": "code",
   "execution_count": 8,
   "metadata": {},
   "outputs": [
    {
     "data": {
      "text/plain": [
       "torch.Size([1, 12])"
      ]
     },
     "execution_count": 8,
     "metadata": {},
     "output_type": "execute_result"
    }
   ],
   "source": [
    "torch.Tensor(1, 3*4).shape"
   ]
  },
  {
   "cell_type": "code",
   "execution_count": 73,
   "metadata": {},
   "outputs": [
    {
     "data": {
      "text/plain": [
       "tensor([[[    nan,  0.0000,  0.0000,  0.0000,  0.0000],\n",
       "         [    inf, 16.0000,  8.0000,  5.3333,  4.0000],\n",
       "         [    inf, 32.0000, 16.0000, 10.6667,  8.0000]],\n",
       "\n",
       "        [[    inf,  4.0000,  2.0000,  1.3333,  1.0000],\n",
       "         [    inf, 20.0000, 10.0000,  6.6667,  5.0000],\n",
       "         [    inf, 36.0000, 18.0000, 12.0000,  9.0000]],\n",
       "\n",
       "        [[    inf,  8.0000,  4.0000,  2.6667,  2.0000],\n",
       "         [    inf, 24.0000, 12.0000,  8.0000,  6.0000],\n",
       "         [    inf, 40.0000, 20.0000, 13.3333, 10.0000]],\n",
       "\n",
       "        [[    inf, 12.0000,  6.0000,  4.0000,  3.0000],\n",
       "         [    inf, 28.0000, 14.0000,  9.3333,  7.0000],\n",
       "         [    inf, 44.0000, 22.0000, 14.6667, 11.0000]]])"
      ]
     },
     "execution_count": 73,
     "metadata": {},
     "output_type": "execute_result"
    }
   ],
   "source": [
    "(y.unsqueeze(-1)/z[None, None, :])"
   ]
  },
  {
   "cell_type": "code",
   "execution_count": 40,
   "metadata": {},
   "outputs": [],
   "source": []
  },
  {
   "cell_type": "code",
   "execution_count": 47,
   "metadata": {},
   "outputs": [
    {
     "data": {
      "text/plain": [
       "tensor([1., 1., 1.])"
      ]
     },
     "execution_count": 47,
     "metadata": {},
     "output_type": "execute_result"
    }
   ],
   "source": [
    "adj = torch.eye(3)\n",
    "edge_idx = adj.nonzero().T\n",
    "adj[edge_idx[0], edge_idx[1]]"
   ]
  },
  {
   "cell_type": "code",
   "execution_count": 16,
   "metadata": {},
   "outputs": [
    {
     "data": {
      "text/plain": [
       "tensor([[[ 0,  0,  0,  0,  1,  1,  1,  1,  2,  2,  2,  2,  3,  3,  3,  3,  4,\n",
       "           4,  4,  4],\n",
       "         [ 5,  5,  5,  5,  6,  6,  6,  6,  7,  7,  7,  7,  8,  8,  8,  8,  9,\n",
       "           9,  9,  9],\n",
       "         [10, 10, 10, 10, 11, 11, 11, 11, 12, 12, 12, 12, 13, 13, 13, 13, 14,\n",
       "          14, 14, 14],\n",
       "         [15, 15, 15, 15, 16, 16, 16, 16, 17, 17, 17, 17, 18, 18, 18, 18, 19,\n",
       "          19, 19, 19]],\n",
       "\n",
       "        [[20, 20, 20, 20, 21, 21, 21, 21, 22, 22, 22, 22, 23, 23, 23, 23, 24,\n",
       "          24, 24, 24],\n",
       "         [25, 25, 25, 25, 26, 26, 26, 26, 27, 27, 27, 27, 28, 28, 28, 28, 29,\n",
       "          29, 29, 29],\n",
       "         [30, 30, 30, 30, 31, 31, 31, 31, 32, 32, 32, 32, 33, 33, 33, 33, 34,\n",
       "          34, 34, 34],\n",
       "         [35, 35, 35, 35, 36, 36, 36, 36, 37, 37, 37, 37, 38, 38, 38, 38, 39,\n",
       "          39, 39, 39]],\n",
       "\n",
       "        [[40, 40, 40, 40, 41, 41, 41, 41, 42, 42, 42, 42, 43, 43, 43, 43, 44,\n",
       "          44, 44, 44],\n",
       "         [45, 45, 45, 45, 46, 46, 46, 46, 47, 47, 47, 47, 48, 48, 48, 48, 49,\n",
       "          49, 49, 49],\n",
       "         [50, 50, 50, 50, 51, 51, 51, 51, 52, 52, 52, 52, 53, 53, 53, 53, 54,\n",
       "          54, 54, 54],\n",
       "         [55, 55, 55, 55, 56, 56, 56, 56, 57, 57, 57, 57, 58, 58, 58, 58, 59,\n",
       "          59, 59, 59]]])"
      ]
     },
     "execution_count": 16,
     "metadata": {},
     "output_type": "execute_result"
    }
   ],
   "source": [
    "torch.repeat_interleave(x, 4, dim=-1)"
   ]
  },
  {
   "cell_type": "code",
   "execution_count": null,
   "metadata": {},
   "outputs": [],
   "source": []
  }
 ],
 "metadata": {
  "kernelspec": {
   "display_name": "m3care",
   "language": "python",
   "name": "m3care"
  },
  "language_info": {
   "codemirror_mode": {
    "name": "ipython",
    "version": 3
   },
   "file_extension": ".py",
   "mimetype": "text/x-python",
   "name": "python",
   "nbconvert_exporter": "python",
   "pygments_lexer": "ipython3",
   "version": "3.12.4"
  }
 },
 "nbformat": 4,
 "nbformat_minor": 2
}
