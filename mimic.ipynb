{
 "cells": [
  {
   "cell_type": "markdown",
   "metadata": {},
   "source": [
    "# MIMIC-III M3Care Baseline"
   ]
  },
  {
   "cell_type": "markdown",
   "metadata": {},
   "source": [
    "## Initialize Dataset"
   ]
  },
  {
   "cell_type": "code",
   "execution_count": 6,
   "metadata": {},
   "outputs": [],
   "source": [
    "from pathlib import Path\n",
    "\n",
    "from mimic.datasets.mimic import MimicDataset\n",
    "\n",
    "PROCESSED_DIR = Path('./mimic/data/processed')\n",
    "\n",
    "dataset_paths = {\n",
    "    'demographic': PROCESSED_DIR / 'test/demographic.csv',\n",
    "    'vitals': PROCESSED_DIR / 'test/vitals.csv',\n",
    "    'interventions': PROCESSED_DIR / 'test/interventions.csv',\n",
    "    'static_notes': PROCESSED_DIR / 'test/static_notes_bert.h5',\n",
    "    # 'ts_notes': PROCESSED_DIR / 'test/notes_ts.h5'\n",
    "}\n",
    "\n",
    "auxillary_paths = {\n",
    "    'pat_ids': PROCESSED_DIR / 'test_idxs.npy',\n",
    "}\n",
    "\n",
    "ds = MimicDataset(dataset_paths, auxillary_paths)"
   ]
  },
  {
   "cell_type": "markdown",
   "metadata": {},
   "source": [
    "## Initialize Models"
   ]
  },
  {
   "cell_type": "code",
   "execution_count": 7,
   "metadata": {},
   "outputs": [],
   "source": [
    "from m3care.m3care import Modal, M3Care\n",
    "\n",
    "EMB_DIM = 512\n",
    "OUT_DIM = 2\n",
    "DROPOUT = 0.3\n",
    "\n",
    "DEM_INPUT = 18\n",
    "\n",
    "VIT_INPUT = 104\n",
    "VIT_TIME_DIM = 150\n",
    "\n",
    "ITV_INPUT = 14\n",
    "ITV_TIME_DIM = 150\n",
    "\n",
    "NOTES_TOK_DIM = 16\n",
    "NOTES_VOCAB_SIZE = 5000\n",
    "NOTES_NUM_HEADS = 8\n",
    "\n",
    "NST_WORD_LIM = 10000\n",
    "\n",
    "NTS_TIME_DIM = 128\n",
    "NTS_WORD_LIM = 5000"
   ]
  },
  {
   "cell_type": "code",
   "execution_count": 10,
   "metadata": {},
   "outputs": [
    {
     "data": {
      "text/plain": [
       "torch.Size([10, 768])"
      ]
     },
     "execution_count": 10,
     "metadata": {},
     "output_type": "execute_result"
    }
   ],
   "source": [
    "ds[0:10][0]['static_notes'].shape"
   ]
  },
  {
   "cell_type": "code",
   "execution_count": 3,
   "metadata": {},
   "outputs": [],
   "source": [
    "from mimic.models.vector import MLP\n",
    "from mimic.models.sequential import SequentialEmbedder\n",
    "from mimic.models.nlp import NLSequenceEmbedder, NLTimeSeriesSequenceEmbedder\n",
    "\n",
    "dem_model = MLP(in_dim=DEM_INPUT,\n",
    "                hidden_dim=[128,192,256],\n",
    "                out_dim=EMB_DIM, \n",
    "                bias=True,\n",
    "                relu=True,\n",
    "                norm=True)\n",
    "\n",
    "vit_model = SequentialEmbedder(feat_dim=VIT_INPUT,\n",
    "                             embed_dim=EMB_DIM,\n",
    "                             max_len=VIT_TIME_DIM,\n",
    "                             dropout=DROPOUT)\n",
    "\n",
    "itv_model = SequentialEmbedder(feat_dim=ITV_INPUT,\n",
    "                             embed_dim=EMB_DIM,\n",
    "                             max_len=ITV_TIME_DIM,\n",
    "                             dropout=DROPOUT)\n",
    "\n",
    "nst_model = MLP(in_dim=768,\n",
    "                hidden_dim=[1024, 768, 512],\n",
    "                out_dim=512,\n",
    "                bias=True,\n",
    "                relu=True,\n",
    "                norm=True)\n",
    "nst_model = NLSequenceEmbedder(vocab=ds.vocab,\n",
    "                               token_dim=NOTES_TOK_DIM,\n",
    "                               embed_dim=EMB_DIM,\n",
    "                               num_heads=NOTES_NUM_HEADS,\n",
    "                               vocab_size=NOTES_VOCAB_SIZE,\n",
    "                               max_len=NST_WORD_LIM,\n",
    "                               dropout=DROPOUT)\n",
    "\n",
    "nts_model = NLTimeSeriesSequenceEmbedder(vocab=ds.vocab,\n",
    "                                         token_dim=NOTES_TOK_DIM,\n",
    "                                         embed_dim=EMB_DIM,\n",
    "                                         num_heads=NOTES_NUM_HEADS,\n",
    "                                         vocab_size=NOTES_VOCAB_SIZE,\n",
    "                                         max_len=NTS_WORD_LIM,\n",
    "                                         dropout=DROPOUT)"
   ]
  },
  {
   "cell_type": "code",
   "execution_count": 4,
   "metadata": {},
   "outputs": [
    {
     "name": "stderr",
     "output_type": "stream",
     "text": [
      "c:\\Users\\Jason\\Work\\M3Care\\env\\lib\\site-packages\\torch\\nn\\modules\\transformer.py:307: UserWarning: enable_nested_tensor is True, but self.use_nested_tensor is False because encoder_layer.self_attn.num_heads is odd\n",
      "  warnings.warn(f\"enable_nested_tensor is True, but self.use_nested_tensor is False because {why_not_sparsity_fast_path}\")\n"
     ]
    }
   ],
   "source": [
    "modals = [\n",
    "    Modal('demographic', dem_model, False, None),   \n",
    "    Modal('vitals', vit_model, True, VIT_TIME_DIM),\n",
    "    Modal('interventions', itv_model, True, ITV_TIME_DIM),\n",
    "    Modal('static_notes', nst_model, True, None),\n",
    "    Modal('ts_notes', nts_model, True, NTS_TIME_DIM)\n",
    "]\n",
    "\n",
    "model = M3Care(modals, EMB_DIM, OUT_DIM, 'cpu')"
   ]
  },
  {
   "cell_type": "code",
   "execution_count": 5,
   "metadata": {},
   "outputs": [],
   "source": [
    "x, masks = ds[0:10]"
   ]
  },
  {
   "cell_type": "code",
   "execution_count": 6,
   "metadata": {},
   "outputs": [],
   "source": [
    "y = model(x, masks, 10)"
   ]
  },
  {
   "cell_type": "code",
   "execution_count": 7,
   "metadata": {},
   "outputs": [
    {
     "data": {
      "text/plain": [
       "(tensor([[-0.3053,  0.1150],\n",
       "         [-0.3278,  0.2367],\n",
       "         [-0.1843,  0.0831],\n",
       "         [-0.0569,  0.1125],\n",
       "         [-0.2555,  0.0998],\n",
       "         [-0.1466,  0.1032],\n",
       "         [-0.2192,  0.1324],\n",
       "         [-0.1943,  0.0857],\n",
       "         [-0.2965,  0.1445],\n",
       "         [-0.2300,  0.2895]], grad_fn=<SqueezeBackward1>),\n",
       " tensor(20149.6914, grad_fn=<AddBackward0>))"
      ]
     },
     "execution_count": 7,
     "metadata": {},
     "output_type": "execute_result"
    }
   ],
   "source": [
    "y"
   ]
  },
  {
   "cell_type": "code",
   "execution_count": null,
   "metadata": {},
   "outputs": [],
   "source": []
  }
 ],
 "metadata": {
  "kernelspec": {
   "display_name": "env",
   "language": "python",
   "name": "python3"
  },
  "language_info": {
   "codemirror_mode": {
    "name": "ipython",
    "version": 3
   },
   "file_extension": ".py",
   "mimetype": "text/x-python",
   "name": "python",
   "nbconvert_exporter": "python",
   "pygments_lexer": "ipython3",
   "version": "3.10.7"
  }
 },
 "nbformat": 4,
 "nbformat_minor": 2
}
