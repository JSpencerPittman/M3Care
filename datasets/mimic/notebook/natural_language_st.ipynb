{
 "cells": [
  {
   "cell_type": "markdown",
   "id": "42dd0982-eb72-479d-8122-f2c8ce7de4c8",
   "metadata": {},
   "source": [
    "## Import Modules"
   ]
  },
  {
   "cell_type": "code",
   "execution_count": 29,
   "id": "6ca09e76-a9cf-4792-a084-8c1ce700c0e3",
   "metadata": {},
   "outputs": [],
   "source": [
    "import torch\n",
    "from torch.utils.data import Dataset\n",
    "from torchvision import datasets\n",
    "from torch.utils.tensorboard import SummaryWriter\n",
    "import matplotlib.pyplot as plt\n",
    "import torch.nn as nn\n",
    "import math\n",
    "import numpy as np\n",
    "from sklearn.model_selection import KFold\n",
    "import pandas as pd"
   ]
  },
  {
   "cell_type": "code",
   "execution_count": 30,
   "id": "e34ad505-cc1a-405c-a0a0-0f16d419dff4",
   "metadata": {},
   "outputs": [],
   "source": [
    "RANDOM_SEED = 42\n",
    "np.random.seed(RANDOM_SEED)"
   ]
  },
  {
   "cell_type": "markdown",
   "id": "86ddaae9-6bed-42b3-bf43-dec51274e221",
   "metadata": {},
   "source": [
    "## Dataset"
   ]
  },
  {
   "cell_type": "code",
   "execution_count": 58,
   "id": "e8e36a81-4f99-4dc4-ab45-efb47b090be9",
   "metadata": {},
   "outputs": [],
   "source": [
    "from torch.utils.data import Dataset\n",
    "from enum import Enum\n",
    "import pandas as pd\n",
    "import numpy as np\n",
    "import os\n",
    "\n",
    "\n",
    "class NotesDataset(Dataset):\n",
    "    def __init__(self, processed_dir: str, train: bool):\n",
    "        self.processed_dir = processed_dir\n",
    "\n",
    "        if train:\n",
    "            self.data_path = os.path.join(self.processed_dir, 'train/')\n",
    "            self.index_path = os.path.join(\n",
    "                self.processed_dir, 'train_idxs.npy')\n",
    "        else:\n",
    "            self.data_path = os.path.join(self.processed_dir, 'test/')\n",
    "            self.index_path = os.path.join(self.processed_dir, 'test_idxs.npy')\n",
    "\n",
    "        try:\n",
    "            self.idxs = np.load(self.index_path)\n",
    "            self.notes = pd.read_csv(\n",
    "                os.path.join(self.data_path, 'notes_static.csv'))\n",
    "            self.labels = pd.read_csv(os.path.join(self.data_path, 'labels.csv'))\n",
    "        except FileNotFoundError as e:\n",
    "            print(\"Make sure data has been processed: \", e)\n",
    "\n",
    "        self.notes.set_index(['pat_id'], inplace=True)\n",
    "        self.labels.set_index('pat_id', inplace=True)\n",
    "\n",
    "        self.ids = set(self.notes.index.values)\n",
    "\n",
    "        self.notes = self.notes.to_dict(orient='index')\n",
    "\n",
    "        self.num_classes = self.labels.shape[1]\n",
    "\n",
    "    def __len__(self):\n",
    "        return len(self.idxs)\n",
    "\n",
    "    def __getitem__(self, idx):\n",
    "        pat_id = self.idxs[idx]\n",
    "\n",
    "        lbl = self.labels.loc[pat_id].values\n",
    "        \n",
    "        if type(pat_id) != np.ndarray:\n",
    "            if pat_id not in self.ids:\n",
    "                return '', lbl\n",
    "            else:\n",
    "                note = self.notes[pat_id]['TEXT']\n",
    "                return note, lbl\n",
    "\n",
    "        pat_ids = pat_id\n",
    "        \n",
    "        notes = list()\n",
    "        for pat_id in pat_ids:\n",
    "            if pat_id in self.ids:\n",
    "                notes.append(self.notes[pat_id]['TEXT'])\n",
    "            else:\n",
    "                notes.append('')\n",
    "\n",
    "        return notes, lbl"
   ]
  },
  {
   "cell_type": "code",
   "execution_count": 64,
   "id": "1440ec47-2e16-4ed1-ba5b-4a0cfccd50d7",
   "metadata": {},
   "outputs": [],
   "source": [
    "train_ds = NotesDataset('../data/processed', True)"
   ]
  }
 ],
 "metadata": {
  "kernelspec": {
   "display_name": "mimic3",
   "language": "python",
   "name": "mimic3"
  },
  "language_info": {
   "codemirror_mode": {
    "name": "ipython",
    "version": 3
   },
   "file_extension": ".py",
   "mimetype": "text/x-python",
   "name": "python",
   "nbconvert_exporter": "python",
   "pygments_lexer": "ipython3",
   "version": "3.10.7"
  }
 },
 "nbformat": 4,
 "nbformat_minor": 5
}
