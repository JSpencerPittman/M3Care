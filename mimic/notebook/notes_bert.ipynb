{
 "cells": [
  {
   "cell_type": "markdown",
   "metadata": {},
   "source": [
    "# Create Note Embeddings"
   ]
  },
  {
   "cell_type": "markdown",
   "metadata": {},
   "source": [
    "### Import Modules"
   ]
  },
  {
   "cell_type": "code",
   "execution_count": 1,
   "metadata": {},
   "outputs": [],
   "source": [
    "import os\n",
    "import re\n",
    "\n",
    "import h5py\n",
    "import nltk\n",
    "import numpy as np\n",
    "import pandas as pd\n",
    "from matplotlib import pyplot as plt\n",
    "from tqdm import tqdm\n",
    "\n",
    "tqdm.pandas()"
   ]
  },
  {
   "cell_type": "markdown",
   "metadata": {},
   "source": [
    "## Load & Prepare ICU Stays Dataset"
   ]
  },
  {
   "cell_type": "code",
   "execution_count": 2,
   "metadata": {},
   "outputs": [
    {
     "name": "stdout",
     "output_type": "stream",
     "text": [
      "<class 'pandas.core.frame.DataFrame'>\n",
      "RangeIndex: 61532 entries, 0 to 61531\n",
      "Data columns (total 12 columns):\n",
      " #   Column          Non-Null Count  Dtype  \n",
      "---  ------          --------------  -----  \n",
      " 0   ROW_ID          61532 non-null  int64  \n",
      " 1   SUBJECT_ID      61532 non-null  int64  \n",
      " 2   HADM_ID         61532 non-null  int64  \n",
      " 3   ICUSTAY_ID      61532 non-null  int64  \n",
      " 4   DBSOURCE        61532 non-null  object \n",
      " 5   FIRST_CAREUNIT  61532 non-null  object \n",
      " 6   LAST_CAREUNIT   61532 non-null  object \n",
      " 7   FIRST_WARDID    61532 non-null  int64  \n",
      " 8   LAST_WARDID     61532 non-null  int64  \n",
      " 9   INTIME          61532 non-null  object \n",
      " 10  OUTTIME         61522 non-null  object \n",
      " 11  LOS             61522 non-null  float64\n",
      "dtypes: float64(1), int64(6), object(5)\n",
      "memory usage: 5.6+ MB\n"
     ]
    }
   ],
   "source": [
    "df_icustays = pd.read_csv('../data/original/ICUSTAYS.csv')\n",
    "df_icustays.info()"
   ]
  },
  {
   "cell_type": "markdown",
   "metadata": {},
   "source": [
    "Format time column and create a date column."
   ]
  },
  {
   "cell_type": "code",
   "execution_count": 3,
   "metadata": {},
   "outputs": [],
   "source": [
    "df_icustays.INTIME = df_icustays.INTIME.astype('datetime64[ns]')\n",
    "df_icustays.OUTTIME = df_icustays.OUTTIME.astype('datetime64[ns]')\n",
    "\n",
    "df_icustays['INDATE'] = df_icustays.INTIME.dt.date.astype('datetime64[ns]')\n",
    "df_icustays['OUTDATE'] = df_icustays.OUTTIME.dt.date.astype('datetime64[ns]')"
   ]
  },
  {
   "cell_type": "markdown",
   "metadata": {},
   "source": [
    "Filter out unecessary data.\n",
    "1. For each patient only their first ICU stay is kept (all hospital admissions besides the first are ignored).\n",
    "2. Remove uneccsary columns.\n",
    "3. Remove entries that are missing an in or out time."
   ]
  },
  {
   "cell_type": "code",
   "execution_count": 4,
   "metadata": {},
   "outputs": [],
   "source": [
    "df_icustays = df_icustays.sort_values(by='INTIME').groupby(['SUBJECT_ID']).first()\n",
    "df_icustays = df_icustays[[\"HADM_ID\",\"ICUSTAY_ID\",\"INTIME\",\"INDATE\",\"OUTTIME\",\"OUTDATE\"]]\n",
    "\n",
    "# Impossible to verify notes belonging to an ICU stay without a time or date\n",
    "df_icustays.dropna(subset=['INTIME','OUTTIME','INDATE','OUTDATE'], inplace=True)"
   ]
  },
  {
   "cell_type": "markdown",
   "metadata": {},
   "source": [
    "Format index to match with the `multi_to_patid` dataset."
   ]
  },
  {
   "cell_type": "code",
   "execution_count": 5,
   "metadata": {},
   "outputs": [],
   "source": [
    "df_icustays.reset_index(inplace=True)\n",
    "df_icustays.set_index(['SUBJECT_ID', 'HADM_ID', 'ICUSTAY_ID'], inplace=True)"
   ]
  },
  {
   "cell_type": "markdown",
   "metadata": {},
   "source": [
    "## Load & Prepare Notes Dataset"
   ]
  },
  {
   "cell_type": "code",
   "execution_count": 6,
   "metadata": {},
   "outputs": [
    {
     "name": "stdout",
     "output_type": "stream",
     "text": [
      "<class 'pandas.core.frame.DataFrame'>\n",
      "RangeIndex: 2083180 entries, 0 to 2083179\n",
      "Data columns (total 11 columns):\n",
      " #   Column       Dtype  \n",
      "---  ------       -----  \n",
      " 0   ROW_ID       int64  \n",
      " 1   SUBJECT_ID   int64  \n",
      " 2   HADM_ID      float64\n",
      " 3   CHARTDATE    object \n",
      " 4   CHARTTIME    object \n",
      " 5   STORETIME    object \n",
      " 6   CATEGORY     object \n",
      " 7   DESCRIPTION  object \n",
      " 8   CGID         float64\n",
      " 9   ISERROR      float64\n",
      " 10  TEXT         object \n",
      "dtypes: float64(3), int64(2), object(6)\n",
      "memory usage: 174.8+ MB\n"
     ]
    }
   ],
   "source": [
    "df_notes = pd.read_csv('../data/original/NOTEEVENTS.csv', low_memory=False)\n",
    "df_notes.info()"
   ]
  },
  {
   "cell_type": "markdown",
   "metadata": {},
   "source": [
    "*Filtering*:\n",
    "1. Keep only the most relevant columns.\n",
    "2. Remove rows with no text records."
   ]
  },
  {
   "cell_type": "code",
   "execution_count": 7,
   "metadata": {},
   "outputs": [
    {
     "data": {
      "text/html": [
       "<div>\n",
       "<style scoped>\n",
       "    .dataframe tbody tr th:only-of-type {\n",
       "        vertical-align: middle;\n",
       "    }\n",
       "\n",
       "    .dataframe tbody tr th {\n",
       "        vertical-align: top;\n",
       "    }\n",
       "\n",
       "    .dataframe thead th {\n",
       "        text-align: right;\n",
       "    }\n",
       "</style>\n",
       "<table border=\"1\" class=\"dataframe\">\n",
       "  <thead>\n",
       "    <tr style=\"text-align: right;\">\n",
       "      <th></th>\n",
       "      <th>SUBJECT_ID</th>\n",
       "      <th>HADM_ID</th>\n",
       "      <th>CHARTDATE</th>\n",
       "      <th>CHARTTIME</th>\n",
       "      <th>CATEGORY</th>\n",
       "      <th>TEXT</th>\n",
       "    </tr>\n",
       "  </thead>\n",
       "  <tbody>\n",
       "    <tr>\n",
       "      <th>0</th>\n",
       "      <td>22532</td>\n",
       "      <td>167853.0</td>\n",
       "      <td>2151-08-04</td>\n",
       "      <td>NaN</td>\n",
       "      <td>Discharge summary</td>\n",
       "      <td>Admission Date:  [**2151-7-16**]       Dischar...</td>\n",
       "    </tr>\n",
       "    <tr>\n",
       "      <th>1</th>\n",
       "      <td>13702</td>\n",
       "      <td>107527.0</td>\n",
       "      <td>2118-06-14</td>\n",
       "      <td>NaN</td>\n",
       "      <td>Discharge summary</td>\n",
       "      <td>Admission Date:  [**2118-6-2**]       Discharg...</td>\n",
       "    </tr>\n",
       "    <tr>\n",
       "      <th>2</th>\n",
       "      <td>13702</td>\n",
       "      <td>167118.0</td>\n",
       "      <td>2119-05-25</td>\n",
       "      <td>NaN</td>\n",
       "      <td>Discharge summary</td>\n",
       "      <td>Admission Date:  [**2119-5-4**]              D...</td>\n",
       "    </tr>\n",
       "    <tr>\n",
       "      <th>3</th>\n",
       "      <td>13702</td>\n",
       "      <td>196489.0</td>\n",
       "      <td>2124-08-18</td>\n",
       "      <td>NaN</td>\n",
       "      <td>Discharge summary</td>\n",
       "      <td>Admission Date:  [**2124-7-21**]              ...</td>\n",
       "    </tr>\n",
       "    <tr>\n",
       "      <th>4</th>\n",
       "      <td>26880</td>\n",
       "      <td>135453.0</td>\n",
       "      <td>2162-03-25</td>\n",
       "      <td>NaN</td>\n",
       "      <td>Discharge summary</td>\n",
       "      <td>Admission Date:  [**2162-3-3**]              D...</td>\n",
       "    </tr>\n",
       "  </tbody>\n",
       "</table>\n",
       "</div>"
      ],
      "text/plain": [
       "   SUBJECT_ID   HADM_ID   CHARTDATE CHARTTIME           CATEGORY  \\\n",
       "0       22532  167853.0  2151-08-04       NaN  Discharge summary   \n",
       "1       13702  107527.0  2118-06-14       NaN  Discharge summary   \n",
       "2       13702  167118.0  2119-05-25       NaN  Discharge summary   \n",
       "3       13702  196489.0  2124-08-18       NaN  Discharge summary   \n",
       "4       26880  135453.0  2162-03-25       NaN  Discharge summary   \n",
       "\n",
       "                                                TEXT  \n",
       "0  Admission Date:  [**2151-7-16**]       Dischar...  \n",
       "1  Admission Date:  [**2118-6-2**]       Discharg...  \n",
       "2  Admission Date:  [**2119-5-4**]              D...  \n",
       "3  Admission Date:  [**2124-7-21**]              ...  \n",
       "4  Admission Date:  [**2162-3-3**]              D...  "
      ]
     },
     "execution_count": 7,
     "metadata": {},
     "output_type": "execute_result"
    }
   ],
   "source": [
    "df_notes = df_notes[['SUBJECT_ID','HADM_ID','CHARTDATE','CHARTTIME','CATEGORY','TEXT']]\n",
    "df_notes.dropna(subset=['TEXT'], inplace=True)\n",
    "df_notes.drop_duplicates(subset=['TEXT'], inplace=True)\n",
    "df_notes.head()"
   ]
  },
  {
   "cell_type": "markdown",
   "metadata": {},
   "source": [
    "Remove spaces from category labels"
   ]
  },
  {
   "cell_type": "code",
   "execution_count": 8,
   "metadata": {},
   "outputs": [],
   "source": [
    "for category in df_notes.CATEGORY.unique():\n",
    "    if len(category.strip()) != len(category):\n",
    "        df_notes.loc[df_notes.CATEGORY == category, 'CATEGORY'] = category.strip()"
   ]
  },
  {
   "cell_type": "markdown",
   "metadata": {},
   "source": [
    "Cast chart date and time columns to `datetime`"
   ]
  },
  {
   "cell_type": "code",
   "execution_count": 9,
   "metadata": {},
   "outputs": [],
   "source": [
    "df_notes.CHARTDATE = df_notes.CHARTDATE.astype('datetime64[ns]')\n",
    "df_notes.CHARTTIME = df_notes.CHARTTIME.astype('datetime64[ns]')"
   ]
  },
  {
   "cell_type": "markdown",
   "metadata": {},
   "source": [
    "Setup index to mirror `multi_to_patid`"
   ]
  },
  {
   "cell_type": "code",
   "execution_count": 10,
   "metadata": {},
   "outputs": [],
   "source": [
    "df_notes.set_index(['SUBJECT_ID','HADM_ID'], inplace=True)"
   ]
  },
  {
   "cell_type": "markdown",
   "metadata": {},
   "source": [
    "## Match up notes with ICUStays"
   ]
  },
  {
   "cell_type": "markdown",
   "metadata": {},
   "source": [
    "Merge ICU information with notes"
   ]
  },
  {
   "cell_type": "code",
   "execution_count": 11,
   "metadata": {},
   "outputs": [],
   "source": [
    "df_notes_icu = df_icustays.copy()\n",
    "df_notes_icu = df_notes_icu.join(df_notes, how='inner')"
   ]
  },
  {
   "cell_type": "markdown",
   "metadata": {},
   "source": [
    "Remove all records that aren't for the first ICU stay. The ICU stays dataframe only contains the first icu stay for each patient, so we just need to verify that the charted time/date of the note is within the time bounds of the matched ICU stay."
   ]
  },
  {
   "cell_type": "code",
   "execution_count": 12,
   "metadata": {},
   "outputs": [],
   "source": [
    "date_val = (df_notes_icu.CHARTDATE >= df_notes_icu.INDATE) & (df_notes_icu.CHARTDATE <= df_notes_icu.OUTDATE)\n",
    "time_val = (df_notes_icu.CHARTTIME >= df_notes_icu.INTIME) & (df_notes_icu.CHARTTIME <= df_notes_icu.OUTTIME)\n",
    "datetime_val = (df_notes_icu.CHARTTIME.isna() & date_val) | (~df_notes_icu.CHARTTIME.isna() & time_val)\n",
    "\n",
    "df_notes_icu = df_notes_icu.loc[datetime_val]"
   ]
  },
  {
   "cell_type": "code",
   "execution_count": 13,
   "metadata": {},
   "outputs": [],
   "source": [
    "del df_notes"
   ]
  },
  {
   "cell_type": "markdown",
   "metadata": {},
   "source": [
    "## Replace index with patient ID"
   ]
  },
  {
   "cell_type": "code",
   "execution_count": 14,
   "metadata": {},
   "outputs": [
    {
     "data": {
      "text/html": [
       "<div>\n",
       "<style scoped>\n",
       "    .dataframe tbody tr th:only-of-type {\n",
       "        vertical-align: middle;\n",
       "    }\n",
       "\n",
       "    .dataframe tbody tr th {\n",
       "        vertical-align: top;\n",
       "    }\n",
       "\n",
       "    .dataframe thead th {\n",
       "        text-align: right;\n",
       "    }\n",
       "</style>\n",
       "<table border=\"1\" class=\"dataframe\">\n",
       "  <thead>\n",
       "    <tr style=\"text-align: right;\">\n",
       "      <th></th>\n",
       "      <th>subject_id</th>\n",
       "      <th>hadm_id</th>\n",
       "      <th>icustay_id</th>\n",
       "      <th>pat_id</th>\n",
       "    </tr>\n",
       "  </thead>\n",
       "  <tbody>\n",
       "    <tr>\n",
       "      <th>0</th>\n",
       "      <td>3</td>\n",
       "      <td>145834</td>\n",
       "      <td>211552</td>\n",
       "      <td>0</td>\n",
       "    </tr>\n",
       "    <tr>\n",
       "      <th>1</th>\n",
       "      <td>4</td>\n",
       "      <td>185777</td>\n",
       "      <td>294638</td>\n",
       "      <td>1</td>\n",
       "    </tr>\n",
       "    <tr>\n",
       "      <th>2</th>\n",
       "      <td>6</td>\n",
       "      <td>107064</td>\n",
       "      <td>228232</td>\n",
       "      <td>2</td>\n",
       "    </tr>\n",
       "    <tr>\n",
       "      <th>3</th>\n",
       "      <td>9</td>\n",
       "      <td>150750</td>\n",
       "      <td>220597</td>\n",
       "      <td>3</td>\n",
       "    </tr>\n",
       "    <tr>\n",
       "      <th>4</th>\n",
       "      <td>11</td>\n",
       "      <td>194540</td>\n",
       "      <td>229441</td>\n",
       "      <td>4</td>\n",
       "    </tr>\n",
       "  </tbody>\n",
       "</table>\n",
       "</div>"
      ],
      "text/plain": [
       "   subject_id  hadm_id  icustay_id  pat_id\n",
       "0           3   145834      211552       0\n",
       "1           4   185777      294638       1\n",
       "2           6   107064      228232       2\n",
       "3           9   150750      220597       3\n",
       "4          11   194540      229441       4"
      ]
     },
     "execution_count": 14,
     "metadata": {},
     "output_type": "execute_result"
    }
   ],
   "source": [
    "multi_to_patid = pd.read_csv('../data/processed/multi_to_patid.csv')\n",
    "multi_to_patid.head()"
   ]
  },
  {
   "cell_type": "code",
   "execution_count": 15,
   "metadata": {},
   "outputs": [],
   "source": [
    "multi_to_patid.set_index(['subject_id','hadm_id','icustay_id'], inplace=True)\n",
    "df_notes_icu.index.names = ['subject_id','hadm_id','icustay_id']\n",
    "df_notes_icu = multi_to_patid.join(df_notes_icu, how='left')\n",
    "df_notes_icu.set_index('pat_id', inplace=True)"
   ]
  },
  {
   "cell_type": "markdown",
   "metadata": {},
   "source": [
    "Some rows get null time/dates after the swap (less than a thousand)."
   ]
  },
  {
   "cell_type": "code",
   "execution_count": 16,
   "metadata": {},
   "outputs": [],
   "source": [
    "df_notes_icu.dropna(subset=['INTIME','OUTTIME','INDATE','OUTDATE'], inplace=True)"
   ]
  },
  {
   "cell_type": "markdown",
   "metadata": {},
   "source": [
    "## Split Static (Discharge) from Time-Series Notes"
   ]
  },
  {
   "cell_type": "code",
   "execution_count": 17,
   "metadata": {},
   "outputs": [],
   "source": [
    "df_static_notes = df_notes_icu.loc[df_notes_icu.CATEGORY == 'Discharge summary', :].copy()\n",
    "df_ts_notes = df_notes_icu.loc[~(df_notes_icu.CATEGORY == 'Discharge summary'), :].copy()\n",
    "del df_notes_icu"
   ]
  },
  {
   "cell_type": "markdown",
   "metadata": {},
   "source": [
    "## Clean up Static Notes"
   ]
  },
  {
   "cell_type": "code",
   "execution_count": 18,
   "metadata": {},
   "outputs": [],
   "source": [
    "STATIC_SEP_TOKEN = 'STATIC_SEP'\n",
    "df_static_notes = df_static_notes.groupby('pat_id').TEXT.agg(lambda txts: f\" {STATIC_SEP_TOKEN} \".join(txts))"
   ]
  },
  {
   "cell_type": "markdown",
   "metadata": {},
   "source": [
    "## Clean up Time-Series Notes"
   ]
  },
  {
   "cell_type": "markdown",
   "metadata": {},
   "source": [
    "Impute a `CHARTTIME` for `ECG` and `Echo` text records.\n",
    "1. If `CHARTDATE` is `INDATE` -> `INTIME`\n",
    "2. IF `CHARTDATE` is not `INDATE` or `ENDATE` -> `INTIME`\n",
    "3. IF `CHARTDATE` is `ENDDATE` -> `min(INTIME, OUTTIME)`\n",
    "\n",
    "Note the date will still be `CHARTDATE`, we're only using the time portion of the `INTIME` and `OUTTIME` values."
   ]
  },
  {
   "cell_type": "code",
   "execution_count": 19,
   "metadata": {},
   "outputs": [],
   "source": [
    "def impute_charttime(row: pd.Series) -> pd.Timestamp:\n",
    "    if row.CHARTDATE != row.OUTDATE:\n",
    "        charttime = row.INTIME.time()\n",
    "    else:\n",
    "        charttime = min(row.INTIME.time(), row.OUTTIME.time())\n",
    "    return pd.Timestamp.combine(row.CHARTDATE.date(), charttime)\n",
    "\n",
    "df_ts_notes.loc[df_ts_notes.CHARTTIME.isna(), 'CHARTTIME'] = df_ts_notes.loc[df_ts_notes.CHARTTIME.isna()].apply(impute_charttime, axis=1)"
   ]
  },
  {
   "cell_type": "markdown",
   "metadata": {},
   "source": [
    "Create the `HOURS_IN` column and add it to the index.\n",
    "Then remove all of the unecessary time and date information."
   ]
  },
  {
   "cell_type": "code",
   "execution_count": 20,
   "metadata": {},
   "outputs": [],
   "source": [
    "df_ts_notes['hours_in'] = (df_ts_notes.CHARTTIME - df_ts_notes.INTIME) // pd.Timedelta(hours=1)\n",
    "df_ts_notes = df_ts_notes.reset_index().set_index(['pat_id','hours_in'])\n",
    "df_ts_notes = df_ts_notes[['CATEGORY','TEXT']]"
   ]
  },
  {
   "cell_type": "markdown",
   "metadata": {},
   "source": [
    "## Find the ideal limit for `HOURS_IN`"
   ]
  },
  {
   "cell_type": "markdown",
   "metadata": {},
   "source": [
    "Find each patients max for `HOURS_IN`"
   ]
  },
  {
   "cell_type": "code",
   "execution_count": 21,
   "metadata": {},
   "outputs": [],
   "source": [
    "max_hi = {}\n",
    "for pat_id, hours_in in df_ts_notes.index:\n",
    "    max_hi[pat_id] = hours_in if pat_id not in max_hi else max(max_hi[pat_id], hours_in)\n",
    "max_hi = np.array(list(max_hi.values()))"
   ]
  },
  {
   "cell_type": "code",
   "execution_count": 22,
   "metadata": {},
   "outputs": [
    {
     "data": {
      "image/png": "[encoded data removed]",
      "text/plain": [
       "<Figure size 640x480 with 1 Axes>"
      ]
     },
     "metadata": {},
     "output_type": "display_data"
    },
    {
     "name": "stdout",
     "output_type": "stream",
     "text": [
      "Mean: 54.578\n",
      "10% Percentile: 13.000\n",
      "50% Percentile: 40.000\n",
      "90% Percentile: 123.000\n"
     ]
    }
   ],
   "source": [
    "percentiles = [10, 50, 90]\n",
    "max_mean, max_percs = max_hi.mean(), [np.percentile(max_hi, p) for p in percentiles]\n",
    "\n",
    "# Plot histogram\n",
    "bin_vals, _, _ = plt.hist(max_hi, bins=30)\n",
    "x_top, y_top = max(max_hi), max(bin_vals)\n",
    "plt.xlim([0,x_top])\n",
    "plt.ylim([0,y_top])\n",
    "\n",
    "# Plot mean and percentile lines.\n",
    "plt.plot([max_mean, max_mean],[0, y_top], label='Mean', linewidth=2)\n",
    "for dist_perc, perc in zip(max_percs, percentiles):\n",
    "    plt.plot([dist_perc, dist_perc],[0,y_top], '--', label='p%d%%' % perc, linewidth=2)\n",
    "\n",
    "plt.title(\"Max HOURS_IN for each patient.\")\n",
    "plt.legend()\n",
    "plt.show()\n",
    "\n",
    "print(\"Mean: %.3f\" % max_mean)\n",
    "for dist_perc, perc in zip(max_percs, percentiles):\n",
    "    print(\"%d%% Percentile: %.3f\" % (perc, dist_perc))"
   ]
  },
  {
   "cell_type": "code",
   "execution_count": 23,
   "metadata": {},
   "outputs": [],
   "source": [
    "HOURS_IN_MAX = 128\n",
    "df_ts_notes = df_ts_notes.loc[df_ts_notes.index.get_level_values(1) < HOURS_IN_MAX]"
   ]
  },
  {
   "cell_type": "markdown",
   "metadata": {},
   "source": [
    "## Save Categories"
   ]
  },
  {
   "cell_type": "code",
   "execution_count": 26,
   "metadata": {},
   "outputs": [],
   "source": [
    "cat2ohe = {cat: idx for idx, cat in enumerate(df_ts_notes.CATEGORY.unique())}"
   ]
  },
  {
   "cell_type": "markdown",
   "metadata": {},
   "source": [
    "## Clean Text"
   ]
  },
  {
   "cell_type": "code",
   "execution_count": 28,
   "metadata": {},
   "outputs": [],
   "source": [
    "def clean_text(txt: str):\n",
    "    # Remove dates and subtext\n",
    "    clean = re.sub(\" ?\\[\\*\\*[^\\*]*\\*\\*\\] ?\", '', txt)\n",
    "    # Remove newlines\n",
    "    clean = re.sub('\\n', ' ', clean)\n",
    "    # Remove multiple consecutive spaces\n",
    "    clean = re.sub('  *', ' ', clean)\n",
    "    # Remove horizontal lines\n",
    "    clean = re.sub('_{2,}', '', clean)\n",
    "    return clean"
   ]
  },
  {
   "cell_type": "code",
   "execution_count": 29,
   "metadata": {},
   "outputs": [
    {
     "name": "stderr",
     "output_type": "stream",
     "text": [
      "100%|██████████| 4312/4312 [00:01<00:00, 4280.93it/s]\n",
      "100%|██████████| 430550/430550 [00:23<00:00, 18338.61it/s]\n"
     ]
    }
   ],
   "source": [
    "df_static_notes = df_static_notes.progress_map(clean_text)\n",
    "df_ts_notes.TEXT = df_ts_notes.TEXT.progress_map(clean_text)"
   ]
  },
  {
   "cell_type": "code",
   "execution_count": 30,
   "metadata": {},
   "outputs": [],
   "source": [
    "df_ts_notes = df_ts_notes.groupby(['pat_id', 'hours_in']).agg(lambda txts: \" [SEP] \".join(txts))"
   ]
  },
  {
   "cell_type": "markdown",
   "metadata": {},
   "source": [
    "## Split Notes by Train and Test"
   ]
  },
  {
   "cell_type": "code",
   "execution_count": 31,
   "metadata": {},
   "outputs": [],
   "source": [
    "processed_dir = '../data/processed/'\n",
    "train_idxs = set(np.load(os.path.join(processed_dir, 'train_idxs.npy')))\n",
    "test_idxs = set(np.load(os.path.join(processed_dir, 'test_idxs.npy')))\n",
    "\n",
    "static_idxs = set(df_static_notes.index.values)\n",
    "ts_idxs = set(df_ts_notes.index.get_level_values(0).values)\n",
    "\n",
    "train_idxs_static = list(static_idxs & train_idxs)\n",
    "test_idxs_static = list(static_idxs & test_idxs)\n",
    "\n",
    "train_idxs_ts = list(ts_idxs & train_idxs)\n",
    "test_idxs_ts = list(ts_idxs & test_idxs)"
   ]
  },
  {
   "cell_type": "code",
   "execution_count": 32,
   "metadata": {},
   "outputs": [],
   "source": [
    "df_static_train = df_static_notes.loc[train_idxs_static].copy()\n",
    "df_static_test = df_static_notes.loc[test_idxs_static].copy()\n",
    "df_ts_train = df_ts_notes.loc[train_idxs_ts].copy()\n",
    "df_ts_test = df_ts_notes.loc[test_idxs_ts].copy()"
   ]
  },
  {
   "cell_type": "code",
   "execution_count": 33,
   "metadata": {},
   "outputs": [],
   "source": [
    "del df_static_notes\n",
    "del df_ts_notes"
   ]
  },
  {
   "cell_type": "markdown",
   "metadata": {},
   "source": [
    "## Create Embeddings with BERT"
   ]
  },
  {
   "cell_type": "code",
   "execution_count": 34,
   "metadata": {},
   "outputs": [
    {
     "name": "stderr",
     "output_type": "stream",
     "text": [
      "c:\\Users\\Jason\\Work\\M3Care\\env\\lib\\site-packages\\transformers\\tokenization_utils_base.py:1601: FutureWarning: `clean_up_tokenization_spaces` was not set. It will be set to `True` by default. This behavior will be depracted in transformers v4.45, and will be then set to `False` by default. For more details check this issue: https://github.com/huggingface/transformers/issues/31884\n",
      "  warnings.warn(\n"
     ]
    }
   ],
   "source": [
    "from transformers import BertTokenizer, BertModel\n",
    "import torch\n",
    "device = 'cuda' if torch.cuda.is_available() else 'cpu'\n",
    "tokenizer = BertTokenizer.from_pretrained('bert-base-uncased')\n",
    "bert = BertModel.from_pretrained(\"bert-base-uncased\").to(device)"
   ]
  },
  {
   "cell_type": "code",
   "execution_count": 35,
   "metadata": {},
   "outputs": [
    {
     "data": {
      "text/plain": [
       "BertModel(\n",
       "  (embeddings): BertEmbeddings(\n",
       "    (word_embeddings): Embedding(30522, 768, padding_idx=0)\n",
       "    (position_embeddings): Embedding(512, 768)\n",
       "    (token_type_embeddings): Embedding(2, 768)\n",
       "    (LayerNorm): LayerNorm((768,), eps=1e-12, elementwise_affine=True)\n",
       "    (dropout): Dropout(p=0.1, inplace=False)\n",
       "  )\n",
       "  (encoder): BertEncoder(\n",
       "    (layer): ModuleList(\n",
       "      (0-11): 12 x BertLayer(\n",
       "        (attention): BertAttention(\n",
       "          (self): BertSdpaSelfAttention(\n",
       "            (query): Linear(in_features=768, out_features=768, bias=True)\n",
       "            (key): Linear(in_features=768, out_features=768, bias=True)\n",
       "            (value): Linear(in_features=768, out_features=768, bias=True)\n",
       "            (dropout): Dropout(p=0.1, inplace=False)\n",
       "          )\n",
       "          (output): BertSelfOutput(\n",
       "            (dense): Linear(in_features=768, out_features=768, bias=True)\n",
       "            (LayerNorm): LayerNorm((768,), eps=1e-12, elementwise_affine=True)\n",
       "            (dropout): Dropout(p=0.1, inplace=False)\n",
       "          )\n",
       "        )\n",
       "        (intermediate): BertIntermediate(\n",
       "          (dense): Linear(in_features=768, out_features=3072, bias=True)\n",
       "          (intermediate_act_fn): GELUActivation()\n",
       "        )\n",
       "        (output): BertOutput(\n",
       "          (dense): Linear(in_features=3072, out_features=768, bias=True)\n",
       "          (LayerNorm): LayerNorm((768,), eps=1e-12, elementwise_affine=True)\n",
       "          (dropout): Dropout(p=0.1, inplace=False)\n",
       "        )\n",
       "      )\n",
       "    )\n",
       "  )\n",
       "  (pooler): BertPooler(\n",
       "    (dense): Linear(in_features=768, out_features=768, bias=True)\n",
       "    (activation): Tanh()\n",
       "  )\n",
       ")"
      ]
     },
     "execution_count": 35,
     "metadata": {},
     "output_type": "execute_result"
    }
   ],
   "source": [
    "for param in bert.parameters():\n",
    "    param.requires_grad = False\n",
    "\n",
    "bert.eval()"
   ]
  },
  {
   "cell_type": "code",
   "execution_count": 36,
   "metadata": {},
   "outputs": [],
   "source": [
    "from typing import Literal\n",
    "from torch import Tensor\n",
    "import torch\n",
    "import math\n",
    "\n",
    "def window_split(tokens: list[int], max_len: int = 512, cls_tok_id: int = 101, sep_tok_id: int = 102) -> Tensor:\n",
    "    num_toks = len(tokens)\n",
    "    tokens = torch.tensor(tokens, dtype=torch.int64, device=device)\n",
    "\n",
    "    if num_toks <= max_len:\n",
    "        padded = torch.zeros(1, max_len, dtype=torch.int64, device=device)\n",
    "        att_mask = torch.zeros_like(padded)\n",
    "        padded[0, :num_toks], att_mask[0, :num_toks] = tokens, 1\n",
    "        return padded, att_mask\n",
    "\n",
    "    window_size = max_len - 2\n",
    "    num_windows = math.ceil((num_toks - 2) / (window_size))\n",
    "\n",
    "    windows = torch.zeros(num_windows, max_len, dtype=torch.int64, device=device)\n",
    "    windows[:, 0] = cls_tok_id\n",
    "    windows[:, -1] = sep_tok_id\n",
    "\n",
    "    for widx in range(num_windows):\n",
    "        st_idx = 1 + (widx * window_size)\n",
    "        ed_idx = st_idx + window_size\n",
    "        \n",
    "        if ed_idx >= num_toks:\n",
    "            shift = ed_idx - num_toks + 1\n",
    "            st_idx, ed_idx = st_idx-shift, ed_idx-shift\n",
    "        windows[widx, 1:-1] = tokens[st_idx:ed_idx]\n",
    "\n",
    "    att_mask = torch.ones_like(windows)\n",
    "\n",
    "    return windows, att_mask\n",
    "\n",
    "\n",
    "def tokenize(texts: pd.Series, max_len=512):\n",
    "    texts = texts.tolist()\n",
    "    tokens = tokenizer(texts)['input_ids']\n",
    "    \n",
    "    windows, att_masks, win_cnts = [], [], []\n",
    "    for toks in tokens:\n",
    "        win_splits, att_mask = window_split(toks, max_len=max_len)\n",
    "        windows.append(win_splits)\n",
    "        att_masks.append(att_mask)\n",
    "        win_cnts.append(win_splits.shape[0])\n",
    "\n",
    "    windows = torch.concat(windows, dim=0)\n",
    "    att_masks = torch.concat(att_masks, dim=0)\n",
    "    win_cnts = torch.tensor(win_cnts, device=device)\n",
    "\n",
    "    return windows, att_masks, win_cnts\n",
    "\n",
    "def unify_windows(embeddings: Tensor, win_cnts: Tensor, method: Literal['mean'] | Literal['max'] = 'mean'):\n",
    "    num_embed, embed_dim = len(win_cnts), embeddings.shape[1]\n",
    "\n",
    "    unified = torch.zeros(num_embed, embed_dim, device=device)\n",
    "    embed_to_unified = [i for i, v in enumerate(win_cnts) for _ in range(v)]\n",
    "\n",
    "    for embed_idx, e2u in enumerate(embed_to_unified):\n",
    "        if method == 'mean':\n",
    "            unified[e2u] += embeddings[embed_idx]\n",
    "        else:\n",
    "            unified[e2u] = torch.max(unified[e2u], embeddings[embed_idx])\n",
    "\n",
    "    if method == 'mean':\n",
    "        unified /= win_cnts.unsqueeze(-1)\n",
    "\n",
    "    return unified\n",
    "\n"
   ]
  },
  {
   "cell_type": "code",
   "execution_count": 37,
   "metadata": {},
   "outputs": [],
   "source": [
    "from pathlib import Path\n",
    "\n",
    "class H5FileManager(object):\n",
    "    def __init__(self, path: str | Path):\n",
    "        self.path = Path(path)\n",
    "\n",
    "        if self.path.suffix != '.h5':\n",
    "            raise ValueError(\"H5FileManager: Provided path must be to a `h5` file.\")\n",
    "        if not self.path.exists():\n",
    "            with h5py.File(self.path, 'w') as _:\n",
    "                self.groups = set()\n",
    "        else:\n",
    "            with h5py.File(self.path, 'r') as f:\n",
    "                self.groups = set(f.keys())\n",
    "\n",
    "    def save(self, group: str, dataset_name: str, data: Tensor):\n",
    "        with h5py.File(self.path, 'a') as f:\n",
    "            if group not in self.groups:\n",
    "                f.create_group(group)\n",
    "                self.groups.add(group)\n",
    "            f[group].create_dataset(dataset_name, data=data)\n",
    "\n",
    "    def agg_save(self, groups: list[str], dataset_names: list[str], data: Tensor):\n",
    "        with h5py.File(self.path, 'a') as f:\n",
    "            for group, dataset_name, datum in zip(groups, dataset_names, data):\n",
    "                if group not in self.groups:\n",
    "                    f.create_group(group)\n",
    "                    self.groups.add(group)\n",
    "                f[group].create_dataset(dataset_name, data=datum)"
   ]
  },
  {
   "cell_type": "code",
   "execution_count": 39,
   "metadata": {},
   "outputs": [],
   "source": [
    "def ohe_categories(categories: pd.Series):\n",
    "    num_cats = len(cat2ohe)\n",
    "\n",
    "    ohe = torch.zeros(len(categories), num_cats, dtype=torch.int64).to(device)\n",
    "    \n",
    "    for eidx, entry in enumerate(categories):\n",
    "        for cat in entry.split(' [SEP] '):\n",
    "            ohe[eidx, cat2ohe[cat]] = 1\n",
    "\n",
    "    return ohe\n",
    "\n",
    "def embed_static(notes: pd.Series):\n",
    "    windows, att_masks, win_cnts = tokenize(notes)\n",
    "    with torch.no_grad():\n",
    "        embeddings = bert(windows, att_masks).pooler_output\n",
    "    embeddings = unify_windows(embeddings, win_cnts)\n",
    "\n",
    "    return embeddings\n",
    "\n",
    "def embed_ts(notes: pd.DataFrame):\n",
    "    windows, att_masks, win_cnts = tokenize(notes.TEXT)\n",
    "    with torch.no_grad():\n",
    "        embeddings = bert(windows, att_masks).pooler_output\n",
    "    embeddings = unify_windows(embeddings, win_cnts)\n",
    "\n",
    "    ohe = ohe_categories(notes.CATEGORY)\n",
    "    embeddings = torch.concat([embeddings, ohe], dim=1)\n",
    "\n",
    "    return embeddings"
   ]
  },
  {
   "cell_type": "code",
   "execution_count": 44,
   "metadata": {},
   "outputs": [],
   "source": [
    "def embed_and_save_static(s: pd.Series, batch_size: int, path: Path | str):\n",
    "    num_samples = s.shape[0]\n",
    "    num_batches = math.ceil(num_samples / batch_size)\n",
    "    fm = H5FileManager(path)\n",
    "\n",
    "    for bidx in tqdm(range(num_batches)):\n",
    "        sub = s.iloc[(si := bidx*batch_size):(si+batch_size)]\n",
    "        emb = embed_static(sub).cpu().numpy()\n",
    "        groups = [f\"pat_id_{pid}\" for pid in sub.index]\n",
    "        fm.agg_save(groups, 'discharge', emb)\n",
    "        torch.cuda.empty_cache()\n",
    "\n",
    "def embed_and_save_ts(df: pd.DataFrame, batch_size: int, path: Path | str):\n",
    "    num_samples = df.shape[0]\n",
    "    num_batches = math.ceil(num_samples / batch_size)\n",
    "    fm = H5FileManager(path)\n",
    "\n",
    "    for bidx in tqdm(range(num_batches)):\n",
    "        sub = df.iloc[(si := bidx*batch_size):(si+batch_size)]\n",
    "        emb = embed_ts(sub).cpu().numpy()\n",
    "        groups = [f\"pat_id_{pid}\" for pid, _ in sub.index]\n",
    "        times = [f\"time_{tm}\" for _, tm in sub.index]\n",
    "        fm.agg_save(groups, times, emb)\n",
    "        torch.cuda.empty_cache()"
   ]
  },
  {
   "cell_type": "code",
   "execution_count": 56,
   "metadata": {},
   "outputs": [
    {
     "name": "stderr",
     "output_type": "stream",
     "text": [
      "100%|██████████| 107/107 [05:09<00:00,  2.90s/it]\n"
     ]
    }
   ],
   "source": [
    "fm = embed_and_save_static(df_static_train, 32, '../data/processed/train/static_notes_bert.h5')"
   ]
  },
  {
   "cell_type": "code",
   "execution_count": 55,
   "metadata": {},
   "outputs": [
    {
     "name": "stderr",
     "output_type": "stream",
     "text": [
      "100%|██████████| 29/29 [01:15<00:00,  2.59s/it]\n"
     ]
    }
   ],
   "source": [
    "fm = embed_and_save_static(df_static_test, 32, '../data/processed/test/static_notes_bert.h5')"
   ]
  },
  {
   "cell_type": "code",
   "execution_count": 46,
   "metadata": {},
   "outputs": [
    {
     "name": "stderr",
     "output_type": "stream",
     "text": [
      "100%|██████████| 7433/7433 [2:04:17<00:00,  1.00s/it]  \n"
     ]
    }
   ],
   "source": [
    "fm = embed_and_save_ts(df_ts_train, 32, '../data/processed/train/ts_notes_bert.h5')"
   ]
  },
  {
   "cell_type": "code",
   "execution_count": 47,
   "metadata": {},
   "outputs": [
    {
     "name": "stderr",
     "output_type": "stream",
     "text": [
      "100%|██████████| 1820/1820 [30:19<00:00,  1.00it/s]\n"
     ]
    }
   ],
   "source": [
    "fm = embed_and_save_ts(df_ts_test, 32, '../data/processed/test/ts_notes_bert.h5')"
   ]
  },
  {
   "cell_type": "code",
   "execution_count": null,
   "metadata": {},
   "outputs": [],
   "source": []
  }
 ],
 "metadata": {
  "kernelspec": {
   "display_name": "env",
   "language": "python",
   "name": "python3"
  },
  "language_info": {
   "codemirror_mode": {
    "name": "ipython",
    "version": 3
   },
   "file_extension": ".py",
   "mimetype": "text/x-python",
   "name": "python",
   "nbconvert_exporter": "python",
   "pygments_lexer": "ipython3",
   "version": "3.10.7"
  }
 },
 "nbformat": 4,
 "nbformat_minor": 2
}
