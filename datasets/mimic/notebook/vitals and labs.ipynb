{
 "cells": [
  {
   "cell_type": "markdown",
   "id": "695bf05f-8916-4aca-8e1d-16d8226c4dbe",
   "metadata": {},
   "source": [
    "## Import modules and data"
   ]
  },
  {
   "cell_type": "code",
   "execution_count": 1,
   "id": "091b12c8-a69e-44e1-805d-d7991565254c",
   "metadata": {},
   "outputs": [],
   "source": [
    "import pandas as pd\n",
    "import numpy as np\n",
    "import os"
   ]
  },
  {
   "cell_type": "code",
   "execution_count": 2,
   "id": "5b0ea840-78e8-4ba3-a625-5c9f92401119",
   "metadata": {},
   "outputs": [],
   "source": [
    "filename = '../data/original/all_hourly_data.h5'\n",
    "df_vitals = pd.read_hdf(filename, 'vitals_labs_mean')\n",
    "df_inter = pd.read_hdf(filename, 'interventions')"
   ]
  },
  {
   "cell_type": "code",
   "execution_count": 3,
   "id": "ef738ed6-6305-40e1-a3ed-e989a288e4cd",
   "metadata": {},
   "outputs": [],
   "source": [
    "multi_to_patid = pd.read_csv('../data/processed/multi_to_patid.csv')\n",
    "multi_to_patid.set_index(keys=['subject_id','hadm_id','icustay_id'], inplace=True)"
   ]
  },
  {
   "cell_type": "markdown",
   "id": "398bca7c-d7f1-49e7-85a7-d22b29a9512c",
   "metadata": {},
   "source": [
    "## Prepare vitals"
   ]
  },
  {
   "cell_type": "code",
   "execution_count": 4,
   "id": "9bfc4dbd-56d8-4712-abdb-37db1adc64e7",
   "metadata": {},
   "outputs": [],
   "source": [
    "df_vitals.columns = df_vitals.columns.droplevel(level=1)\n",
    "df_vitals = df_vitals.join(multi_to_patid)\n",
    "df_vitals.reset_index(inplace=True)\n",
    "df_vitals.set_index(['pat_id','hours_in'], inplace=True)\n",
    "df_vitals.drop(['subject_id','hadm_id','icustay_id'], axis=1, inplace=True)"
   ]
  },
  {
   "cell_type": "markdown",
   "id": "c80d4e4a-cb55-482b-8802-320e521dfa27",
   "metadata": {},
   "source": [
    "### Interpolate Null Values"
   ]
  },
  {
   "cell_type": "code",
   "execution_count": 5,
   "id": "d8ed1085-41f6-47fa-a94a-16e0ec5884f7",
   "metadata": {},
   "outputs": [],
   "source": [
    "df_vitals = df_vitals.groupby(level=0).apply(lambda pat: pat.interpolate(method='linear', axis=0, limit_direction='both'))\n",
    "df_vitals = df_vitals.apply(lambda col: col.fillna(col.mean()), axis=0)"
   ]
  },
  {
   "cell_type": "markdown",
   "id": "1f8b42ea-2bfb-47d7-8e7d-a2118f25d338",
   "metadata": {},
   "source": [
    "## Prepare interventions"
   ]
  },
  {
   "cell_type": "code",
   "execution_count": 6,
   "id": "f961e9cf-177b-49a2-93b7-a16bd139e425",
   "metadata": {},
   "outputs": [],
   "source": [
    "df_inter = df_inter.join(multi_to_patid)\n",
    "df_inter.reset_index(inplace=True)\n",
    "df_inter.set_index(['pat_id','hours_in'], inplace=True)\n",
    "df_inter.drop(['subject_id','hadm_id','icustay_id'], axis=1, inplace=True)"
   ]
  },
  {
   "cell_type": "markdown",
   "id": "6449119e-7cc7-4b06-8daa-ef6949cd19dc",
   "metadata": {},
   "source": [
    "### Split & Save Results"
   ]
  },
  {
   "cell_type": "code",
   "execution_count": 7,
   "id": "33e83877-bf92-406b-acf6-a2ad5f93ab72",
   "metadata": {},
   "outputs": [],
   "source": [
    "processed_dir = '../data/processed/'\n",
    "csv_vitals_filename = 'vitals.csv'\n",
    "csv_inters_filename = 'interventions.csv'"
   ]
  },
  {
   "cell_type": "code",
   "execution_count": 8,
   "id": "20a430b1-0860-4579-a96a-8b9ceffedb67",
   "metadata": {},
   "outputs": [],
   "source": [
    "train_idxs = np.load(os.path.join(processed_dir, 'train_idxs.npy'))\n",
    "test_idxs = np.load(os.path.join(processed_dir, 'test_idxs.npy'))"
   ]
  },
  {
   "cell_type": "code",
   "execution_count": 9,
   "id": "41c0239f-1a93-48c6-897c-c375c509fe34",
   "metadata": {},
   "outputs": [],
   "source": [
    "df_vit_train = df_vitals.loc[train_idxs].copy()\n",
    "df_vit_test = df_vitals.loc[test_idxs].copy()"
   ]
  },
  {
   "cell_type": "code",
   "execution_count": 10,
   "id": "525ab38a-cb7a-4499-ba7c-f8510ac78114",
   "metadata": {},
   "outputs": [],
   "source": [
    "df_int_train = df_inter.loc[train_idxs].copy()\n",
    "df_int_test = df_inter.loc[test_idxs].copy()"
   ]
  },
  {
   "cell_type": "code",
   "execution_count": 15,
   "id": "d037fd56-b825-4eec-aa32-2b5492d89924",
   "metadata": {},
   "outputs": [],
   "source": [
    "df_vit_train.to_csv(os.path.join(processed_dir, 'train/', csv_vitals_filename))"
   ]
  },
  {
   "cell_type": "code",
   "execution_count": 17,
   "id": "01f040d9-dc65-4299-9c4e-6d0759dbc25f",
   "metadata": {},
   "outputs": [],
   "source": [
    "df_vit_test.to_csv(os.path.join(processed_dir, 'test/', csv_vitals_filename))"
   ]
  },
  {
   "cell_type": "code",
   "execution_count": 18,
   "id": "676f1545-15fb-404d-82a8-1f3470a36b9c",
   "metadata": {},
   "outputs": [],
   "source": [
    "df_int_train.to_csv(os.path.join(processed_dir, 'train/', csv_inters_filename))\n",
    "df_int_test.to_csv(os.path.join(processed_dir, 'test/', csv_inters_filename))"
   ]
  },
  {
   "cell_type": "code",
   "execution_count": null,
   "id": "c97438d7-0eed-4ff9-9ee7-61dd509d2f41",
   "metadata": {},
   "outputs": [],
   "source": []
  }
 ],
 "metadata": {
  "kernelspec": {
   "display_name": "mimic3",
   "language": "python",
   "name": "mimic3"
  },
  "language_info": {
   "codemirror_mode": {
    "name": "ipython",
    "version": 3
   },
   "file_extension": ".py",
   "mimetype": "text/x-python",
   "name": "python",
   "nbconvert_exporter": "python",
   "pygments_lexer": "ipython3",
   "version": "3.10.7"
  }
 },
 "nbformat": 4,
 "nbformat_minor": 5
}
