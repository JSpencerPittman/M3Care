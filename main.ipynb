{
 "cells": [
  {
   "cell_type": "code",
   "execution_count": 1,
   "metadata": {},
   "outputs": [],
   "source": [
    "from load import *\n",
    "\n",
    "splitter = load_idxsplit()\n",
    "\n",
    "x_train, x_val, x_test = load_x(splitter).values()\n",
    "y_train, y_val, y_test = load_y(splitter).values()\n",
    "\n",
    "diag = load_diagnoses(splitter)\n",
    "left_diag_train, left_diag_val, left_diag_test = diag[\"left\"].values()\n",
    "right_diag_train, right_diag_val, right_diag_test = diag[\"right\"].values()\n",
    "\n",
    "diag_mask = load_diagnosis_masks(splitter)\n",
    "left_diag_mask_train, left_diag_mask_val, left_diag_mask_test = diag_mask[\"left\"].values()\n",
    "right_diag_mask_train, right_diag_mask_val, right_diag_mask_test = diag_mask[\"right\"].values()\n",
    "\n",
    "images = load_images(splitter)\n",
    "left_fundus_images_train, left_fundus_images_val, left_fundus_images_test = images[\"left\"].values()\n",
    "right_fundus_images_train, right_fundus_images_val, right_fundus_images_test = images[\"right\"].values()"
   ]
  }
 ],
 "metadata": {
  "kernelspec": {
   "display_name": "env",
   "language": "python",
   "name": "python3"
  },
  "language_info": {
   "codemirror_mode": {
    "name": "ipython",
    "version": 3
   },
   "file_extension": ".py",
   "mimetype": "text/x-python",
   "name": "python",
   "nbconvert_exporter": "python",
   "pygments_lexer": "ipython3",
   "version": "3.12.1"
  }
 },
 "nbformat": 4,
 "nbformat_minor": 2
}
