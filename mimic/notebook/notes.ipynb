{
 "cells": [
  {
   "cell_type": "markdown",
   "id": "61dd3959-dbec-4f43-ae5e-45be1323966e",
   "metadata": {},
   "source": [
    "## Import modules and load data"
   ]
  },
  {
   "cell_type": "code",
   "execution_count": 1,
   "id": "53d5b454-887c-4108-8100-85caeae93ebf",
   "metadata": {},
   "outputs": [],
   "source": [
    "import pandas as pd\n",
    "import numpy as np\n",
    "import nltk\n",
    "import re\n",
    "import os\n",
    "import h5py\n",
    "from tqdm import tqdm"
   ]
  },
  {
   "cell_type": "code",
   "execution_count": 2,
   "id": "548882f1-02f6-462f-b216-2fe54a06aff8",
   "metadata": {},
   "outputs": [],
   "source": [
    "tqdm.pandas()"
   ]
  },
  {
   "cell_type": "code",
   "execution_count": 60,
   "id": "56d7bcb7-8f8c-4caf-858a-9fb509aa7013",
   "metadata": {},
   "outputs": [],
   "source": [
    "df_notes = pd.read_csv('../data/original/NOTEEVENTS.csv', low_memory=False)"
   ]
  },
  {
   "cell_type": "code",
   "execution_count": 61,
   "id": "323807d9-6566-494f-a0af-05832a6acf19",
   "metadata": {},
   "outputs": [],
   "source": [
    "df_icustays = pd.read_csv('../data/original/ICUSTAYS.csv')"
   ]
  },
  {
   "cell_type": "code",
   "execution_count": 62,
   "id": "0c4b305e-118e-4ddc-b09a-0f46c0f4da4c",
   "metadata": {},
   "outputs": [],
   "source": [
    "multi_to_patid = pd.read_csv('../data/processed/multi_to_patid.csv')"
   ]
  },
  {
   "cell_type": "markdown",
   "id": "25aac66f-96f0-479b-b4b4-e7f6e4fe7eaa",
   "metadata": {},
   "source": [
    "## Filter & clean table"
   ]
  },
  {
   "cell_type": "code",
   "execution_count": 63,
   "id": "0864b1b1-6068-4713-95d4-69e02b1833d5",
   "metadata": {},
   "outputs": [],
   "source": [
    "rel_cats = ['SUBJECT_ID','HADM_ID','CHARTDATE','CHARTTIME','CATEGORY','TEXT']\n",
    "df_notes = df_notes[rel_cats]\n",
    "# Why have notes if they have no text\n",
    "df_notes.dropna(subset=['TEXT'], inplace=True)\n",
    "# Make it friendly for datetime comparisons later on\n",
    "df_notes.CHARTDATE = df_notes.CHARTDATE.astype('datetime64[ns]')\n",
    "df_notes.CHARTTIME = df_notes.CHARTTIME.astype('datetime64[ns]')"
   ]
  },
  {
   "cell_type": "markdown",
   "id": "45ca7533-a3d3-4fa6-98f2-0205d251ed4a",
   "metadata": {},
   "source": [
    "Create multi-level index"
   ]
  },
  {
   "cell_type": "code",
   "execution_count": 64,
   "id": "59f48a6d-bf88-402b-8469-1a73bfe7f41a",
   "metadata": {},
   "outputs": [],
   "source": [
    "df_notes.set_index(['SUBJECT_ID','HADM_ID'], inplace=True)"
   ]
  },
  {
   "cell_type": "markdown",
   "id": "7151a652-c926-4ce6-babc-b7130afb73dd",
   "metadata": {},
   "source": [
    "Clean up category names"
   ]
  },
  {
   "cell_type": "code",
   "execution_count": 65,
   "id": "20ed4da8-4c8e-4b8f-9332-b1b7026c2ebc",
   "metadata": {},
   "outputs": [],
   "source": [
    "df_notes.loc[df_notes.CATEGORY == 'Discharge summary', 'CATEGORY'] = 'Discharge'\n",
    "df_notes.loc[df_notes.CATEGORY == 'Physician ', 'CATEGORY'] = 'Physician'\n",
    "df_notes.loc[df_notes.CATEGORY == 'Respiratory ', 'CATEGORY'] = 'Respiratory'"
   ]
  },
  {
   "cell_type": "markdown",
   "id": "d7bbd3b3-9505-475e-a797-a284934b5d4a",
   "metadata": {},
   "source": [
    "Select common categories"
   ]
  },
  {
   "cell_type": "code",
   "execution_count": 66,
   "id": "d0b83dcb-7536-4465-82ee-e98a773f5638",
   "metadata": {},
   "outputs": [],
   "source": [
    "relevant_cats = [\"Discharge\",\"Nursing/other\",\"Radiology\",\"Nursing\",\"ECG\",\"Physician\",\"Echo\",\"Respiratory\",\"Nutrition\",\"General\"]\n",
    "df_notes = df_notes.loc[df_notes.CATEGORY.map(lambda x: x in relevant_cats)]"
   ]
  },
  {
   "cell_type": "markdown",
   "id": "98571397-9a07-487e-aa82-9532b4224be8",
   "metadata": {},
   "source": [
    "## Clean up df_icustays"
   ]
  },
  {
   "cell_type": "code",
   "execution_count": 67,
   "id": "67f73b81-2bb2-4ac3-913e-afd313ec83e5",
   "metadata": {},
   "outputs": [],
   "source": [
    "# Convert from 'object' to 'datetime'\n",
    "df_icustays.INTIME = df_icustays.INTIME.astype('datetime64[ns]')\n",
    "df_icustays.OUTTIME = df_icustays.OUTTIME.astype('datetime64[ns]')\n",
    "# Create date columns in case row in question doesn't have a 'CHARTTIME' for comparison\n",
    "df_icustays['INDATE'] = df_icustays.INTIME.dt.date.astype('datetime64[ns]')\n",
    "df_icustays['OUTDATE'] = df_icustays.OUTTIME.dt.date.astype('datetime64[ns]')\n",
    "# Select only the first ICU stay for a patient across all admissions\n",
    "df_icustays = df_icustays.sort_values(by='INTIME').groupby(['SUBJECT_ID']).first()\n",
    "# Select the minimal information needed to match ICU stays to clinical notes\n",
    "df_icustays = df_icustays[[\"HADM_ID\",\"ICUSTAY_ID\",\"INTIME\",\"INDATE\",\"OUTTIME\",\"OUTDATE\"]]\n",
    "# Impossible to verify notes belong to an ICU stay without a time\n",
    "df_icustays.dropna(subset=['INTIME','OUTTIME'], inplace=True)\n",
    "# Each index is a single patient's first ICU visit (we removed multiple ICU visits)\n",
    "df_icustays.reset_index(inplace=True)\n",
    "df_icustays.set_index(['SUBJECT_ID','HADM_ID','ICUSTAY_ID'], inplace=True)"
   ]
  },
  {
   "cell_type": "markdown",
   "id": "ddde4600-22b2-4481-9b40-a8ce5379cc87",
   "metadata": {},
   "source": [
    "### Limit to first icustay"
   ]
  },
  {
   "cell_type": "code",
   "execution_count": 68,
   "id": "c2e85067-c042-4a8f-8d8b-8213f88e45f7",
   "metadata": {},
   "outputs": [],
   "source": [
    "df_notes_icu = df_icustays.copy()\n",
    "df_notes_icu = df_notes_icu.join(df_notes, how='inner')"
   ]
  },
  {
   "cell_type": "code",
   "execution_count": 69,
   "id": "04c931e7-be88-4603-acb9-9b5f1ef23f6b",
   "metadata": {},
   "outputs": [],
   "source": [
    "# Date comparison\n",
    "date_val = (df_notes_icu.CHARTDATE >= df_notes_icu.INDATE) & (df_notes_icu.CHARTDATE <= df_notes_icu.OUTDATE)\n",
    "# Time comparison\n",
    "time_val = (df_notes_icu.CHARTTIME >= df_notes_icu.INTIME) & (df_notes_icu.CHARTTIME <= df_notes_icu.OUTTIME)\n",
    "# Valid?\n",
    "datetime_val = (df_notes_icu.CHARTTIME.isna() & date_val) | (~df_notes_icu.CHARTTIME.isna() & time_val) \n",
    "# Filter rows\n",
    "df_notes_icu = df_notes_icu.loc[datetime_val]"
   ]
  },
  {
   "cell_type": "markdown",
   "id": "d8bd5674-f3e2-4aab-b822-239e35630c61",
   "metadata": {},
   "source": [
    "### Match Cohorts to pre-selected cohort"
   ]
  },
  {
   "cell_type": "code",
   "execution_count": 70,
   "id": "e4079c6e-3381-4028-a128-9e164fac95c6",
   "metadata": {},
   "outputs": [],
   "source": [
    "multi_to_patid.set_index(['subject_id','hadm_id','icustay_id'], inplace=True)\n",
    "df_notes_icu.index.names = ['subject_id','hadm_id','icustay_id']"
   ]
  },
  {
   "cell_type": "code",
   "execution_count": 71,
   "id": "bb6d4f8f-228b-49d2-b911-83a2bc444688",
   "metadata": {},
   "outputs": [],
   "source": [
    "df_notes_icu = multi_to_patid.join(df_notes_icu, how='left')"
   ]
  },
  {
   "cell_type": "code",
   "execution_count": 72,
   "id": "2dd19b66-2912-478d-9b76-cc96c67a41d6",
   "metadata": {},
   "outputs": [],
   "source": [
    "df_notes_icu.dropna(subset=['INTIME','INDATE'], inplace=True)"
   ]
  },
  {
   "cell_type": "code",
   "execution_count": 73,
   "id": "c0ddbf32-c16f-4fda-a74e-ce2f2f51aa3c",
   "metadata": {},
   "outputs": [],
   "source": [
    "df_notes_icu.reset_index(inplace=True)\n",
    "df_notes_icu.set_index('pat_id', inplace=True)\n",
    "df_notes_icu.drop(['subject_id','hadm_id','icustay_id'], axis=1, inplace=True)"
   ]
  },
  {
   "cell_type": "markdown",
   "id": "27eaef35-a276-4cff-b2d8-5f1a5089f3dc",
   "metadata": {},
   "source": [
    "### Split Static from Time series notes"
   ]
  },
  {
   "cell_type": "code",
   "execution_count": 74,
   "id": "125db491-76ae-465a-a878-b02fdb896ec2",
   "metadata": {},
   "outputs": [],
   "source": [
    "df_notes_static = df_notes_icu.loc[df_notes_icu.CATEGORY == 'Discharge', :].copy()\n",
    "df_notes_ts = df_notes_icu.loc[~(df_notes_icu.CATEGORY == 'Discharge'), :].copy()"
   ]
  },
  {
   "cell_type": "markdown",
   "id": "c342314a-ca6d-4baa-a1f1-4068d2ec654b",
   "metadata": {},
   "source": [
    "### Trim static notes"
   ]
  },
  {
   "cell_type": "code",
   "execution_count": 75,
   "id": "41354071-5b1b-4d12-98f2-4c8bdef8afc4",
   "metadata": {},
   "outputs": [],
   "source": [
    "df_notes_static[\"TEXT_LEN\"] = df_notes_static.TEXT.map(lambda s: len(s))\n",
    "df_notes_static = df_notes_static.sort_values(by='TEXT_LEN', ascending=False).groupby('pat_id').first()"
   ]
  },
  {
   "cell_type": "code",
   "execution_count": 76,
   "id": "6bab7f65-093d-4b81-be77-98994bc38c75",
   "metadata": {},
   "outputs": [],
   "source": [
    "df_notes_static = df_notes_static[['TEXT']]"
   ]
  },
  {
   "cell_type": "markdown",
   "id": "1ac6d3a1-c3bf-410d-889f-03d514eecad8",
   "metadata": {},
   "source": [
    "### Handle ECG and Echo"
   ]
  },
  {
   "cell_type": "code",
   "execution_count": 77,
   "id": "8edb3342-2bd0-4c0d-bb93-bb16bf59c86d",
   "metadata": {},
   "outputs": [],
   "source": [
    "merged_ecg = df_notes_ts.loc[df_notes_ts.CATEGORY == 'ECG'].groupby(['pat_id','CHARTDATE']).TEXT.agg(lambda s: ' [SEP] '.join(s))\n",
    "merged_echo = df_notes_ts.loc[df_notes_ts.CATEGORY == 'Echo'].groupby(['pat_id','CHARTDATE']).TEXT.agg(lambda s: ' [SEP] '.join(s))"
   ]
  },
  {
   "cell_type": "code",
   "execution_count": 78,
   "id": "c81944ff-3b9a-416c-9da7-a416937931d9",
   "metadata": {},
   "outputs": [],
   "source": [
    "df_ecg = df_notes_ts.loc[df_notes_ts.CATEGORY == 'ECG']\n",
    "df_ecg = df_ecg.reset_index().groupby(['pat_id','CHARTDATE']).first()\n",
    "df_ecg.TEXT = merged_ecg.values\n",
    "df_ecg = df_ecg.reset_index().set_index('pat_id')"
   ]
  },
  {
   "cell_type": "code",
   "execution_count": 79,
   "id": "cc78fcaa-52b1-4b9e-a0f4-27febbaa662a",
   "metadata": {},
   "outputs": [],
   "source": [
    "df_echo = df_notes_ts.loc[df_notes_ts.CATEGORY == 'Echo']\n",
    "df_echo = df_echo.reset_index().groupby(['pat_id','CHARTDATE']).first()\n",
    "df_echo.TEXT = merged_echo.values\n",
    "df_echo = df_echo.reset_index().set_index('pat_id')"
   ]
  },
  {
   "cell_type": "code",
   "execution_count": 80,
   "id": "3edc44ec-fc25-47e0-8c3c-ace2885da33c",
   "metadata": {},
   "outputs": [],
   "source": [
    "df_dateonly = pd.concat([df_echo, df_ecg])\n",
    "df_dateonly['hours_in'] = ((df_dateonly.CHARTDATE - df_dateonly.INDATE) / pd.Timedelta(hours=1)).astype(int)"
   ]
  },
  {
   "cell_type": "markdown",
   "id": "9bea197e-2d35-4261-af97-d06ba5e741aa",
   "metadata": {},
   "source": [
    "### Create Hours In attribute"
   ]
  },
  {
   "cell_type": "code",
   "execution_count": 81,
   "id": "f0abbf67-2183-45c4-8a19-d279330756ce",
   "metadata": {},
   "outputs": [],
   "source": [
    "df_notes_ts = df_notes_ts.loc[~df_notes_ts.CATEGORY.map(lambda c: c in ['ECG','Echo']), :]\n",
    "df_notes_ts['hours_in'] = ((df_notes_ts.CHARTTIME - df_notes_ts.INTIME) / pd.Timedelta(hours=1)).astype(int)"
   ]
  },
  {
   "cell_type": "code",
   "execution_count": 82,
   "id": "135029dd-85e2-441b-aa16-9bd23bda9eaa",
   "metadata": {},
   "outputs": [],
   "source": [
    "df_notes_ts = pd.concat([df_notes_ts, df_dateonly])"
   ]
  },
  {
   "cell_type": "markdown",
   "id": "1f038148-c490-4d5b-ae5e-a9e33ee9abf5",
   "metadata": {},
   "source": [
    "### Trim time series"
   ]
  },
  {
   "cell_type": "code",
   "execution_count": 83,
   "id": "b740b265-8e90-42af-89e4-c1afb751dc47",
   "metadata": {},
   "outputs": [],
   "source": [
    "df_notes_ts = df_notes_ts.reset_index().set_index(['pat_id','hours_in'])[['CATEGORY','TEXT']]"
   ]
  },
  {
   "cell_type": "code",
   "execution_count": 84,
   "id": "f7708d8d-f2e6-4ef2-8034-6cc0bd11c805",
   "metadata": {},
   "outputs": [],
   "source": [
    "df_notes_ts.sort_values(by=['pat_id','hours_in'], inplace=True)"
   ]
  },
  {
   "cell_type": "markdown",
   "id": "c65cd10f-5695-44e8-a002-c259c450b210",
   "metadata": {},
   "source": [
    "### One Hot Encode categories"
   ]
  },
  {
   "cell_type": "code",
   "execution_count": 85,
   "id": "87d26430-52df-4b6d-a9f7-7ad389bb8344",
   "metadata": {},
   "outputs": [],
   "source": [
    "df_notes_ts.loc[df_notes_ts.CATEGORY == 'Nursing/other', 'CATEGORY'] = 'Nursing'\n",
    "df_cats = pd.get_dummies(df_notes_ts.CATEGORY, prefix='cat')\n",
    "df_notes_ts = df_notes_ts.join(df_cats).drop('CATEGORY', axis=1)"
   ]
  },
  {
   "cell_type": "markdown",
   "id": "b775ce2f-f4dd-4ce3-8335-9b37271a16d4",
   "metadata": {},
   "source": [
    "### Preprocess text"
   ]
  },
  {
   "cell_type": "code",
   "execution_count": 86,
   "id": "5153e76c-d353-4d2b-a3da-0ca67b4086ae",
   "metadata": {},
   "outputs": [
    {
     "name": "stderr",
     "output_type": "stream",
     "text": [
      "[nltk_data] Downloading package stopwords to\n",
      "[nltk_data]     C:\\Users\\Jason\\AppData\\Roaming\\nltk_data...\n",
      "[nltk_data]   Package stopwords is already up-to-date!\n"
     ]
    },
    {
     "data": {
      "text/plain": [
       "True"
      ]
     },
     "execution_count": 86,
     "metadata": {},
     "output_type": "execute_result"
    }
   ],
   "source": [
    "nltk.download('stopwords')"
   ]
  },
  {
   "cell_type": "code",
   "execution_count": 87,
   "id": "4f8f2c8f-849d-4877-a21e-7a71da4f4481",
   "metadata": {},
   "outputs": [],
   "source": [
    "stopwords = nltk.corpus.stopwords.words('english')\n",
    "stopwords = set(stopwords)"
   ]
  },
  {
   "cell_type": "code",
   "execution_count": 88,
   "id": "a184a3b5-3523-4475-97cf-874751335655",
   "metadata": {
    "scrolled": true
   },
   "outputs": [],
   "source": [
    "SUBTEXT_FORMAT = \"\\[\\*\\*[^\\*]*\\*\\*\\]\"\n",
    "NUMBER_FORMAT = \"[0-9]+(,[0-9]+)*(\\.[0-9]+)?\"\n",
    "END_OF_SEQ = \"(\\\\\\\\n|\\.|\\?|!|\\(|\\))+\"\n",
    "PUNCTUATION = \"(\\\\\\\\|/|-|'|:|#|\\\"|,|-|_|\\+|=|%|<|>|\\*|$)\"\n",
    "\n",
    "def prepare_text(s):\n",
    "    # Remove dates and subtext\n",
    "    s_pre = re.sub(SUBTEXT_FORMAT, '', s)\n",
    "    # lowercase text\n",
    "    s_pre = s_pre.lower()\n",
    "    # Remove numbers\n",
    "    s_pre = re.sub(NUMBER_FORMAT, '', s_pre)\n",
    "    # Replace escape characters signifying end of a sequence.\n",
    "    s_pre = re.sub(END_OF_SEQ, ' [SEP] ', repr(s_pre))\n",
    "    # Remove multiplace consecutive spaces\n",
    "    s_pre = re.sub('[ ]{2,}', ' ', s_pre)\n",
    "    # Remove repetitive separations\n",
    "    s_pre = re.sub(' \\[SEP\\] (\\[SEP\\] )+', ' [SEP] ', s_pre)\n",
    "    # Remove punctuation\n",
    "    s_pre = re.sub(PUNCTUATION, '', s_pre)\n",
    "    # Remove unecessary whitespace\n",
    "    s_pre = s_pre.strip()\n",
    "    # Tokenize message\n",
    "    s_pre = s_pre.split(' ')\n",
    "    # Remove stop words\n",
    "    s_pre = [token for token in s_pre if token not in stopwords and len(token) > 0]\n",
    "    # Return back to a string\n",
    "    s_pre = str(s_pre)[1:-1].replace('\\'', '').replace(', ', ' ')\n",
    "    \n",
    "    return s_pre"
   ]
  },
  {
   "cell_type": "code",
   "execution_count": 89,
   "id": "a142ed24-eb23-4fd4-b7ea-3f63954ae57d",
   "metadata": {},
   "outputs": [
    {
     "name": "stderr",
     "output_type": "stream",
     "text": [
      "100%|█████████████████████████████████████████████████████████████████████████████| 4312/4312 [00:06<00:00, 629.05it/s]\n"
     ]
    }
   ],
   "source": [
    "df_notes_static.TEXT = df_notes_static.TEXT.progress_map(lambda t: t if pd.isnull(t) else prepare_text(t))"
   ]
  },
  {
   "cell_type": "code",
   "execution_count": 94,
   "id": "a395d32b-c668-40e7-a705-0422086d4cbf",
   "metadata": {},
   "outputs": [
    {
     "name": "stderr",
     "output_type": "stream",
     "text": [
      "100%|██████████████████████████████████████████████████████████████████████| 1039995/1039995 [08:35<00:00, 2019.28it/s]\n"
     ]
    }
   ],
   "source": [
    "df_notes_ts.TEXT = df_notes_ts.TEXT.progress_map(lambda t: t if pd.isnull(t) else prepare_text(t))"
   ]
  },
  {
   "cell_type": "markdown",
   "id": "4a0dfe86-a81f-4b71-8303-0f22fb8842f5",
   "metadata": {},
   "source": [
    "### Vocab Class"
   ]
  },
  {
   "cell_type": "code",
   "execution_count": 95,
   "id": "6c3eec57-62a8-4235-97b6-5eb00da9080d",
   "metadata": {},
   "outputs": [],
   "source": [
    "from typing import List\n",
    "import torch\n",
    "import os\n",
    "import json\n",
    "\n",
    "class Numericize(object):\n",
    "    def __init__(self):\n",
    "        self._tok2id = {}\n",
    "        self._id2tok = {}\n",
    "        self._tok2cnt = {}\n",
    "        self._cnt = 1\n",
    "\n",
    "    def add_token(self, token: str):\n",
    "        if token not in self._tok2id:\n",
    "            self._tok2id[token] = self._cnt\n",
    "            self._id2tok[self._cnt] = token\n",
    "            self._tok2cnt[token] = 1\n",
    "            self._cnt += 1\n",
    "        else:\n",
    "            self._tok2cnt[token] += 1\n",
    "\n",
    "    def tok2id(self, token):\n",
    "        self.add_token(token)\n",
    "        return self._tok2id[token]\n",
    "\n",
    "    def numericize(self, data) -> List[int]:\n",
    "        return [self.tok2id(tok) for tok in data.split(' ')]\n",
    "\n",
    "    def to_json(self, path: str):\n",
    "        vocab_data = {\n",
    "            'tok2id': self._tok2id,\n",
    "            'id2tok': self._id2tok,\n",
    "            'tok2cnt': self._tok2cnt,\n",
    "            'cnt': self._cnt\n",
    "        }\n",
    "\n",
    "        with open(path, 'w', encoding='utf-8') as f:\n",
    "            json.dump(vocab_data, f, indent=4)\n",
    "\n",
    "    def __len__(self):\n",
    "        return self._cnt"
   ]
  },
  {
   "cell_type": "markdown",
   "id": "4ec7a375-893a-481a-b6e5-2f0f1c667980",
   "metadata": {},
   "source": [
    "### Split Notes"
   ]
  },
  {
   "cell_type": "code",
   "execution_count": 96,
   "id": "89f08b4c-e2f4-49fd-90b7-653988a8e904",
   "metadata": {},
   "outputs": [],
   "source": [
    "processed_dir = '../data/processed/'\n",
    "train_idxs = set(np.load(os.path.join(processed_dir, 'train_idxs.npy')))\n",
    "test_idxs = set(np.load(os.path.join(processed_dir, 'test_idxs.npy')))"
   ]
  },
  {
   "cell_type": "code",
   "execution_count": 97,
   "id": "ecf632f6-bdcf-4ada-b5f4-0135d85b8760",
   "metadata": {},
   "outputs": [],
   "source": [
    "static_idxs = set(df_notes_static.index.values)\n",
    "ts_idxs = set(df_notes_ts.index.get_level_values(0).values)"
   ]
  },
  {
   "cell_type": "code",
   "execution_count": 98,
   "id": "f17b80e7-2b50-44cc-8c2d-4da83803dea2",
   "metadata": {},
   "outputs": [],
   "source": [
    "train_idxs_static = list(static_idxs & train_idxs)\n",
    "test_idxs_static = list(static_idxs & test_idxs)\n",
    "\n",
    "train_idxs_ts = list(ts_idxs & train_idxs)\n",
    "test_idxs_ts = list(ts_idxs & test_idxs)"
   ]
  },
  {
   "cell_type": "code",
   "execution_count": 99,
   "id": "c11d707a-fd16-4e6a-a731-3f1dfad34223",
   "metadata": {},
   "outputs": [],
   "source": [
    "df_static_train = df_notes_static.loc[train_idxs_static].copy()\n",
    "df_static_test = df_notes_static.loc[test_idxs_static].copy()"
   ]
  },
  {
   "cell_type": "code",
   "execution_count": 100,
   "id": "c7b23661-0c27-42ec-a457-87c2d8fb87e6",
   "metadata": {},
   "outputs": [],
   "source": [
    "df_ts_train = df_notes_ts.loc[train_idxs_ts].copy()\n",
    "df_ts_test = df_notes_ts.loc[test_idxs_ts].copy()"
   ]
  },
  {
   "cell_type": "markdown",
   "id": "3ba5df97-e629-4929-a36b-eec20c94c2e6",
   "metadata": {},
   "source": [
    "### Convert to Numbers"
   ]
  },
  {
   "cell_type": "code",
   "execution_count": 101,
   "id": "f5695044-9dbe-4719-8af0-46ddb3bd5d6e",
   "metadata": {},
   "outputs": [],
   "source": [
    "numericize = Numericize()"
   ]
  },
  {
   "cell_type": "code",
   "execution_count": 102,
   "id": "7e4699c2-5b58-497e-af8a-1512a351d27b",
   "metadata": {
    "scrolled": true
   },
   "outputs": [
    {
     "name": "stderr",
     "output_type": "stream",
     "text": [
      "100%|████████████████████████████████████████████████████████████████████████████| 3403/3403 [00:01<00:00, 2486.17it/s]\n",
      "100%|██████████████████████████████████████████████████████████████████████████████| 909/909 [00:00<00:00, 2352.21it/s]\n"
     ]
    }
   ],
   "source": [
    "df_static_train_num = df_static_train.TEXT.progress_map(numericize.numericize).tolist()\n",
    "df_static_test_num = df_static_test.TEXT.progress_map(numericize.numericize).tolist()"
   ]
  },
  {
   "cell_type": "code",
   "execution_count": 103,
   "id": "af2bb993-fe41-43f9-a749-ea992a5c8dd0",
   "metadata": {},
   "outputs": [
    {
     "name": "stderr",
     "output_type": "stream",
     "text": [
      "100%|████████████████████████████████████████████████████████████████████████| 839543/839543 [01:46<00:00, 7862.52it/s]\n",
      "100%|████████████████████████████████████████████████████████████████████████| 200452/200452 [00:27<00:00, 7323.05it/s]\n"
     ]
    }
   ],
   "source": [
    "df_ts_train_num = df_ts_train.TEXT.progress_map(numericize.numericize).tolist()\n",
    "df_ts_test_num = df_ts_test.TEXT.progress_map(numericize.numericize).tolist()"
   ]
  },
  {
   "cell_type": "code",
   "execution_count": 104,
   "id": "a837d6a2-54dd-4f16-a36c-0265bb562845",
   "metadata": {},
   "outputs": [
    {
     "name": "stderr",
     "output_type": "stream",
     "text": [
      "100%|████████████████████████████████████████████████████████████████████████| 839543/839543 [02:22<00:00, 5899.71it/s]\n",
      "100%|████████████████████████████████████████████████████████████████████████| 200452/200452 [00:33<00:00, 6046.51it/s]\n"
     ]
    }
   ],
   "source": [
    "def stringify_cat(row):\n",
    "    return \"\".join([\"1\" if cat else \"0\" for cat in row.drop('TEXT').tolist()])\n",
    "\n",
    "df_ts_train_cats = df_ts_train.progress_apply(stringify_cat, axis=1).tolist()\n",
    "df_ts_test_cats = df_ts_test.progress_apply(stringify_cat, axis=1).tolist()"
   ]
  },
  {
   "cell_type": "markdown",
   "id": "37fdadcc-e839-42b5-b11c-43808879a6bc",
   "metadata": {},
   "source": [
    "### Save Results"
   ]
  },
  {
   "cell_type": "code",
   "execution_count": 113,
   "id": "8961cc7c-e7fd-4430-94f4-b3fde6cb2dad",
   "metadata": {},
   "outputs": [],
   "source": [
    "h5_static_filename = 'notes_static.h5'\n",
    "h5_ts_filename = 'notes_ts.h5'"
   ]
  },
  {
   "cell_type": "code",
   "execution_count": 114,
   "id": "0751cd74-42a4-4ae2-b34a-199a3d7d0c03",
   "metadata": {},
   "outputs": [],
   "source": [
    "with h5py.File(os.path.join(processed_dir, 'train/', h5_static_filename), 'w') as train_static_file:\n",
    "    for row_idx, row in enumerate(df_static_train_num):\n",
    "        pat_id = train_idxs_static[row_idx]\n",
    "        train_static_file.create_dataset(f'row_{pat_id}', data=np.array(row))"
   ]
  },
  {
   "cell_type": "code",
   "execution_count": 115,
   "id": "a264b1c8-8b8e-4d51-9005-04133e77baae",
   "metadata": {},
   "outputs": [],
   "source": [
    "with h5py.File(os.path.join(processed_dir, 'test/', h5_static_filename), 'w') as test_static_file:\n",
    "    for row_idx, row in enumerate(df_static_test_num):\n",
    "        pat_id = test_idxs_static[row_idx]\n",
    "        test_static_file.create_dataset(f'row_{pat_id}', data=np.array(row))"
   ]
  },
  {
   "cell_type": "code",
   "execution_count": 116,
   "id": "59c18975-1628-4999-8bcf-a6fa3b388221",
   "metadata": {},
   "outputs": [],
   "source": [
    "last_pat_id = -1\n",
    "pat_group = None\n",
    "group_idx = 0\n",
    "\n",
    "with h5py.File(os.path.join(processed_dir, 'train/', h5_ts_filename), 'w') as train_ts_file:\n",
    "    for (pat_id, note_time), note, cat in zip(df_ts_train.index.tolist(), df_ts_train_num, df_ts_train_cats):\n",
    "        if pat_id != last_pat_id:\n",
    "            pat_group = train_ts_file.create_group(f'pat_id_{pat_id}')\n",
    "            group_idx = 0\n",
    "\n",
    "        pat_group.create_dataset(f'gidx_{group_idx}_time_{note_time}_cat_{cat}', data=np.array(note))    \n",
    "        \n",
    "        last_pat_id = pat_id\n",
    "        group_idx += 1"
   ]
  },
  {
   "cell_type": "code",
   "execution_count": 117,
   "id": "b76a69b4-0180-406a-9126-f69d74c85dcc",
   "metadata": {},
   "outputs": [],
   "source": [
    "last_pat_id = -1\n",
    "pat_group = None\n",
    "group_idx = 0\n",
    "\n",
    "with h5py.File(os.path.join(processed_dir, 'test/', h5_ts_filename), 'w') as test_ts_file:\n",
    "    for (pat_id, note_time), note, cat in zip(df_ts_test.index.tolist(), df_ts_test_num, df_ts_test_cats):\n",
    "        if pat_id != last_pat_id:\n",
    "            pat_group = test_ts_file.create_group(f'pat_id_{pat_id}')\n",
    "            group_idx = 0\n",
    "\n",
    "        pat_group.create_dataset(f'gidx_{group_idx}_time_{note_time}_cat_{cat}', data=np.array(note))    \n",
    "        \n",
    "        last_pat_id = pat_id\n",
    "        group_idx += 1"
   ]
  },
  {
   "cell_type": "code",
   "execution_count": 118,
   "id": "1f8cabe9-59b2-408f-9cdb-269a720282b3",
   "metadata": {},
   "outputs": [],
   "source": [
    "numericize_filepath = os.path.join(processed_dir, 'vocab.json')\n",
    "numericize.to_json(numericize_filepath)"
   ]
  },
  {
   "cell_type": "code",
   "execution_count": null,
   "id": "17db5f0a-35b2-4276-9f70-25e8eb9753da",
   "metadata": {},
   "outputs": [],
   "source": []
  }
 ],
 "metadata": {
  "kernelspec": {
   "display_name": "mimic3",
   "language": "python",
   "name": "mimic3"
  },
  "language_info": {
   "codemirror_mode": {
    "name": "ipython",
    "version": 3
   },
   "file_extension": ".py",
   "mimetype": "text/x-python",
   "name": "python",
   "nbconvert_exporter": "python",
   "pygments_lexer": "ipython3",
   "version": "3.10.7"
  }
 },
 "nbformat": 4,
 "nbformat_minor": 5
}
