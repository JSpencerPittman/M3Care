{
 "cells": [
  {
   "cell_type": "markdown",
   "id": "f34e2266-50e7-4a42-a45a-8d00e2acf0e2",
   "metadata": {},
   "source": [
    "## Import modules and data"
   ]
  },
  {
   "cell_type": "code",
   "execution_count": 18,
   "id": "8dc75916-8f40-476c-b58e-c312c3fd1e8a",
   "metadata": {},
   "outputs": [],
   "source": [
    "import pandas as pd\n",
    "import numpy as np\n",
    "from sklearn.preprocessing import StandardScaler\n",
    "import os"
   ]
  },
  {
   "cell_type": "code",
   "execution_count": 19,
   "id": "1d340f54-623f-4be4-baa3-80f4e541ca81",
   "metadata": {},
   "outputs": [],
   "source": [
    "filename = '../data/original/all_hourly_data.h5'\n",
    "df_pats = pd.read_hdf(filename, 'patients')"
   ]
  },
  {
   "cell_type": "code",
   "execution_count": 20,
   "id": "f512c4c9-03ff-4a8b-943d-5c4b888c059c",
   "metadata": {},
   "outputs": [],
   "source": [
    "multi_to_patid = pd.read_csv('../data/processed/multi_to_patid.csv')\n",
    "multi_to_patid.set_index(keys=['subject_id','hadm_id','icustay_id'], inplace=True)"
   ]
  },
  {
   "cell_type": "markdown",
   "id": "370b163a-b07b-4acb-922a-bb532c373451",
   "metadata": {},
   "source": [
    "## Basic Exploration"
   ]
  },
  {
   "cell_type": "code",
   "execution_count": 21,
   "id": "fe0917ed-59e9-4521-96c6-4d28c582b393",
   "metadata": {},
   "outputs": [
    {
     "data": {
      "text/html": [
       "<div>\n",
       "<style scoped>\n",
       "    .dataframe tbody tr th:only-of-type {\n",
       "        vertical-align: middle;\n",
       "    }\n",
       "\n",
       "    .dataframe tbody tr th {\n",
       "        vertical-align: top;\n",
       "    }\n",
       "\n",
       "    .dataframe thead th {\n",
       "        text-align: right;\n",
       "    }\n",
       "</style>\n",
       "<table border=\"1\" class=\"dataframe\">\n",
       "  <thead>\n",
       "    <tr style=\"text-align: right;\">\n",
       "      <th></th>\n",
       "      <th></th>\n",
       "      <th></th>\n",
       "      <th>gender</th>\n",
       "      <th>ethnicity</th>\n",
       "      <th>age</th>\n",
       "      <th>insurance</th>\n",
       "      <th>admittime</th>\n",
       "      <th>diagnosis_at_admission</th>\n",
       "      <th>dischtime</th>\n",
       "      <th>discharge_location</th>\n",
       "      <th>fullcode_first</th>\n",
       "      <th>dnr_first</th>\n",
       "      <th>...</th>\n",
       "      <th>outtime</th>\n",
       "      <th>los_icu</th>\n",
       "      <th>admission_type</th>\n",
       "      <th>first_careunit</th>\n",
       "      <th>mort_icu</th>\n",
       "      <th>mort_hosp</th>\n",
       "      <th>hospital_expire_flag</th>\n",
       "      <th>hospstay_seq</th>\n",
       "      <th>readmission_30</th>\n",
       "      <th>max_hours</th>\n",
       "    </tr>\n",
       "    <tr>\n",
       "      <th>subject_id</th>\n",
       "      <th>hadm_id</th>\n",
       "      <th>icustay_id</th>\n",
       "      <th></th>\n",
       "      <th></th>\n",
       "      <th></th>\n",
       "      <th></th>\n",
       "      <th></th>\n",
       "      <th></th>\n",
       "      <th></th>\n",
       "      <th></th>\n",
       "      <th></th>\n",
       "      <th></th>\n",
       "      <th></th>\n",
       "      <th></th>\n",
       "      <th></th>\n",
       "      <th></th>\n",
       "      <th></th>\n",
       "      <th></th>\n",
       "      <th></th>\n",
       "      <th></th>\n",
       "      <th></th>\n",
       "      <th></th>\n",
       "      <th></th>\n",
       "    </tr>\n",
       "  </thead>\n",
       "  <tbody>\n",
       "    <tr>\n",
       "      <th>3</th>\n",
       "      <th>145834</th>\n",
       "      <th>211552</th>\n",
       "      <td>M</td>\n",
       "      <td>WHITE</td>\n",
       "      <td>76.526792</td>\n",
       "      <td>Medicare</td>\n",
       "      <td>2101-10-20 19:08:00</td>\n",
       "      <td>HYPOTENSION</td>\n",
       "      <td>2101-10-31 13:58:00</td>\n",
       "      <td>SNF</td>\n",
       "      <td>1.0</td>\n",
       "      <td>0.0</td>\n",
       "      <td>...</td>\n",
       "      <td>2101-10-26 20:43:09</td>\n",
       "      <td>6.064560</td>\n",
       "      <td>EMERGENCY</td>\n",
       "      <td>MICU</td>\n",
       "      <td>0</td>\n",
       "      <td>0</td>\n",
       "      <td>0</td>\n",
       "      <td>1</td>\n",
       "      <td>0</td>\n",
       "      <td>145</td>\n",
       "    </tr>\n",
       "    <tr>\n",
       "      <th>4</th>\n",
       "      <th>185777</th>\n",
       "      <th>294638</th>\n",
       "      <td>F</td>\n",
       "      <td>WHITE</td>\n",
       "      <td>47.845047</td>\n",
       "      <td>Private</td>\n",
       "      <td>2191-03-16 00:28:00</td>\n",
       "      <td>FEVER,DEHYDRATION,FAILURE TO THRIVE</td>\n",
       "      <td>2191-03-23 18:41:00</td>\n",
       "      <td>HOME WITH HOME IV PROVIDR</td>\n",
       "      <td>1.0</td>\n",
       "      <td>0.0</td>\n",
       "      <td>...</td>\n",
       "      <td>2191-03-17 16:46:31</td>\n",
       "      <td>1.678472</td>\n",
       "      <td>EMERGENCY</td>\n",
       "      <td>MICU</td>\n",
       "      <td>0</td>\n",
       "      <td>0</td>\n",
       "      <td>0</td>\n",
       "      <td>1</td>\n",
       "      <td>0</td>\n",
       "      <td>40</td>\n",
       "    </tr>\n",
       "    <tr>\n",
       "      <th>6</th>\n",
       "      <th>107064</th>\n",
       "      <th>228232</th>\n",
       "      <td>F</td>\n",
       "      <td>WHITE</td>\n",
       "      <td>65.942297</td>\n",
       "      <td>Medicare</td>\n",
       "      <td>2175-05-30 07:15:00</td>\n",
       "      <td>CHRONIC RENAL FAILURE/SDA</td>\n",
       "      <td>2175-06-15 16:00:00</td>\n",
       "      <td>HOME HEALTH CARE</td>\n",
       "      <td>1.0</td>\n",
       "      <td>0.0</td>\n",
       "      <td>...</td>\n",
       "      <td>2175-06-03 13:39:54</td>\n",
       "      <td>3.672917</td>\n",
       "      <td>ELECTIVE</td>\n",
       "      <td>SICU</td>\n",
       "      <td>0</td>\n",
       "      <td>0</td>\n",
       "      <td>0</td>\n",
       "      <td>1</td>\n",
       "      <td>0</td>\n",
       "      <td>88</td>\n",
       "    </tr>\n",
       "    <tr>\n",
       "      <th>9</th>\n",
       "      <th>150750</th>\n",
       "      <th>220597</th>\n",
       "      <td>M</td>\n",
       "      <td>UNKNOWN/NOT SPECIFIED</td>\n",
       "      <td>41.790228</td>\n",
       "      <td>Medicaid</td>\n",
       "      <td>2149-11-09 13:06:00</td>\n",
       "      <td>HEMORRHAGIC CVA</td>\n",
       "      <td>2149-11-14 10:15:00</td>\n",
       "      <td>DEAD/EXPIRED</td>\n",
       "      <td>1.0</td>\n",
       "      <td>0.0</td>\n",
       "      <td>...</td>\n",
       "      <td>2149-11-14 20:52:14</td>\n",
       "      <td>5.323056</td>\n",
       "      <td>EMERGENCY</td>\n",
       "      <td>MICU</td>\n",
       "      <td>1</td>\n",
       "      <td>1</td>\n",
       "      <td>1</td>\n",
       "      <td>1</td>\n",
       "      <td>0</td>\n",
       "      <td>127</td>\n",
       "    </tr>\n",
       "    <tr>\n",
       "      <th>11</th>\n",
       "      <th>194540</th>\n",
       "      <th>229441</th>\n",
       "      <td>F</td>\n",
       "      <td>WHITE</td>\n",
       "      <td>50.148295</td>\n",
       "      <td>Private</td>\n",
       "      <td>2178-04-16 06:18:00</td>\n",
       "      <td>BRAIN MASS</td>\n",
       "      <td>2178-05-11 19:00:00</td>\n",
       "      <td>HOME HEALTH CARE</td>\n",
       "      <td>1.0</td>\n",
       "      <td>0.0</td>\n",
       "      <td>...</td>\n",
       "      <td>2178-04-17 20:21:05</td>\n",
       "      <td>1.584410</td>\n",
       "      <td>EMERGENCY</td>\n",
       "      <td>SICU</td>\n",
       "      <td>0</td>\n",
       "      <td>0</td>\n",
       "      <td>0</td>\n",
       "      <td>1</td>\n",
       "      <td>0</td>\n",
       "      <td>38</td>\n",
       "    </tr>\n",
       "  </tbody>\n",
       "</table>\n",
       "<p>5 rows × 28 columns</p>\n",
       "</div>"
      ],
      "text/plain": [
       "                              gender              ethnicity        age  \\\n",
       "subject_id hadm_id icustay_id                                            \n",
       "3          145834  211552          M                  WHITE  76.526792   \n",
       "4          185777  294638          F                  WHITE  47.845047   \n",
       "6          107064  228232          F                  WHITE  65.942297   \n",
       "9          150750  220597          M  UNKNOWN/NOT SPECIFIED  41.790228   \n",
       "11         194540  229441          F                  WHITE  50.148295   \n",
       "\n",
       "                              insurance           admittime  \\\n",
       "subject_id hadm_id icustay_id                                 \n",
       "3          145834  211552      Medicare 2101-10-20 19:08:00   \n",
       "4          185777  294638       Private 2191-03-16 00:28:00   \n",
       "6          107064  228232      Medicare 2175-05-30 07:15:00   \n",
       "9          150750  220597      Medicaid 2149-11-09 13:06:00   \n",
       "11         194540  229441       Private 2178-04-16 06:18:00   \n",
       "\n",
       "                                            diagnosis_at_admission  \\\n",
       "subject_id hadm_id icustay_id                                        \n",
       "3          145834  211552                              HYPOTENSION   \n",
       "4          185777  294638      FEVER,DEHYDRATION,FAILURE TO THRIVE   \n",
       "6          107064  228232                CHRONIC RENAL FAILURE/SDA   \n",
       "9          150750  220597                          HEMORRHAGIC CVA   \n",
       "11         194540  229441                               BRAIN MASS   \n",
       "\n",
       "                                        dischtime         discharge_location  \\\n",
       "subject_id hadm_id icustay_id                                                  \n",
       "3          145834  211552     2101-10-31 13:58:00                        SNF   \n",
       "4          185777  294638     2191-03-23 18:41:00  HOME WITH HOME IV PROVIDR   \n",
       "6          107064  228232     2175-06-15 16:00:00           HOME HEALTH CARE   \n",
       "9          150750  220597     2149-11-14 10:15:00               DEAD/EXPIRED   \n",
       "11         194540  229441     2178-05-11 19:00:00           HOME HEALTH CARE   \n",
       "\n",
       "                               fullcode_first  dnr_first  ...  \\\n",
       "subject_id hadm_id icustay_id                             ...   \n",
       "3          145834  211552                 1.0        0.0  ...   \n",
       "4          185777  294638                 1.0        0.0  ...   \n",
       "6          107064  228232                 1.0        0.0  ...   \n",
       "9          150750  220597                 1.0        0.0  ...   \n",
       "11         194540  229441                 1.0        0.0  ...   \n",
       "\n",
       "                                          outtime   los_icu admission_type  \\\n",
       "subject_id hadm_id icustay_id                                                \n",
       "3          145834  211552     2101-10-26 20:43:09  6.064560      EMERGENCY   \n",
       "4          185777  294638     2191-03-17 16:46:31  1.678472      EMERGENCY   \n",
       "6          107064  228232     2175-06-03 13:39:54  3.672917       ELECTIVE   \n",
       "9          150750  220597     2149-11-14 20:52:14  5.323056      EMERGENCY   \n",
       "11         194540  229441     2178-04-17 20:21:05  1.584410      EMERGENCY   \n",
       "\n",
       "                               first_careunit  mort_icu  mort_hosp  \\\n",
       "subject_id hadm_id icustay_id                                        \n",
       "3          145834  211552                MICU         0          0   \n",
       "4          185777  294638                MICU         0          0   \n",
       "6          107064  228232                SICU         0          0   \n",
       "9          150750  220597                MICU         1          1   \n",
       "11         194540  229441                SICU         0          0   \n",
       "\n",
       "                              hospital_expire_flag hospstay_seq  \\\n",
       "subject_id hadm_id icustay_id                                     \n",
       "3          145834  211552                        0            1   \n",
       "4          185777  294638                        0            1   \n",
       "6          107064  228232                        0            1   \n",
       "9          150750  220597                        1            1   \n",
       "11         194540  229441                        0            1   \n",
       "\n",
       "                              readmission_30  max_hours  \n",
       "subject_id hadm_id icustay_id                            \n",
       "3          145834  211552                  0        145  \n",
       "4          185777  294638                  0         40  \n",
       "6          107064  228232                  0         88  \n",
       "9          150750  220597                  0        127  \n",
       "11         194540  229441                  0         38  \n",
       "\n",
       "[5 rows x 28 columns]"
      ]
     },
     "execution_count": 21,
     "metadata": {},
     "output_type": "execute_result"
    }
   ],
   "source": [
    "df_pats.head()"
   ]
  },
  {
   "cell_type": "code",
   "execution_count": 22,
   "id": "3c91a679-472b-4c78-aa28-b98315c6f7f3",
   "metadata": {},
   "outputs": [
    {
     "name": "stdout",
     "output_type": "stream",
     "text": [
      "<class 'pandas.core.frame.DataFrame'>\n",
      "MultiIndex: 34472 entries, (3, 145834, 211552) to (99999, 113369, 246512)\n",
      "Data columns (total 28 columns):\n",
      " #   Column                  Non-Null Count  Dtype         \n",
      "---  ------                  --------------  -----         \n",
      " 0   gender                  34472 non-null  category      \n",
      " 1   ethnicity               34472 non-null  category      \n",
      " 2   age                     34472 non-null  float64       \n",
      " 3   insurance               34472 non-null  object        \n",
      " 4   admittime               34472 non-null  datetime64[ns]\n",
      " 5   diagnosis_at_admission  34471 non-null  object        \n",
      " 6   dischtime               34472 non-null  datetime64[ns]\n",
      " 7   discharge_location      34472 non-null  object        \n",
      " 8   fullcode_first          28162 non-null  float64       \n",
      " 9   dnr_first               28162 non-null  float64       \n",
      " 10  fullcode                28162 non-null  float64       \n",
      " 11  dnr                     28162 non-null  float64       \n",
      " 12  dnr_first_charttime     3119 non-null   datetime64[ns]\n",
      " 13  cmo_first               28162 non-null  float64       \n",
      " 14  cmo_last                28162 non-null  float64       \n",
      " 15  cmo                     28162 non-null  float64       \n",
      " 16  deathtime               3350 non-null   datetime64[ns]\n",
      " 17  intime                  34472 non-null  datetime64[ns]\n",
      " 18  outtime                 34472 non-null  datetime64[ns]\n",
      " 19  los_icu                 34472 non-null  float64       \n",
      " 20  admission_type          34472 non-null  category      \n",
      " 21  first_careunit          34472 non-null  category      \n",
      " 22  mort_icu                34472 non-null  int64         \n",
      " 23  mort_hosp               34472 non-null  int64         \n",
      " 24  hospital_expire_flag    34472 non-null  int64         \n",
      " 25  hospstay_seq            34472 non-null  int64         \n",
      " 26  readmission_30          34472 non-null  int64         \n",
      " 27  max_hours               34472 non-null  int64         \n",
      "dtypes: category(4), datetime64[ns](6), float64(9), int64(6), object(3)\n",
      "memory usage: 10.7+ MB\n"
     ]
    }
   ],
   "source": [
    "df_pats.info()"
   ]
  },
  {
   "cell_type": "code",
   "execution_count": 23,
   "id": "55544ebb-036b-4d0a-9244-56e5986e3c5f",
   "metadata": {},
   "outputs": [],
   "source": [
    "total_pats = df_pats.shape[0]"
   ]
  },
  {
   "cell_type": "markdown",
   "id": "a88faa9e-ee92-4294-a9f2-97d73df9a190",
   "metadata": {},
   "source": [
    "## Transfer to singular index"
   ]
  },
  {
   "cell_type": "code",
   "execution_count": 24,
   "id": "12047dc1-3908-4dfd-bc6a-27ba9e0bf0dd",
   "metadata": {},
   "outputs": [],
   "source": [
    "df_pats = df_pats.join(multi_to_patid)\n",
    "df_pats.set_index('pat_id', inplace=True)"
   ]
  },
  {
   "cell_type": "markdown",
   "id": "e3cb4891-ffc8-4d57-9fc6-736ac90dfdc1",
   "metadata": {},
   "source": [
    "## Filter data"
   ]
  },
  {
   "cell_type": "code",
   "execution_count": 25,
   "id": "8ddcd0cc-981c-455b-90cd-4278c04ee216",
   "metadata": {},
   "outputs": [],
   "source": [
    "rel_cols = [\"gender\",\"ethnicity\",\"age\",\"insurance\",\"admission_type\",\"first_careunit\"]\n",
    "df_pats = df_pats[rel_cols]"
   ]
  },
  {
   "cell_type": "markdown",
   "id": "57f86f26-fe4b-4b93-aa8d-62b42f6a55cc",
   "metadata": {},
   "source": [
    "## Clean Data\n",
    "#### Handle Categorical Data"
   ]
  },
  {
   "cell_type": "markdown",
   "id": "ba389e36-02da-4406-bd09-326233fabc48",
   "metadata": {},
   "source": [
    "Prepare gender"
   ]
  },
  {
   "cell_type": "code",
   "execution_count": 26,
   "id": "eccfeada-0aee-49ae-a46d-6e0335c9ef0c",
   "metadata": {},
   "outputs": [],
   "source": [
    "df_pats.gender = df_pats.gender.map(lambda g: True if g == 'M' else False).astype(bool)"
   ]
  },
  {
   "cell_type": "markdown",
   "id": "18aacd6e-2037-4dc8-9350-4dd25f9ffa09",
   "metadata": {},
   "source": [
    "Prepare ethnicity"
   ]
  },
  {
   "cell_type": "code",
   "execution_count": 27,
   "id": "277a1ee5-0386-40c3-8702-73b1e4996734",
   "metadata": {},
   "outputs": [],
   "source": [
    "ethnicities = dict()\n",
    "for ethnicity, cnt in df_pats.ethnicity.value_counts().items():\n",
    "    share = (cnt / total_pats)\n",
    "    label = ethnicity if share >= 0.01 else 'OTHER'\n",
    "    ethnicities[ethnicity] = label\n",
    "\n",
    "ethnicities['UNKNOWN/NOT SPECIFIED'] = None\n",
    "ethnicities['UNABLE TO OBTAIN'] = None\n",
    "ethnicities['PATIENT DECLINED TO ANSWER'] = None\n",
    "\n",
    "ethnicities['BLACK/AFRICAN AMERICAN'] = 'BLACK'\n",
    "ethnicities['HISPANIC OR LATINO'] = 'HISPANIC'\n",
    "\n",
    "df_pats.ethnicity = df_pats.ethnicity.map(ethnicities)\n",
    "df_eth =  pd.get_dummies(df_pats.ethnicity, prefix='ethnicity')\n",
    "df_pats = df_pats.join(df_eth)\n",
    "df_pats.drop('ethnicity', axis=1, inplace=True)"
   ]
  },
  {
   "cell_type": "markdown",
   "id": "28a82d61-81ad-49d5-9bcd-97f7b4ccefa2",
   "metadata": {},
   "source": [
    "Prepare insurance"
   ]
  },
  {
   "cell_type": "code",
   "execution_count": 28,
   "id": "ceb1fc34-9a8d-4cfb-89e9-3bf75416faf8",
   "metadata": {},
   "outputs": [],
   "source": [
    "df_ins =  pd.get_dummies(df_pats.insurance, prefix='insurance')\n",
    "df_pats = df_pats.join(df_ins)\n",
    "df_pats.drop('insurance', axis=1, inplace=True)"
   ]
  },
  {
   "cell_type": "markdown",
   "id": "00190009-8a01-46a0-816f-786096e7d659",
   "metadata": {},
   "source": [
    "Prepare Admission Type"
   ]
  },
  {
   "cell_type": "code",
   "execution_count": 29,
   "id": "ade5a788-5580-4c9f-a722-2a5af1e8d435",
   "metadata": {},
   "outputs": [],
   "source": [
    "admit_type_order = {'ELECTIVE':0, 'URGENT': 1, 'EMERGENCY': 2}\n",
    "df_pats.admission_type = df_pats.admission_type.map(admit_type_order).astype(int)"
   ]
  },
  {
   "cell_type": "markdown",
   "id": "7e6ed123-b716-4262-b4d7-96d13d226f87",
   "metadata": {},
   "source": [
    "Prepare First Care Unit"
   ]
  },
  {
   "cell_type": "code",
   "execution_count": 30,
   "id": "1301be95-1782-4451-91c7-c8f24e203007",
   "metadata": {},
   "outputs": [],
   "source": [
    "df_fcu =  pd.get_dummies(df_pats.first_careunit, prefix='fcu')\n",
    "df_pats = df_pats.join(df_fcu)\n",
    "df_pats.drop('first_careunit', axis=1, inplace=True)"
   ]
  },
  {
   "cell_type": "markdown",
   "id": "7d23a75c-1197-4c17-8e1a-a0d401675bb5",
   "metadata": {},
   "source": [
    "### Split Data"
   ]
  },
  {
   "cell_type": "code",
   "execution_count": 31,
   "id": "c66f6e88-368a-4091-afcc-acfaa3543d94",
   "metadata": {},
   "outputs": [],
   "source": [
    "ss_age = StandardScaler()\n",
    "df_pats.age = ss_age.fit_transform(df_pats.age.values.reshape(-1,1))"
   ]
  },
  {
   "cell_type": "markdown",
   "id": "8ff84626-4744-44df-b356-926a19b03c5b",
   "metadata": {},
   "source": [
    "## Split & Save results"
   ]
  },
  {
   "cell_type": "code",
   "execution_count": 32,
   "id": "b1fb28f1-ae36-42c1-8e3c-59a7c8abc1e1",
   "metadata": {},
   "outputs": [],
   "source": [
    "processed_dir = '../data/processed/'\n",
    "csv_filename = 'demographic.csv'"
   ]
  },
  {
   "cell_type": "code",
   "execution_count": 33,
   "id": "8ce22301-fa5b-4539-918a-44a30cf5d2ac",
   "metadata": {},
   "outputs": [],
   "source": [
    "train_idxs = np.load(os.path.join(processed_dir, 'train_idxs.npy'))\n",
    "test_idxs = np.load(os.path.join(processed_dir, 'test_idxs.npy'))"
   ]
  },
  {
   "cell_type": "code",
   "execution_count": 34,
   "id": "ec94c63d-3981-4391-8a86-0ab306676194",
   "metadata": {},
   "outputs": [],
   "source": [
    "df_train = df_pats.loc[train_idxs].copy()\n",
    "df_test = df_pats.loc[test_idxs].copy()"
   ]
  },
  {
   "cell_type": "code",
   "execution_count": 36,
   "id": "a26abc24-fb5b-4e2d-b6c9-8ebf11f57033",
   "metadata": {},
   "outputs": [],
   "source": [
    "df_train.to_csv(os.path.join(processed_dir, 'train/', csv_filename))\n",
    "df_test.to_csv(os.path.join(processed_dir, 'test/', csv_filename))"
   ]
  },
  {
   "cell_type": "code",
   "execution_count": null,
   "id": "faf44b40-f26c-4992-ac5c-f81d2e25189f",
   "metadata": {},
   "outputs": [],
   "source": []
  }
 ],
 "metadata": {
  "kernelspec": {
   "display_name": "mimic3",
   "language": "python",
   "name": "mimic3"
  },
  "language_info": {
   "codemirror_mode": {
    "name": "ipython",
    "version": 3
   },
   "file_extension": ".py",
   "mimetype": "text/x-python",
   "name": "python",
   "nbconvert_exporter": "python",
   "pygments_lexer": "ipython3",
   "version": "3.10.7"
  }
 },
 "nbformat": 4,
 "nbformat_minor": 5
}
