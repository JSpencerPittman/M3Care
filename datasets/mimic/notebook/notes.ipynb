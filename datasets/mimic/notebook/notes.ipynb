{
 "cells": [
  {
   "cell_type": "markdown",
   "id": "61dd3959-dbec-4f43-ae5e-45be1323966e",
   "metadata": {},
   "source": [
    "## Import modules and load data"
   ]
  },
  {
   "cell_type": "code",
   "execution_count": 1,
   "id": "53d5b454-887c-4108-8100-85caeae93ebf",
   "metadata": {},
   "outputs": [],
   "source": [
    "import pandas as pd\n",
    "import numpy as np\n",
    "import re\n",
    "import os"
   ]
  },
  {
   "cell_type": "code",
   "execution_count": 2,
   "id": "56d7bcb7-8f8c-4caf-858a-9fb509aa7013",
   "metadata": {},
   "outputs": [],
   "source": [
    "df_notes = pd.read_csv('../data/original/NOTEEVENTS.csv', low_memory=False)"
   ]
  },
  {
   "cell_type": "code",
   "execution_count": 3,
   "id": "323807d9-6566-494f-a0af-05832a6acf19",
   "metadata": {},
   "outputs": [],
   "source": [
    "df_icustays = pd.read_csv('../data/original/ICUSTAYS.csv')"
   ]
  },
  {
   "cell_type": "code",
   "execution_count": 4,
   "id": "0c4b305e-118e-4ddc-b09a-0f46c0f4da4c",
   "metadata": {},
   "outputs": [],
   "source": [
    "multi_to_patid = pd.read_csv('../data/processed/multi_to_patid.csv')"
   ]
  },
  {
   "cell_type": "markdown",
   "id": "25aac66f-96f0-479b-b4b4-e7f6e4fe7eaa",
   "metadata": {},
   "source": [
    "## Filter & clean table"
   ]
  },
  {
   "cell_type": "code",
   "execution_count": 5,
   "id": "0864b1b1-6068-4713-95d4-69e02b1833d5",
   "metadata": {},
   "outputs": [],
   "source": [
    "rel_cats = ['SUBJECT_ID','HADM_ID','CHARTDATE','CHARTTIME','CATEGORY','TEXT']\n",
    "df_notes = df_notes[rel_cats]\n",
    "# Why have notes if they have no text\n",
    "df_notes.dropna(subset=['TEXT'], inplace=True)\n",
    "# Make it friendly for datetime comparisons later on\n",
    "df_notes.CHARTDATE = df_notes.CHARTDATE.astype('datetime64[ns]')\n",
    "df_notes.CHARTTIME = df_notes.CHARTTIME.astype('datetime64[ns]')"
   ]
  },
  {
   "cell_type": "markdown",
   "id": "45ca7533-a3d3-4fa6-98f2-0205d251ed4a",
   "metadata": {},
   "source": [
    "Create multi-level index"
   ]
  },
  {
   "cell_type": "code",
   "execution_count": 6,
   "id": "59f48a6d-bf88-402b-8469-1a73bfe7f41a",
   "metadata": {},
   "outputs": [],
   "source": [
    "df_notes.set_index(['SUBJECT_ID','HADM_ID'], inplace=True)"
   ]
  },
  {
   "cell_type": "markdown",
   "id": "7151a652-c926-4ce6-babc-b7130afb73dd",
   "metadata": {},
   "source": [
    "Clean up category names"
   ]
  },
  {
   "cell_type": "code",
   "execution_count": 7,
   "id": "20ed4da8-4c8e-4b8f-9332-b1b7026c2ebc",
   "metadata": {},
   "outputs": [],
   "source": [
    "df_notes.loc[df_notes.CATEGORY == 'Discharge summary', 'CATEGORY'] = 'Discharge'\n",
    "df_notes.loc[df_notes.CATEGORY == 'Physician ', 'CATEGORY'] = 'Physician'\n",
    "df_notes.loc[df_notes.CATEGORY == 'Respiratory ', 'CATEGORY'] = 'Respiratory'"
   ]
  },
  {
   "cell_type": "markdown",
   "id": "d7bbd3b3-9505-475e-a797-a284934b5d4a",
   "metadata": {},
   "source": [
    "Select common categories"
   ]
  },
  {
   "cell_type": "code",
   "execution_count": 8,
   "id": "d0b83dcb-7536-4465-82ee-e98a773f5638",
   "metadata": {},
   "outputs": [],
   "source": [
    "relevant_cats = [\"Discharge\",\"Nursing/other\",\"Radiology\",\"Nursing\",\"ECG\",\"Physician\",\"Echo\",\"Respiratory\",\"Nutrition\",\"General\"]\n",
    "df_notes = df_notes.loc[df_notes.CATEGORY.map(lambda x: x in relevant_cats)]"
   ]
  },
  {
   "cell_type": "markdown",
   "id": "98571397-9a07-487e-aa82-9532b4224be8",
   "metadata": {},
   "source": [
    "## Clean up df_icustays"
   ]
  },
  {
   "cell_type": "code",
   "execution_count": 9,
   "id": "67f73b81-2bb2-4ac3-913e-afd313ec83e5",
   "metadata": {},
   "outputs": [],
   "source": [
    "# Convert from 'object' to 'datetime'\n",
    "df_icustays.INTIME = df_icustays.INTIME.astype('datetime64[ns]')\n",
    "df_icustays.OUTTIME = df_icustays.OUTTIME.astype('datetime64[ns]')\n",
    "# Create date columns in case row in question doesn't have a 'CHARTTIME' for comparison\n",
    "df_icustays['INDATE'] = df_icustays.INTIME.dt.date.astype('datetime64[ns]')\n",
    "df_icustays['OUTDATE'] = df_icustays.OUTTIME.dt.date.astype('datetime64[ns]')\n",
    "# Select only the first ICU stay for a patient across all admissions\n",
    "df_icustays = df_icustays.sort_values(by='INTIME').groupby(['SUBJECT_ID']).first()\n",
    "# Select the minimal information needed to match ICU stays to clinical notes\n",
    "df_icustays = df_icustays[[\"HADM_ID\",\"ICUSTAY_ID\",\"INTIME\",\"INDATE\",\"OUTTIME\",\"OUTDATE\"]]\n",
    "# Impossible to verify notes belong to an ICU stay without a time\n",
    "df_icustays.dropna(subset=['INTIME','OUTTIME'], inplace=True)\n",
    "# Each index is a single patient's first ICU visit (we removed multiple ICU visits)\n",
    "df_icustays.reset_index(inplace=True)\n",
    "df_icustays.set_index(['SUBJECT_ID','HADM_ID','ICUSTAY_ID'], inplace=True)"
   ]
  },
  {
   "cell_type": "markdown",
   "id": "ddde4600-22b2-4481-9b40-a8ce5379cc87",
   "metadata": {},
   "source": [
    "### Limit to first icustay"
   ]
  },
  {
   "cell_type": "code",
   "execution_count": 10,
   "id": "c2e85067-c042-4a8f-8d8b-8213f88e45f7",
   "metadata": {},
   "outputs": [],
   "source": [
    "df_notes_icu = df_icustays.copy()\n",
    "df_notes_icu = df_notes_icu.join(df_notes, how='inner')"
   ]
  },
  {
   "cell_type": "code",
   "execution_count": 11,
   "id": "04c931e7-be88-4603-acb9-9b5f1ef23f6b",
   "metadata": {},
   "outputs": [],
   "source": [
    "# Date comparison\n",
    "date_val = (df_notes_icu.CHARTDATE >= df_notes_icu.INDATE) & (df_notes_icu.CHARTDATE <= df_notes_icu.OUTDATE)\n",
    "# Time comparison\n",
    "time_val = (df_notes_icu.CHARTTIME >= df_notes_icu.INTIME) & (df_notes_icu.CHARTTIME <= df_notes_icu.OUTTIME)\n",
    "# Valid?\n",
    "datetime_val = (df_notes_icu.CHARTTIME.isna() & date_val) | (~df_notes_icu.CHARTTIME.isna() & time_val) \n",
    "# Filter rows\n",
    "df_notes_icu = df_notes_icu.loc[datetime_val]"
   ]
  },
  {
   "cell_type": "markdown",
   "id": "d8bd5674-f3e2-4aab-b822-239e35630c61",
   "metadata": {},
   "source": [
    "### Match Cohorts to pre-selected cohort"
   ]
  },
  {
   "cell_type": "code",
   "execution_count": 12,
   "id": "e4079c6e-3381-4028-a128-9e164fac95c6",
   "metadata": {},
   "outputs": [],
   "source": [
    "multi_to_patid.set_index(['subject_id','hadm_id','icustay_id'], inplace=True)\n",
    "df_notes_icu.index.names = ['subject_id','hadm_id','icustay_id']"
   ]
  },
  {
   "cell_type": "code",
   "execution_count": 13,
   "id": "bb6d4f8f-228b-49d2-b911-83a2bc444688",
   "metadata": {},
   "outputs": [],
   "source": [
    "df_notes_icu = multi_to_patid.join(df_notes_icu, how='left')"
   ]
  },
  {
   "cell_type": "code",
   "execution_count": 14,
   "id": "2dd19b66-2912-478d-9b76-cc96c67a41d6",
   "metadata": {},
   "outputs": [],
   "source": [
    "df_notes_icu.dropna(subset=['INTIME','INDATE'], inplace=True)"
   ]
  },
  {
   "cell_type": "code",
   "execution_count": 15,
   "id": "c0ddbf32-c16f-4fda-a74e-ce2f2f51aa3c",
   "metadata": {},
   "outputs": [],
   "source": [
    "df_notes_icu.reset_index(inplace=True)\n",
    "df_notes_icu.set_index('pat_id', inplace=True)\n",
    "df_notes_icu.drop(['subject_id','hadm_id','icustay_id'], axis=1, inplace=True)"
   ]
  },
  {
   "cell_type": "markdown",
   "id": "27eaef35-a276-4cff-b2d8-5f1a5089f3dc",
   "metadata": {},
   "source": [
    "### Split Static from Time series notes"
   ]
  },
  {
   "cell_type": "code",
   "execution_count": 16,
   "id": "125db491-76ae-465a-a878-b02fdb896ec2",
   "metadata": {},
   "outputs": [],
   "source": [
    "df_notes_static = df_notes_icu.loc[df_notes_icu.CATEGORY == 'Discharge', :].copy()\n",
    "df_notes_ts = df_notes_icu.loc[~(df_notes_icu.CATEGORY == 'Discharge'), :].copy()"
   ]
  },
  {
   "cell_type": "markdown",
   "id": "c342314a-ca6d-4baa-a1f1-4068d2ec654b",
   "metadata": {},
   "source": [
    "### Trim static notes"
   ]
  },
  {
   "cell_type": "code",
   "execution_count": 17,
   "id": "41354071-5b1b-4d12-98f2-4c8bdef8afc4",
   "metadata": {},
   "outputs": [],
   "source": [
    "df_notes_static[\"TEXT_LEN\"] = df_notes_static.TEXT.map(lambda s: len(s))\n",
    "df_notes_static = df_notes_static.sort_values(by='TEXT_LEN', ascending=False).groupby('pat_id').first()"
   ]
  },
  {
   "cell_type": "code",
   "execution_count": 18,
   "id": "6bab7f65-093d-4b81-be77-98994bc38c75",
   "metadata": {},
   "outputs": [],
   "source": [
    "df_notes_static = df_notes_static[['TEXT']]"
   ]
  },
  {
   "cell_type": "markdown",
   "id": "1ac6d3a1-c3bf-410d-889f-03d514eecad8",
   "metadata": {},
   "source": [
    "### Handle ECG and Echo"
   ]
  },
  {
   "cell_type": "code",
   "execution_count": 19,
   "id": "8edb3342-2bd0-4c0d-bb93-bb16bf59c86d",
   "metadata": {},
   "outputs": [],
   "source": [
    "merged_ecg = df_notes_ts.loc[df_notes_ts.CATEGORY == 'ECG'].groupby(['pat_id','CHARTDATE']).TEXT.agg(lambda s: ' [SEP] '.join(s))\n",
    "merged_echo = df_notes_ts.loc[df_notes_ts.CATEGORY == 'Echo'].groupby(['pat_id','CHARTDATE']).TEXT.agg(lambda s: ' [SEP] '.join(s))"
   ]
  },
  {
   "cell_type": "code",
   "execution_count": 20,
   "id": "c81944ff-3b9a-416c-9da7-a416937931d9",
   "metadata": {},
   "outputs": [],
   "source": [
    "df_ecg = df_notes_ts.loc[df_notes_ts.CATEGORY == 'ECG']\n",
    "df_ecg = df_ecg.reset_index().groupby(['pat_id','CHARTDATE']).first()\n",
    "df_ecg.TEXT = merged_ecg.values\n",
    "df_ecg = df_ecg.reset_index().set_index('pat_id')"
   ]
  },
  {
   "cell_type": "code",
   "execution_count": 21,
   "id": "cc78fcaa-52b1-4b9e-a0f4-27febbaa662a",
   "metadata": {},
   "outputs": [],
   "source": [
    "df_echo = df_notes_ts.loc[df_notes_ts.CATEGORY == 'Echo']\n",
    "df_echo = df_echo.reset_index().groupby(['pat_id','CHARTDATE']).first()\n",
    "df_echo.TEXT = merged_echo.values\n",
    "df_echo = df_echo.reset_index().set_index('pat_id')"
   ]
  },
  {
   "cell_type": "code",
   "execution_count": 22,
   "id": "3edc44ec-fc25-47e0-8c3c-ace2885da33c",
   "metadata": {},
   "outputs": [],
   "source": [
    "df_dateonly = pd.concat([df_echo, df_ecg])\n",
    "df_dateonly['hours_in'] = ((df_dateonly.CHARTDATE - df_dateonly.INDATE) / pd.Timedelta(hours=1)).astype(int)"
   ]
  },
  {
   "cell_type": "markdown",
   "id": "9bea197e-2d35-4261-af97-d06ba5e741aa",
   "metadata": {},
   "source": [
    "### Create Hours In attribute"
   ]
  },
  {
   "cell_type": "code",
   "execution_count": 23,
   "id": "f0abbf67-2183-45c4-8a19-d279330756ce",
   "metadata": {},
   "outputs": [],
   "source": [
    "df_notes_ts = df_notes_ts.loc[~df_notes_ts.CATEGORY.map(lambda c: c in ['ECG','Echo']), :]\n",
    "df_notes_ts['hours_in'] = ((df_notes_ts.CHARTTIME - df_notes_ts.INTIME) / pd.Timedelta(hours=1)).astype(int)"
   ]
  },
  {
   "cell_type": "code",
   "execution_count": 24,
   "id": "135029dd-85e2-441b-aa16-9bd23bda9eaa",
   "metadata": {},
   "outputs": [],
   "source": [
    "df_notes_ts = pd.concat([df_notes_ts, df_dateonly])"
   ]
  },
  {
   "cell_type": "markdown",
   "id": "1f038148-c490-4d5b-ae5e-a9e33ee9abf5",
   "metadata": {},
   "source": [
    "### Trim time series"
   ]
  },
  {
   "cell_type": "code",
   "execution_count": 25,
   "id": "b740b265-8e90-42af-89e4-c1afb751dc47",
   "metadata": {},
   "outputs": [],
   "source": [
    "df_notes_ts = df_notes_ts.reset_index().set_index(['pat_id','hours_in'])[['CATEGORY','TEXT']]"
   ]
  },
  {
   "cell_type": "code",
   "execution_count": 26,
   "id": "f7708d8d-f2e6-4ef2-8034-6cc0bd11c805",
   "metadata": {},
   "outputs": [],
   "source": [
    "df_notes_ts.sort_values(by=['pat_id','hours_in'], inplace=True)"
   ]
  },
  {
   "cell_type": "markdown",
   "id": "c65cd10f-5695-44e8-a002-c259c450b210",
   "metadata": {},
   "source": [
    "### One Hot Encode categories"
   ]
  },
  {
   "cell_type": "code",
   "execution_count": 27,
   "id": "87d26430-52df-4b6d-a9f7-7ad389bb8344",
   "metadata": {},
   "outputs": [],
   "source": [
    "df_notes_ts.loc[df_notes_ts.CATEGORY == 'Nursing/other', 'CATEGORY'] = 'Nursing'\n",
    "df_cats = pd.get_dummies(df_notes_ts.CATEGORY, prefix='cat')\n",
    "df_notes_ts = df_notes_ts.join(df_cats).drop('CATEGORY', axis=1)"
   ]
  },
  {
   "cell_type": "markdown",
   "id": "b775ce2f-f4dd-4ce3-8335-9b37271a16d4",
   "metadata": {},
   "source": [
    "### Preprocess text"
   ]
  },
  {
   "cell_type": "code",
   "execution_count": 28,
   "id": "a5b71d74-2d5f-4896-9011-95ff8a3cd784",
   "metadata": {},
   "outputs": [],
   "source": [
    "def prepare_text(t):\n",
    "    t_pre = re.sub('(\\n+|\\.|\\?\\!)', ' [SEP] ', t)\n",
    "    t_pre = re.sub('\\s+', ' ', t_pre)\n",
    "    t_pre = re.sub('\\s(\\[SEP\\]\\s){2,}', ' [SEP] ', t_pre)\n",
    "    t_pre = t_pre.strip()\n",
    "    t_pre = re.sub('[^a-zA-Z0-9_\\[\\] ]', '', t_pre)\n",
    "    \n",
    "    return t_pre"
   ]
  },
  {
   "cell_type": "code",
   "execution_count": 29,
   "id": "a142ed24-eb23-4fd4-b7ea-3f63954ae57d",
   "metadata": {},
   "outputs": [],
   "source": [
    "df_notes_static.TEXT = df_notes_static.TEXT.map(lambda t: t if pd.isnull(t) else prepare_text(t))"
   ]
  },
  {
   "cell_type": "code",
   "execution_count": 30,
   "id": "a395d32b-c668-40e7-a705-0422086d4cbf",
   "metadata": {},
   "outputs": [],
   "source": [
    "df_notes_ts.TEXT = df_notes_ts.TEXT.map(lambda t: t if pd.isnull(t) else prepare_text(t))"
   ]
  },
  {
   "cell_type": "markdown",
   "id": "37fdadcc-e839-42b5-b11c-43808879a6bc",
   "metadata": {},
   "source": [
    "### Split & Save Results"
   ]
  },
  {
   "cell_type": "code",
   "execution_count": 31,
   "id": "3c4ac9ee-6845-4793-8618-afa085d7cc79",
   "metadata": {},
   "outputs": [],
   "source": [
    "processed_dir = '../data/processed/'\n",
    "csv_static_filename = 'notes_static.csv'\n",
    "csv_ts_filename = 'notes_ts.csv'"
   ]
  },
  {
   "cell_type": "code",
   "execution_count": 32,
   "id": "46300398-54d3-469d-b5df-18381eac8085",
   "metadata": {},
   "outputs": [],
   "source": [
    "train_idxs = set(np.load(os.path.join(processed_dir, 'train_idxs.npy')))\n",
    "test_idxs = set(np.load(os.path.join(processed_dir, 'test_idxs.npy')))"
   ]
  },
  {
   "cell_type": "code",
   "execution_count": 33,
   "id": "7f1dfe79-2c94-4a6d-88b7-ff489ccd2b5a",
   "metadata": {},
   "outputs": [],
   "source": [
    "static_idxs = set(df_notes_static.index.values)\n",
    "ts_idxs = set(df_notes_ts.index.get_level_values(0).values)"
   ]
  },
  {
   "cell_type": "code",
   "execution_count": 34,
   "id": "084c3aee-defb-4aea-bc2f-dc777b815683",
   "metadata": {},
   "outputs": [],
   "source": [
    "train_idxs_static = list(static_idxs & train_idxs)\n",
    "test_idxs_static = list(static_idxs & test_idxs)"
   ]
  },
  {
   "cell_type": "code",
   "execution_count": 35,
   "id": "7085bb36-493d-41fd-91bf-1b4abd911bde",
   "metadata": {},
   "outputs": [],
   "source": [
    "train_idxs_ts = list(ts_idxs & train_idxs)\n",
    "test_idxs_ts = list(ts_idxs & test_idxs)"
   ]
  },
  {
   "cell_type": "code",
   "execution_count": 36,
   "id": "b67ac55b-5000-4e3b-b350-5640c09d6499",
   "metadata": {},
   "outputs": [],
   "source": [
    "df_static_train = df_notes_static.loc[train_idxs_static].copy()\n",
    "df_static_test = df_notes_static.loc[test_idxs_static].copy()"
   ]
  },
  {
   "cell_type": "code",
   "execution_count": 37,
   "id": "da01832d-7d7e-42f4-8a82-1a2c28cb46fd",
   "metadata": {},
   "outputs": [],
   "source": [
    "df_ts_train = df_notes_ts.loc[train_idxs_ts].copy()\n",
    "df_ts_test = df_notes_ts.loc[test_idxs_ts].copy()"
   ]
  },
  {
   "cell_type": "code",
   "execution_count": 38,
   "id": "dbd574fc-7653-46ac-88e5-abd68b93de7e",
   "metadata": {},
   "outputs": [],
   "source": [
    "df_static_train.to_csv(os.path.join(processed_dir, 'train/', csv_static_filename))\n",
    "df_static_test.to_csv(os.path.join(processed_dir, 'test/', csv_static_filename))"
   ]
  },
  {
   "cell_type": "code",
   "execution_count": 39,
   "id": "6f5174d2-c96d-4e91-9b41-1cf159923b8a",
   "metadata": {},
   "outputs": [],
   "source": [
    "df_ts_train.to_csv(os.path.join(processed_dir, 'train/', csv_ts_filename))\n",
    "df_ts_test.to_csv(os.path.join(processed_dir, 'test/', csv_ts_filename))"
   ]
  },
  {
   "cell_type": "code",
   "execution_count": null,
   "id": "1f8cabe9-59b2-408f-9cdb-269a720282b3",
   "metadata": {},
   "outputs": [],
   "source": []
  }
 ],
 "metadata": {
  "kernelspec": {
   "display_name": "mimic3",
   "language": "python",
   "name": "mimic3"
  },
  "language_info": {
   "codemirror_mode": {
    "name": "ipython",
    "version": 3
   },
   "file_extension": ".py",
   "mimetype": "text/x-python",
   "name": "python",
   "nbconvert_exporter": "python",
   "pygments_lexer": "ipython3",
   "version": "3.10.7"
  }
 },
 "nbformat": 4,
 "nbformat_minor": 5
}
