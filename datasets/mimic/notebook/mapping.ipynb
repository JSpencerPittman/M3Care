{
 "cells": [
  {
   "cell_type": "markdown",
   "id": "c001d043-afa5-4183-9e24-cea102a893fd",
   "metadata": {},
   "source": [
    "## Import modules and data"
   ]
  },
  {
   "cell_type": "code",
   "execution_count": 1,
   "id": "5b224525-5189-4e86-92a7-a77414878d1d",
   "metadata": {},
   "outputs": [],
   "source": [
    "import pandas as pd\n",
    "import numpy as np\n",
    "from sklearn.model_selection import train_test_split\n",
    "import math"
   ]
  },
  {
   "cell_type": "code",
   "execution_count": 2,
   "id": "2bf3b25b-c8cb-44df-b41a-ec12b2053270",
   "metadata": {},
   "outputs": [],
   "source": [
    "filename = '../data/original/all_hourly_data.h5'\n",
    "df_pats = pd.read_hdf(filename, 'patients')"
   ]
  },
  {
   "cell_type": "code",
   "execution_count": 3,
   "id": "010ec266-5536-4146-8887-32c5bda09917",
   "metadata": {},
   "outputs": [],
   "source": [
    "num_patients = df_pats.shape[0]"
   ]
  },
  {
   "cell_type": "markdown",
   "id": "47686133-0e3b-484b-b49c-534c45f9f46e",
   "metadata": {},
   "source": [
    "## Create Mapping (Multi-Index -> Key)"
   ]
  },
  {
   "cell_type": "code",
   "execution_count": 4,
   "id": "6b65e517-8e1d-4dab-9523-7231607a8b49",
   "metadata": {},
   "outputs": [],
   "source": [
    "df_pats[\"pat_id\"] = np.arange(0, num_patients)"
   ]
  },
  {
   "cell_type": "code",
   "execution_count": 5,
   "id": "8a362fce-cbde-4b61-a0a1-9fabb01e5e2f",
   "metadata": {},
   "outputs": [],
   "source": [
    "df_map = df_pats[[\"pat_id\"]]"
   ]
  },
  {
   "cell_type": "code",
   "execution_count": 6,
   "id": "d2f052ba-7765-4380-ac0f-5b628bb87c4d",
   "metadata": {},
   "outputs": [],
   "source": [
    "df_map.to_csv('../data/processed/multi_to_patid.csv')"
   ]
  },
  {
   "cell_type": "markdown",
   "id": "9f4b481a-9c61-4b85-98ed-c91cb43a7ae3",
   "metadata": {},
   "source": [
    "## Create Mappings for Train/Val/Test"
   ]
  },
  {
   "cell_type": "code",
   "execution_count": 7,
   "id": "f90771d1-11ff-41e9-b4fb-6a0667a95b97",
   "metadata": {},
   "outputs": [],
   "source": [
    "RANDOM_SEED = 42\n",
    "TRAIN_PROP  = 0.7\n",
    "VAL_PROP    = 0.15\n",
    "# TEST_PROP = 1 - TRAIN_PROP - VAL_PROP"
   ]
  },
  {
   "cell_type": "code",
   "execution_count": 8,
   "id": "c4ac0cb3-bb2e-4861-8ca5-66d4ac50d9cc",
   "metadata": {},
   "outputs": [],
   "source": [
    "idxs = np.arange(0, num_patients)\n",
    "np.random.seed(RANDOM_SEED)\n",
    "np.random.shuffle(idxs)"
   ]
  },
  {
   "cell_type": "code",
   "execution_count": null,
   "id": "4298c69d-8d2f-4f45-aa4c-08dd54bad917",
   "metadata": {},
   "outputs": [],
   "source": [
    "split1 = math.ceil()"
   ]
  },
  {
   "cell_type": "code",
   "execution_count": 9,
   "id": "5477e5f9-98e0-44c0-abff-b01ed4f146e2",
   "metadata": {},
   "outputs": [],
   "source": [
    "train_idxs = idxs[: math.ceil(TRAIN_PROP * num_patients)]\n",
    "val_idxs   = idxs[math.ceil(TRAIN_PROP * num_patients): math.ceil(TRAIN_PROP + VAL_PROP * num_patients)]\n",
    "test_idxs  = idxs[math.ceil(TRAIN_PROP+VAL_PROP * num_patients):]"
   ]
  },
  {
   "cell_type": "code",
   "execution_count": 43,
   "id": "3c1ccc77-ed29-42d5-bdd8-aad615d77b28",
   "metadata": {},
   "outputs": [],
   "source": [
    "np.save('../data/processed/train_idxs.npy', train_idxs)\n",
    "np.save('../data/processed/val_idxs.npy', val_idxs)\n",
    "np.save('../data/processed/test_idxs.npy', test_idxs)"
   ]
  },
  {
   "cell_type": "code",
   "execution_count": 19,
   "id": "0e0cc6f2-7db5-4b52-8cbc-04877653771e",
   "metadata": {},
   "outputs": [
    {
     "data": {
      "text/plain": [
       "24131"
      ]
     },
     "execution_count": 19,
     "metadata": {},
     "output_type": "execute_result"
    }
   ],
   "source": [
    "math.ceil(TRAIN_PROP * num_patients)"
   ]
  },
  {
   "cell_type": "code",
   "execution_count": 20,
   "id": "27cf22e0-5d36-4be2-92a0-3ebd1e69692b",
   "metadata": {},
   "outputs": [
    {
     "data": {
      "text/plain": [
       "5172"
      ]
     },
     "execution_count": 20,
     "metadata": {},
     "output_type": "execute_result"
    }
   ],
   "source": [
    "math.ceil(TRAIN_PROP + VAL_PROP * num_patients)"
   ]
  },
  {
   "cell_type": "code",
   "execution_count": null,
   "id": "a092552e-a8a3-439e-9132-e98750e9c89a",
   "metadata": {},
   "outputs": [],
   "source": []
  }
 ],
 "metadata": {
  "kernelspec": {
   "display_name": "mimic3",
   "language": "python",
   "name": "mimic3"
  },
  "language_info": {
   "codemirror_mode": {
    "name": "ipython",
    "version": 3
   },
   "file_extension": ".py",
   "mimetype": "text/x-python",
   "name": "python",
   "nbconvert_exporter": "python",
   "pygments_lexer": "ipython3",
   "version": "3.10.7"
  }
 },
 "nbformat": 4,
 "nbformat_minor": 5
}
