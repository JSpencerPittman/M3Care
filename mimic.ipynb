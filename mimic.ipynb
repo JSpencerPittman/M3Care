{
 "cells": [
  {
   "cell_type": "markdown",
   "metadata": {},
   "source": [
    "# MIMIC-III M3Care Baseline"
   ]
  },
  {
   "cell_type": "markdown",
   "metadata": {},
   "source": [
    "### Initialize Datasets"
   ]
  },
  {
   "cell_type": "code",
   "execution_count": 111,
   "metadata": {},
   "outputs": [],
   "source": [
    "from pathlib import Path\n",
    "\n",
    "from mimic.datasets.mimic import MimicDataset\n",
    "\n",
    "PROCESSED_DIR = Path('./mimic/data/processed')\n",
    "\n",
    "train_dataset_paths = {\n",
    "    'demographic': PROCESSED_DIR / 'train/demographic.csv',\n",
    "    'vitals': PROCESSED_DIR / 'train/vitals.csv',\n",
    "    'interventions': PROCESSED_DIR / 'train/interventions.csv',\n",
    "    'static_notes': PROCESSED_DIR / 'train/static_notes_bert.h5',\n",
    "    'ts_notes': PROCESSED_DIR / 'train/ts_notes_bert.h5',\n",
    "    'labels': PROCESSED_DIR / 'train/labels.csv'\n",
    "}\n",
    "\n",
    "test_dataset_paths = {\n",
    "    'demographic': PROCESSED_DIR / 'test/demographic.csv',\n",
    "    'vitals': PROCESSED_DIR / 'test/vitals.csv',\n",
    "    'interventions': PROCESSED_DIR / 'test/interventions.csv',\n",
    "    'static_notes': PROCESSED_DIR / 'test/static_notes_bert.h5',\n",
    "    'ts_notes': PROCESSED_DIR / 'test/ts_notes_bert.h5',\n",
    "    'labels': PROCESSED_DIR / 'test/labels.csv'\n",
    "}\n",
    "\n",
    "train_auxillary_paths = {\n",
    "    'pat_ids': PROCESSED_DIR / 'test_idxs.npy',\n",
    "}\n",
    "\n",
    "test_auxillary_paths = {\n",
    "    'pat_ids': PROCESSED_DIR / 'test_idxs.npy',\n",
    "}\n",
    "\n",
    "train_ds = MimicDataset(train_dataset_paths, train_auxillary_paths)\n",
    "test_ds = MimicDataset(test_dataset_paths, test_auxillary_paths)"
   ]
  },
  {
   "cell_type": "markdown",
   "metadata": {},
   "source": [
    "### Initialize Unimodal Models"
   ]
  },
  {
   "cell_type": "code",
   "execution_count": 112,
   "metadata": {},
   "outputs": [],
   "source": [
    "from m3care.m3care import Modal, M3Care\n",
    "\n",
    "EMB_DIM = 512\n",
    "OUT_DIM = 2\n",
    "DROPOUT = 0.3\n",
    "\n",
    "DEM_INPUT = 18\n",
    "\n",
    "VIT_INPUT = 104\n",
    "VIT_TIME_DIM = 150\n",
    "\n",
    "ITV_INPUT = 14\n",
    "ITV_TIME_DIM = 150\n",
    "\n",
    "NOTES_TOK_DIM = 16\n",
    "NOTES_VOCAB_SIZE = 5000\n",
    "NOTES_NUM_HEADS = 8\n",
    "\n",
    "NST_INPUT = 768\n",
    "NST_WORD_LIM = 10000\n",
    "\n",
    "NTS_INPUT = 782\n",
    "NTS_TIME_DIM = 128\n",
    "NTS_WORD_LIM = 5000"
   ]
  },
  {
   "cell_type": "code",
   "execution_count": 113,
   "metadata": {},
   "outputs": [],
   "source": [
    "from mimic.models.vector import MLP\n",
    "from mimic.models.sequential import SequentialEmbedder\n",
    "\n",
    "dem_model = MLP(in_dim=DEM_INPUT,\n",
    "                hidden_dim=[128,192,256],\n",
    "                out_dim=EMB_DIM, \n",
    "                bias=True,\n",
    "                relu=True,\n",
    "                norm=True)\n",
    "\n",
    "vit_model = SequentialEmbedder(feat_dim=VIT_INPUT,\n",
    "                             embed_dim=EMB_DIM,\n",
    "                             max_len=VIT_TIME_DIM,\n",
    "                             dropout=DROPOUT)\n",
    "\n",
    "itv_model = SequentialEmbedder(feat_dim=ITV_INPUT,\n",
    "                             embed_dim=EMB_DIM,\n",
    "                             max_len=ITV_TIME_DIM,\n",
    "                             dropout=DROPOUT)\n",
    "\n",
    "nst_model = MLP(in_dim=NST_INPUT,\n",
    "                hidden_dim=[1024, 768, 512],\n",
    "                out_dim=EMB_DIM,\n",
    "                bias=True,\n",
    "                relu=True,\n",
    "                norm=True)\n",
    "\n",
    "nts_model = SequentialEmbedder(feat_dim=NTS_INPUT,\n",
    "                               embed_dim=EMB_DIM,\n",
    "                               max_len=NTS_TIME_DIM,\n",
    "                               dropout=DROPOUT,\n",
    "                               mlp_hidden=[1024, 768, 512])"
   ]
  },
  {
   "cell_type": "markdown",
   "metadata": {},
   "source": [
    "## Training Setup"
   ]
  },
  {
   "cell_type": "code",
   "execution_count": 124,
   "metadata": {},
   "outputs": [],
   "source": [
    "import torch\n",
    "\n",
    "KFOLDS = 5\n",
    "BATCH_SIZE = 32\n",
    "LEARNING_RATE = 1e-3\n",
    "EPOCHS = 5\n",
    "\n",
    "device = 'cuda' if torch.cuda.is_available() else 'cpu'"
   ]
  },
  {
   "cell_type": "markdown",
   "metadata": {},
   "source": [
    "Initalize data loaders"
   ]
  },
  {
   "cell_type": "code",
   "execution_count": 125,
   "metadata": {},
   "outputs": [],
   "source": [
    "from util.kfold import KFoldDatasetLoader\n",
    "\n",
    "train_loader = KFoldDatasetLoader(train_ds, KFOLDS, BATCH_SIZE)\n",
    "test_loader = KFoldDatasetLoader(test_ds, KFOLDS, BATCH_SIZE)"
   ]
  },
  {
   "cell_type": "markdown",
   "metadata": {},
   "source": [
    "Initialize model"
   ]
  },
  {
   "cell_type": "code",
   "execution_count": 126,
   "metadata": {},
   "outputs": [
    {
     "name": "stderr",
     "output_type": "stream",
     "text": [
      "c:\\Users\\Jason\\Work\\M3Care\\env\\lib\\site-packages\\torch\\nn\\modules\\transformer.py:307: UserWarning: enable_nested_tensor is True, but self.use_nested_tensor is False because encoder_layer.self_attn.num_heads is odd\n",
      "  warnings.warn(f\"enable_nested_tensor is True, but self.use_nested_tensor is False because {why_not_sparsity_fast_path}\")\n"
     ]
    }
   ],
   "source": [
    "modals = [\n",
    "    Modal('demographic', dem_model, False, None),   \n",
    "    Modal('vitals', vit_model, True, VIT_TIME_DIM),\n",
    "    Modal('interventions', itv_model, True, ITV_TIME_DIM),\n",
    "    Modal('static_notes', nst_model, True, None),\n",
    "    Modal('ts_notes', nts_model, True, NTS_TIME_DIM)\n",
    "]\n",
    "\n",
    "model = M3Care(modals, EMB_DIM, OUT_DIM, device)"
   ]
  },
  {
   "cell_type": "markdown",
   "metadata": {},
   "source": [
    "Loss function"
   ]
  },
  {
   "cell_type": "code",
   "execution_count": 127,
   "metadata": {},
   "outputs": [],
   "source": [
    "loss = torch.nn.BCEWithLogitsLoss()"
   ]
  },
  {
   "cell_type": "markdown",
   "metadata": {},
   "source": [
    "Optimizer"
   ]
  },
  {
   "cell_type": "code",
   "execution_count": 128,
   "metadata": {},
   "outputs": [],
   "source": [
    "optimizer = torch.optim.Adam(model.parameters(), lr=LEARNING_RATE)"
   ]
  },
  {
   "cell_type": "markdown",
   "metadata": {},
   "source": [
    "## Training Loop"
   ]
  },
  {
   "cell_type": "code",
   "execution_count": 109,
   "metadata": {},
   "outputs": [
    {
     "data": {
      "text/plain": [
       "(None, None)"
      ]
     },
     "execution_count": 109,
     "metadata": {},
     "output_type": "execute_result"
    }
   ],
   "source": [
    "# Loop through each epoch\n",
    "for epoch in range(EPOCHS):\n",
    "\n",
    "    # Loop through each set of kfolds\n",
    "    while not train_loader.end:\n",
    "        # Loop through each training batch\n",
    "        while not train_loader.train_round_end:\n",
    "            pass\n",
    "\n",
    "        while not train_loader.val_round_end:\n",
    "            pass\n",
    "\n",
    "    train_loader.reset()"
   ]
  }
 ],
 "metadata": {
  "kernelspec": {
   "display_name": "env",
   "language": "python",
   "name": "python3"
  },
  "language_info": {
   "codemirror_mode": {
    "name": "ipython",
    "version": 3
   },
   "file_extension": ".py",
   "mimetype": "text/x-python",
   "name": "python",
   "nbconvert_exporter": "python",
   "pygments_lexer": "ipython3",
   "version": "3.10.7"
  }
 },
 "nbformat": 4,
 "nbformat_minor": 2
}
