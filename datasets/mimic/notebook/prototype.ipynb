{
 "cells": [
  {
   "cell_type": "code",
   "execution_count": 1,
   "id": "62e4dfcc-9748-49fd-9d08-bde0e977ceee",
   "metadata": {},
   "outputs": [],
   "source": [
    "import torch\n",
    "from torch.utils.data import Dataset\n",
    "from torchvision import datasets\n",
    "from torchvision.transforms import ToTensor\n",
    "import matplotlib.pyplot as plt"
   ]
  },
  {
   "cell_type": "code",
   "execution_count": 32,
   "id": "73c85e10-7186-4f00-a9c3-7786a37258d9",
   "metadata": {},
   "outputs": [],
   "source": [
    "from torch.utils.data import Dataset\n",
    "from enum import Enum\n",
    "import pandas as pd\n",
    "import numpy as np\n",
    "import os\n",
    "\n",
    "\n",
    "class MIMICDataset(Dataset):\n",
    "    def __init__(self, processed_dir: str, train: bool):\n",
    "        self.processed_dir = processed_dir\n",
    "\n",
    "        if train:\n",
    "            self.data_path = os.path.join(self.processed_dir, 'train/')\n",
    "            self.index_path = os.path.join(\n",
    "                self.processed_dir, 'train_idxs.npy')\n",
    "        else:\n",
    "            self.data_path = os.path.join(self.processed_dir, 'test/')\n",
    "            self.index_path = os.path.join(self.processed_dir, 'test_idxs.npy')\n",
    "\n",
    "        try:\n",
    "            self.idxs = np.load(self.index_path)\n",
    "            self.demographics = pd.read_csv(\n",
    "                os.path.join(self.data_path, 'demographic.csv'))\n",
    "            self.vitals = pd.read_csv(\n",
    "                os.path.join(self.data_path, 'vitals.csv'))\n",
    "            self.interventions = pd.read_csv(\n",
    "                os.path.join(self.data_path, 'interventions.csv'))\n",
    "            self.notes_static = pd.read_csv(\n",
    "                os.path.join(self.data_path, 'notes_static.csv'))\n",
    "            self.notes_ts = pd.read_csv(\n",
    "                os.path.join(self.data_path, 'notes_ts.csv'))\n",
    "        except FileNotFoundError as e:\n",
    "            print(\"Make sure data has been processed: \", e)\n",
    "\n",
    "        self.demographics.set_index('pat_id', inplace=True)\n",
    "        self.vitals.set_index(['pat_id', 'hours_in'], inplace=True)\n",
    "        self.interventions.set_index(['pat_id', 'hours_in'], inplace=True)\n",
    "        self.notes_static.set_index('pat_id', inplace=True)\n",
    "        self.notes_ts.set_index(['pat_id', 'hours_in'], inplace=True)\n",
    "\n",
    "        self.nst_ids = set(self.notes_static.index.values)\n",
    "        self.nts_ids = set(self.notes_ts.index.get_level_values(0).values)\n",
    "\n",
    "    def __len__(self):\n",
    "        return len(self.idxs)\n",
    "\n",
    "    def __getitem__(self, idx):\n",
    "        pat_id = self.idxs[idx]\n",
    "        demographic = self.demographics.loc[pat_id]\n",
    "\n",
    "        dem = self.demographics.loc[pat_id]\n",
    "        vit = self.vitals.loc[pat_id]\n",
    "        itv = self.interventions.loc[pat_id]\n",
    "\n",
    "        nst = self.notes_static.loc[pat_id] if pat_id in self.nst_ids else None\n",
    "        nts = self.notes_ts.loc[pat_id] if pat_id in self.nts_ids else None\n",
    "\n",
    "        return dem, vit, itv, nst, nts\n"
   ]
  },
  {
   "cell_type": "code",
   "execution_count": 33,
   "id": "71f0ab32-bab8-445f-b466-e61af4dd2177",
   "metadata": {},
   "outputs": [],
   "source": [
    "train_ds = MIMICDataset('../data/processed', True)\n",
    "test_ds = MIMICDataset('../data/processed', False)"
   ]
  },
  {
   "cell_type": "code",
   "execution_count": 34,
   "id": "4c928a3b-056b-4f89-aaeb-78f6c612c81b",
   "metadata": {},
   "outputs": [],
   "source": [
    "BATCH_SIZE = 32"
   ]
  },
  {
   "cell_type": "code",
   "execution_count": 36,
   "id": "c38b3211-f96f-439c-8a41-3ea6eefa288d",
   "metadata": {},
   "outputs": [],
   "source": [
    "from torch.utils.data import DataLoader\n",
    "\n",
    "train_dataloader = DataLoader(train_ds, batch_size=BATCH_SIZE, shuffle=True)\n",
    "test_dataloader = DataLoader(test_ds, batch_size=BATCH_SIZE, shuffle=True)"
   ]
  },
  {
   "cell_type": "code",
   "execution_count": 27,
   "id": "738cf66a-fc68-48ee-aad3-58364bfa671c",
   "metadata": {},
   "outputs": [],
   "source": []
  },
  {
   "cell_type": "code",
   "execution_count": null,
   "id": "deb78843-d0a6-4e09-8872-473b9c8bb040",
   "metadata": {},
   "outputs": [],
   "source": []
  }
 ],
 "metadata": {
  "kernelspec": {
   "display_name": "mimic3",
   "language": "python",
   "name": "mimic3"
  },
  "language_info": {
   "codemirror_mode": {
    "name": "ipython",
    "version": 3
   },
   "file_extension": ".py",
   "mimetype": "text/x-python",
   "name": "python",
   "nbconvert_exporter": "python",
   "pygments_lexer": "ipython3",
   "version": "3.10.7"
  }
 },
 "nbformat": 4,
 "nbformat_minor": 5
}
